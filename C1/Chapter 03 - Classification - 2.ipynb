{
 "cells": [
  {
   "cell_type": "markdown",
   "metadata": {
    "deletable": false,
    "editable": false,
    "nbgrader": {
     "cell_type": "markdown",
     "checksum": "c31a6506a704375dfc5d5f00879893f6",
     "grade": false,
     "grade_id": "cell-e65bb462234be4b0",
     "locked": true,
     "schema_version": 3,
     "solution": false,
     "task": false
    }
   },
   "source": [
    "# Classification (02)\n",
    "\n",
    "In this lab we would be going through:\n",
    "- Naive Bayes\n",
    "- K-Nearest Neighbours\n",
    "- Poisson Regression\n",
    "\n",
    "For this lab, we would examining the `Smarket` data set that contains a number of numeric variables plus a variable called `Direction` which has the two labels `Up` and `Down`\n",
    "\n",
    "Our goal is to predict `Direction` using the other features"
   ]
  },
  {
   "cell_type": "code",
   "execution_count": 1,
   "metadata": {
    "deletable": false,
    "editable": false,
    "nbgrader": {
     "cell_type": "code",
     "checksum": "815a350c1145eb6a91cdf9c21a956fb4",
     "grade": false,
     "grade_id": "cell-a0ffd77351a1051a",
     "locked": true,
     "schema_version": 3,
     "solution": false,
     "task": false
    }
   },
   "outputs": [],
   "source": [
    "library(e1071)\n",
    "library(ISLR2)\n",
    "attach(Smarket)"
   ]
  },
  {
   "cell_type": "code",
   "execution_count": 2,
   "metadata": {
    "deletable": false,
    "editable": false,
    "nbgrader": {
     "cell_type": "code",
     "checksum": "8820b28e7495e0fdbb5abb3597d6adca",
     "grade": false,
     "grade_id": "cell-f81983f503b4289b",
     "locked": true,
     "schema_version": 3,
     "solution": false,
     "task": false
    }
   },
   "outputs": [
    {
     "data": {
      "text/html": [
       "<style>\n",
       ".list-inline {list-style: none; margin:0; padding: 0}\n",
       ".list-inline>li {display: inline-block}\n",
       ".list-inline>li:not(:last-child)::after {content: \"\\00b7\"; padding: 0 .5ex}\n",
       "</style>\n",
       "<ol class=list-inline><li>252</li><li>9</li></ol>\n"
      ],
      "text/latex": [
       "\\begin{enumerate*}\n",
       "\\item 252\n",
       "\\item 9\n",
       "\\end{enumerate*}\n"
      ],
      "text/markdown": [
       "1. 252\n",
       "2. 9\n",
       "\n",
       "\n"
      ],
      "text/plain": [
       "[1] 252   9"
      ]
     },
     "metadata": {},
     "output_type": "display_data"
    },
    {
     "data": {
      "text/html": [
       "<style>\n",
       ".list-inline {list-style: none; margin:0; padding: 0}\n",
       ".list-inline>li {display: inline-block}\n",
       ".list-inline>li:not(:last-child)::after {content: \"\\00b7\"; padding: 0 .5ex}\n",
       "</style>\n",
       "<ol class=list-inline><li>998</li><li>9</li></ol>\n"
      ],
      "text/latex": [
       "\\begin{enumerate*}\n",
       "\\item 998\n",
       "\\item 9\n",
       "\\end{enumerate*}\n"
      ],
      "text/markdown": [
       "1. 998\n",
       "2. 9\n",
       "\n",
       "\n"
      ],
      "text/plain": [
       "[1] 998   9"
      ]
     },
     "metadata": {},
     "output_type": "display_data"
    }
   ],
   "source": [
    "train <- (Year < 2005)\n",
    "\n",
    "# Test data\n",
    "Smarket.test <- Smarket[!train, ]\n",
    "dim(Smarket.test)\n",
    "\n",
    "#Train data\n",
    "Smarket.train = Smarket[train, ]\n",
    "dim(Smarket.train)\n",
    "\n",
    "Direction.2005 = Direction[!train]"
   ]
  },
  {
   "cell_type": "markdown",
   "metadata": {
    "deletable": false,
    "editable": false,
    "nbgrader": {
     "cell_type": "markdown",
     "checksum": "8d490a29a347294983a696770fd6a8e1",
     "grade": false,
     "grade_id": "cell-5f24607b227e22d0",
     "locked": true,
     "schema_version": 3,
     "solution": false,
     "task": false
    }
   },
   "source": [
    "## Naive Bayes\n",
    "\n",
    "We are using the `naiveBayes()` function, which is part of the e1071 naiveBayes() library. \n",
    "\n",
    "By default, this implementation of the naive Bayes classifier models each quantitative feature using a Gaussian distribution. However, a kernel density method can also be used to estimate the distributions."
   ]
  },
  {
   "cell_type": "code",
   "execution_count": 3,
   "metadata": {
    "deletable": false,
    "editable": false,
    "nbgrader": {
     "cell_type": "code",
     "checksum": "64b6c6e73f8add3e6f6127f813f473ae",
     "grade": false,
     "grade_id": "cell-ded7a0c52336ec2b",
     "locked": true,
     "schema_version": 3,
     "solution": false,
     "task": false
    }
   },
   "outputs": [
    {
     "data": {
      "text/plain": [
       "\n",
       "Naive Bayes Classifier for Discrete Predictors\n",
       "\n",
       "Call:\n",
       "naiveBayes.default(x = X, y = Y, laplace = laplace)\n",
       "\n",
       "A-priori probabilities:\n",
       "Y\n",
       "    Down       Up \n",
       "0.491984 0.508016 \n",
       "\n",
       "Conditional probabilities:\n",
       "      Lag1\n",
       "Y             [,1]     [,2]\n",
       "  Down  0.04279022 1.227446\n",
       "  Up   -0.03954635 1.231668\n",
       "\n",
       "      Lag2\n",
       "Y             [,1]     [,2]\n",
       "  Down  0.03389409 1.239191\n",
       "  Up   -0.03132544 1.220765\n"
      ]
     },
     "metadata": {},
     "output_type": "display_data"
    }
   ],
   "source": [
    "nb.fit <- naiveBayes(Direction ~ Lag1 + Lag2, data = Smarket,\n",
    "subset = train)\n",
    "nb.fit"
   ]
  },
  {
   "cell_type": "markdown",
   "metadata": {
    "deletable": false,
    "editable": false,
    "nbgrader": {
     "cell_type": "markdown",
     "checksum": "5e09dd8f86b3098d4e3de79c9463367c",
     "grade": false,
     "grade_id": "cell-fb48847ce83abe4d",
     "locked": true,
     "schema_version": 3,
     "solution": false,
     "task": false
    }
   },
   "source": [
    "The output contains the estimated mean and standard deviation for each variable in each class."
   ]
  },
  {
   "cell_type": "code",
   "execution_count": 4,
   "metadata": {
    "deletable": false,
    "editable": false,
    "nbgrader": {
     "cell_type": "code",
     "checksum": "61e62cd09a500e089bea5e8f7243c3b5",
     "grade": false,
     "grade_id": "cell-c8e8d34e985494b1",
     "locked": true,
     "schema_version": 3,
     "solution": false,
     "task": false
    }
   },
   "outputs": [
    {
     "data": {
      "text/html": [
       "0.0427902240325866"
      ],
      "text/latex": [
       "0.0427902240325866"
      ],
      "text/markdown": [
       "0.0427902240325866"
      ],
      "text/plain": [
       "[1] 0.04279022"
      ]
     },
     "metadata": {},
     "output_type": "display_data"
    },
    {
     "data": {
      "text/html": [
       "1.22744562820108"
      ],
      "text/latex": [
       "1.22744562820108"
      ],
      "text/markdown": [
       "1.22744562820108"
      ],
      "text/plain": [
       "[1] 1.227446"
      ]
     },
     "metadata": {},
     "output_type": "display_data"
    }
   ],
   "source": [
    "mean(Lag1[train][Direction[train] == 'Down'])\n",
    "sd(Lag1[train][Direction[train] == 'Down'])"
   ]
  },
  {
   "cell_type": "code",
   "execution_count": 5,
   "metadata": {
    "deletable": false,
    "editable": false,
    "nbgrader": {
     "cell_type": "code",
     "checksum": "00a0891892accd868ec27495e5f8f43f",
     "grade": false,
     "grade_id": "cell-e0c1337796744a37",
     "locked": true,
     "schema_version": 3,
     "solution": false,
     "task": false
    }
   },
   "outputs": [
    {
     "data": {
      "text/plain": [
       "        Direction.2005\n",
       "nb.class Down  Up\n",
       "    Down   28  20\n",
       "    Up     83 121"
      ]
     },
     "metadata": {},
     "output_type": "display_data"
    },
    {
     "data": {
      "text/html": [
       "0.591269841269841"
      ],
      "text/latex": [
       "0.591269841269841"
      ],
      "text/markdown": [
       "0.591269841269841"
      ],
      "text/plain": [
       "[1] 0.5912698"
      ]
     },
     "metadata": {},
     "output_type": "display_data"
    }
   ],
   "source": [
    "nb.class = predict(nb.fit, Smarket.test)\n",
    "table(nb.class, Direction.2005)\n",
    "\n",
    "mean(nb.class == Direction.2005)"
   ]
  },
  {
   "cell_type": "markdown",
   "metadata": {
    "deletable": false,
    "editable": false,
    "nbgrader": {
     "cell_type": "markdown",
     "checksum": "373a63a8070c01b5e95d2167acf7ee0e",
     "grade": false,
     "grade_id": "cell-23d6181ea224a1b9",
     "locked": true,
     "schema_version": 3,
     "solution": false,
     "task": false
    }
   },
   "source": [
    "`Naive Bayes` performs very well on this data, with accurate predictions over `59%` of the time. This is slightly worse than `QDA`, but much better than `LDA`.\n",
    "\n",
    "The `predict()` function can also generate estimates of the probability that each observation belongs to a particular class"
   ]
  },
  {
   "cell_type": "code",
   "execution_count": 6,
   "metadata": {
    "deletable": false,
    "editable": false,
    "nbgrader": {
     "cell_type": "code",
     "checksum": "0b57c1f907b91dcf59b083527499b6d1",
     "grade": false,
     "grade_id": "cell-cfd2e4ce5195448e",
     "locked": true,
     "schema_version": 3,
     "solution": false,
     "task": false
    }
   },
   "outputs": [
    {
     "data": {
      "text/html": [
       "<table>\n",
       "<caption>A matrix: 5 × 2 of type dbl</caption>\n",
       "<thead>\n",
       "\t<tr><th scope=col>Down</th><th scope=col>Up</th></tr>\n",
       "</thead>\n",
       "<tbody>\n",
       "\t<tr><td>0.4873164</td><td>0.5126836</td></tr>\n",
       "\t<tr><td>0.4762492</td><td>0.5237508</td></tr>\n",
       "\t<tr><td>0.4653377</td><td>0.5346623</td></tr>\n",
       "\t<tr><td>0.4748652</td><td>0.5251348</td></tr>\n",
       "\t<tr><td>0.4901890</td><td>0.5098110</td></tr>\n",
       "</tbody>\n",
       "</table>\n"
      ],
      "text/latex": [
       "A matrix: 5 × 2 of type dbl\n",
       "\\begin{tabular}{ll}\n",
       " Down & Up\\\\\n",
       "\\hline\n",
       "\t 0.4873164 & 0.5126836\\\\\n",
       "\t 0.4762492 & 0.5237508\\\\\n",
       "\t 0.4653377 & 0.5346623\\\\\n",
       "\t 0.4748652 & 0.5251348\\\\\n",
       "\t 0.4901890 & 0.5098110\\\\\n",
       "\\end{tabular}\n"
      ],
      "text/markdown": [
       "\n",
       "A matrix: 5 × 2 of type dbl\n",
       "\n",
       "| Down | Up |\n",
       "|---|---|\n",
       "| 0.4873164 | 0.5126836 |\n",
       "| 0.4762492 | 0.5237508 |\n",
       "| 0.4653377 | 0.5346623 |\n",
       "| 0.4748652 | 0.5251348 |\n",
       "| 0.4901890 | 0.5098110 |\n",
       "\n"
      ],
      "text/plain": [
       "     Down      Up       \n",
       "[1,] 0.4873164 0.5126836\n",
       "[2,] 0.4762492 0.5237508\n",
       "[3,] 0.4653377 0.5346623\n",
       "[4,] 0.4748652 0.5251348\n",
       "[5,] 0.4901890 0.5098110"
      ]
     },
     "metadata": {},
     "output_type": "display_data"
    }
   ],
   "source": [
    "nb.preds = predict(nb.fit, Smarket.test, type = \"raw\")\n",
    "nb.preds[1:5, ]"
   ]
  },
  {
   "cell_type": "markdown",
   "metadata": {
    "deletable": false,
    "editable": false,
    "nbgrader": {
     "cell_type": "markdown",
     "checksum": "a9b4f612a5e7f1fc0f887ba969c5e54c",
     "grade": false,
     "grade_id": "cell-606d2e1cbd722bd8",
     "locked": true,
     "schema_version": 3,
     "solution": false,
     "task": false
    }
   },
   "source": [
    "## K - Nearest Neighbors\n",
    "\n",
    "We would be using the `knn()` function which is a part of the `class` library. Rather than a two-step approach in which we first fit the model and then we use the model to make predictions, `knn()` forms predictions using a single command.\n",
    "\n",
    "The function requires four inputs:\n",
    "1. A matrix containing the predictors associated with the training data, labeled `train.X` below.\n",
    "2. A matrix containing the predictors associated with the data for which we wish to make predictions, labeled `test.X` below.\n",
    "3. A vector containing the class labels for the training observations, labeled `train.Direction` below.\n",
    "4. A value for `K`, the number of nearest neighbors to be used by the classifier."
   ]
  },
  {
   "cell_type": "code",
   "execution_count": 7,
   "metadata": {
    "deletable": false,
    "editable": false,
    "nbgrader": {
     "cell_type": "code",
     "checksum": "54dacf92c3c5df023cdb532ce0da92ef",
     "grade": false,
     "grade_id": "cell-5f9ca1db2a29922f",
     "locked": true,
     "schema_version": 3,
     "solution": false,
     "task": false
    }
   },
   "outputs": [],
   "source": [
    "library(class)"
   ]
  },
  {
   "cell_type": "code",
   "execution_count": 8,
   "metadata": {
    "deletable": false,
    "editable": false,
    "nbgrader": {
     "cell_type": "code",
     "checksum": "ab7eeca51fb8ca5cc7c453a2466a6c32",
     "grade": false,
     "grade_id": "cell-ac5c21ff8e7550f5",
     "locked": true,
     "schema_version": 3,
     "solution": false,
     "task": false
    }
   },
   "outputs": [],
   "source": [
    "train.X = cbind(Lag1, Lag2)[train, ] #cbind() is short for column bind, binds variables together\n",
    "test.X = cbind(Lag1, Lag2)[!train, ]\n",
    "train.Direction = Direction[train]"
   ]
  },
  {
   "cell_type": "markdown",
   "metadata": {
    "deletable": false,
    "editable": false,
    "nbgrader": {
     "cell_type": "markdown",
     "checksum": "7d3d4e078bd92fc217902d2a9b569e86",
     "grade": false,
     "grade_id": "cell-1d1dfd12da548d3e",
     "locked": true,
     "schema_version": 3,
     "solution": false,
     "task": false
    }
   },
   "source": [
    "We set a random `seed` before we apply `knn()` because if several observations are tied as nearest neighbors, then `R` will randomly break the tie."
   ]
  },
  {
   "cell_type": "code",
   "execution_count": 9,
   "metadata": {
    "deletable": false,
    "editable": false,
    "nbgrader": {
     "cell_type": "code",
     "checksum": "9cf58a6c242a356964014b30a2035eca",
     "grade": false,
     "grade_id": "cell-4844fc59fa40fbe8",
     "locked": true,
     "schema_version": 3,
     "solution": false,
     "task": false
    }
   },
   "outputs": [
    {
     "data": {
      "text/plain": [
       "        Direction.2005\n",
       "knn.pred Down Up\n",
       "    Down   43 58\n",
       "    Up     68 83"
      ]
     },
     "metadata": {},
     "output_type": "display_data"
    },
    {
     "data": {
      "text/html": [
       "0.5"
      ],
      "text/latex": [
       "0.5"
      ],
      "text/markdown": [
       "0.5"
      ],
      "text/plain": [
       "[1] 0.5"
      ]
     },
     "metadata": {},
     "output_type": "display_data"
    }
   ],
   "source": [
    "set.seed(1)\n",
    "knn.pred = knn(train.X, test.X, train.Direction, k=1)\n",
    "\n",
    "table(knn.pred, Direction.2005)\n",
    "mean(knn.pred==Direction.2005) #performance"
   ]
  },
  {
   "cell_type": "markdown",
   "metadata": {
    "deletable": false,
    "editable": false,
    "nbgrader": {
     "cell_type": "markdown",
     "checksum": "02616b2639c6e4b1e78b953c30d6bf5d",
     "grade": false,
     "grade_id": "cell-83f075b319f23616",
     "locked": true,
     "schema_version": 3,
     "solution": false,
     "task": false
    }
   },
   "source": [
    "The results using `K = 1` are not very good, since only `50 %` of the observa- tions are correctly predicted. Of course, it may be that `K = 1` results in an overly flexible fit to the data."
   ]
  },
  {
   "cell_type": "code",
   "execution_count": 10,
   "metadata": {
    "deletable": false,
    "nbgrader": {
     "cell_type": "code",
     "checksum": "cf8693cbdc92048ef33c7cd528992a95",
     "grade": false,
     "grade_id": "cell-65e6dbd0b8eff4ea",
     "locked": false,
     "schema_version": 3,
     "solution": true,
     "task": false
    }
   },
   "outputs": [],
   "source": [
    "#return a k-nn model with three neighbors\n",
    "knn.pred = function(){\n",
    "    knn.pred = knn(train.X, test.X, train.Direction, k=3)\n",
    "\n",
    "    \n",
    "}\n",
    "knn.pred = knn.pred()"
   ]
  },
  {
   "cell_type": "code",
   "execution_count": 11,
   "metadata": {
    "deletable": false,
    "editable": false,
    "nbgrader": {
     "cell_type": "code",
     "checksum": "7304304ac3f9f987cb8e0a259872013f",
     "grade": true,
     "grade_id": "cell-f572d927088a5553",
     "locked": true,
     "points": 5,
     "schema_version": 3,
     "solution": false,
     "task": false
    }
   },
   "outputs": [
    {
     "data": {
      "text/plain": [
       "        Direction.2005\n",
       "knn.pred Down Up\n",
       "    Down   48 54\n",
       "    Up     63 87"
      ]
     },
     "metadata": {},
     "output_type": "display_data"
    }
   ],
   "source": [
    "table(knn.pred, Direction.2005)\n",
    "\n",
    "#Test the performance of new model\n",
    "stopifnot(round(mean(knn.pred == Direction.2005),2) == 0.54)"
   ]
  },
  {
   "cell_type": "code",
   "execution_count": 12,
   "metadata": {
    "deletable": false,
    "editable": false,
    "nbgrader": {
     "cell_type": "code",
     "checksum": "c6bd85132e853c249fb15c64f505b856",
     "grade": false,
     "grade_id": "cell-09a240d3787a14f9",
     "locked": true,
     "schema_version": 3,
     "solution": false,
     "task": false
    }
   },
   "outputs": [
    {
     "data": {
      "text/html": [
       "0.551587301587302"
      ],
      "text/latex": [
       "0.551587301587302"
      ],
      "text/markdown": [
       "0.551587301587302"
      ],
      "text/plain": [
       "[1] 0.5515873"
      ]
     },
     "metadata": {},
     "output_type": "display_data"
    }
   ],
   "source": [
    "knn.pred = knn(train.X, test.X, train.Direction, k=4)\n",
    "mean(knn.pred == Direction.2005)"
   ]
  },
  {
   "cell_type": "markdown",
   "metadata": {
    "deletable": false,
    "editable": false,
    "nbgrader": {
     "cell_type": "markdown",
     "checksum": "bffdad33f4b4e600a73d44d0d5cec795",
     "grade": false,
     "grade_id": "cell-f0cdd27def5cf629",
     "locked": true,
     "schema_version": 3,
     "solution": false,
     "task": false
    }
   },
   "source": [
    "We can see that the results have improved slightly when we increase the value of `K` from `1` to `3`. But increasing `K` further turns out to provide no further improvements. \n",
    "\n",
    "It appears that for this data, QDA provides the best results of the methods that we have examined so far."
   ]
  },
  {
   "cell_type": "markdown",
   "metadata": {
    "deletable": false,
    "editable": false,
    "nbgrader": {
     "cell_type": "markdown",
     "checksum": "7e7ebe04639f2a07d1be464220e1c1f3",
     "grade": false,
     "grade_id": "cell-cae3a49db62b9ca5",
     "locked": true,
     "schema_version": 3,
     "solution": false,
     "task": false
    }
   },
   "source": [
    "## Poisson Regression\n",
    "\n",
    "We would be using the `glm()` function with the argument `family = poisson` to define a poisson regression model.\n",
    "\n",
    "We are gonna fit a Poisson regression model to the `Bikeshare` data set found in `ISLR2` library, which measures the number of bike rentals(`bikers`) per hour in Washington DC."
   ]
  },
  {
   "cell_type": "code",
   "execution_count": 13,
   "metadata": {
    "deletable": false,
    "editable": false,
    "nbgrader": {
     "cell_type": "code",
     "checksum": "66245aef48a9f16089a7f903f3e62ee1",
     "grade": false,
     "grade_id": "cell-7025d5ae38a41823",
     "locked": true,
     "schema_version": 3,
     "solution": false,
     "task": false
    }
   },
   "outputs": [],
   "source": [
    "attach(Bikeshare) #attaching the data set to R's context"
   ]
  },
  {
   "cell_type": "code",
   "execution_count": 14,
   "metadata": {
    "deletable": false,
    "editable": false,
    "nbgrader": {
     "cell_type": "code",
     "checksum": "ecad5cb3eb516342b85a2c7ace4ab4b1",
     "grade": false,
     "grade_id": "cell-892eeab115736635",
     "locked": true,
     "schema_version": 3,
     "solution": false,
     "task": false
    }
   },
   "outputs": [
    {
     "data": {
      "text/html": [
       "<style>\n",
       ".list-inline {list-style: none; margin:0; padding: 0}\n",
       ".list-inline>li {display: inline-block}\n",
       ".list-inline>li:not(:last-child)::after {content: \"\\00b7\"; padding: 0 .5ex}\n",
       "</style>\n",
       "<ol class=list-inline><li>8645</li><li>15</li></ol>\n"
      ],
      "text/latex": [
       "\\begin{enumerate*}\n",
       "\\item 8645\n",
       "\\item 15\n",
       "\\end{enumerate*}\n"
      ],
      "text/markdown": [
       "1. 8645\n",
       "2. 15\n",
       "\n",
       "\n"
      ],
      "text/plain": [
       "[1] 8645   15"
      ]
     },
     "metadata": {},
     "output_type": "display_data"
    },
    {
     "data": {
      "text/html": [
       "<style>\n",
       ".list-inline {list-style: none; margin:0; padding: 0}\n",
       ".list-inline>li {display: inline-block}\n",
       ".list-inline>li:not(:last-child)::after {content: \"\\00b7\"; padding: 0 .5ex}\n",
       "</style>\n",
       "<ol class=list-inline><li>'season'</li><li>'mnth'</li><li>'day'</li><li>'hr'</li><li>'holiday'</li><li>'weekday'</li><li>'workingday'</li><li>'weathersit'</li><li>'temp'</li><li>'atemp'</li><li>'hum'</li><li>'windspeed'</li><li>'casual'</li><li>'registered'</li><li>'bikers'</li></ol>\n"
      ],
      "text/latex": [
       "\\begin{enumerate*}\n",
       "\\item 'season'\n",
       "\\item 'mnth'\n",
       "\\item 'day'\n",
       "\\item 'hr'\n",
       "\\item 'holiday'\n",
       "\\item 'weekday'\n",
       "\\item 'workingday'\n",
       "\\item 'weathersit'\n",
       "\\item 'temp'\n",
       "\\item 'atemp'\n",
       "\\item 'hum'\n",
       "\\item 'windspeed'\n",
       "\\item 'casual'\n",
       "\\item 'registered'\n",
       "\\item 'bikers'\n",
       "\\end{enumerate*}\n"
      ],
      "text/markdown": [
       "1. 'season'\n",
       "2. 'mnth'\n",
       "3. 'day'\n",
       "4. 'hr'\n",
       "5. 'holiday'\n",
       "6. 'weekday'\n",
       "7. 'workingday'\n",
       "8. 'weathersit'\n",
       "9. 'temp'\n",
       "10. 'atemp'\n",
       "11. 'hum'\n",
       "12. 'windspeed'\n",
       "13. 'casual'\n",
       "14. 'registered'\n",
       "15. 'bikers'\n",
       "\n",
       "\n"
      ],
      "text/plain": [
       " [1] \"season\"     \"mnth\"       \"day\"        \"hr\"         \"holiday\"   \n",
       " [6] \"weekday\"    \"workingday\" \"weathersit\" \"temp\"       \"atemp\"     \n",
       "[11] \"hum\"        \"windspeed\"  \"casual\"     \"registered\" \"bikers\"    "
      ]
     },
     "metadata": {},
     "output_type": "display_data"
    }
   ],
   "source": [
    "dim(Bikeshare)\n",
    "names(Bikeshare)"
   ]
  },
  {
   "cell_type": "code",
   "execution_count": 15,
   "metadata": {
    "deletable": false,
    "editable": false,
    "nbgrader": {
     "cell_type": "code",
     "checksum": "60608d07f433426facb0931fb2c00d7f",
     "grade": false,
     "grade_id": "cell-9b4ee15256e87fae",
     "locked": true,
     "schema_version": 3,
     "solution": false,
     "task": false
    }
   },
   "outputs": [
    {
     "data": {
      "text/plain": [
       "\n",
       "Call:\n",
       "glm(formula = bikers ~ mnth + hr + workingday + temp + weathersit, \n",
       "    family = poisson, data = Bikeshare)\n",
       "\n",
       "Deviance Residuals: \n",
       "     Min        1Q    Median        3Q       Max  \n",
       "-20.7574   -3.3441   -0.6549    2.6999   21.9628  \n",
       "\n",
       "Coefficients:\n",
       "                           Estimate Std. Error  z value Pr(>|z|)    \n",
       "(Intercept)                2.693688   0.009720  277.124  < 2e-16 ***\n",
       "mnthFeb                    0.226046   0.006951   32.521  < 2e-16 ***\n",
       "mnthMarch                  0.376437   0.006691   56.263  < 2e-16 ***\n",
       "mnthApril                  0.691693   0.006987   98.996  < 2e-16 ***\n",
       "mnthMay                    0.910641   0.007436  122.469  < 2e-16 ***\n",
       "mnthJune                   0.893405   0.008242  108.402  < 2e-16 ***\n",
       "mnthJuly                   0.773787   0.008806   87.874  < 2e-16 ***\n",
       "mnthAug                    0.821341   0.008332   98.573  < 2e-16 ***\n",
       "mnthSept                   0.903663   0.007621  118.578  < 2e-16 ***\n",
       "mnthOct                    0.937743   0.006744  139.054  < 2e-16 ***\n",
       "mnthNov                    0.820433   0.006494  126.334  < 2e-16 ***\n",
       "mnthDec                    0.686850   0.006317  108.724  < 2e-16 ***\n",
       "hr1                       -0.471593   0.012999  -36.278  < 2e-16 ***\n",
       "hr2                       -0.808761   0.014646  -55.220  < 2e-16 ***\n",
       "hr3                       -1.443918   0.018843  -76.631  < 2e-16 ***\n",
       "hr4                       -2.076098   0.024796  -83.728  < 2e-16 ***\n",
       "hr5                       -1.060271   0.016075  -65.957  < 2e-16 ***\n",
       "hr6                        0.324498   0.010610   30.585  < 2e-16 ***\n",
       "hr7                        1.329567   0.009056  146.822  < 2e-16 ***\n",
       "hr8                        1.831313   0.008653  211.630  < 2e-16 ***\n",
       "hr9                        1.336155   0.009016  148.191  < 2e-16 ***\n",
       "hr10                       1.091238   0.009261  117.831  < 2e-16 ***\n",
       "hr11                       1.248507   0.009093  137.304  < 2e-16 ***\n",
       "hr12                       1.434028   0.008936  160.486  < 2e-16 ***\n",
       "hr13                       1.427951   0.008951  159.529  < 2e-16 ***\n",
       "hr14                       1.379296   0.008999  153.266  < 2e-16 ***\n",
       "hr15                       1.408149   0.008977  156.862  < 2e-16 ***\n",
       "hr16                       1.628688   0.008805  184.979  < 2e-16 ***\n",
       "hr17                       2.049021   0.008565  239.221  < 2e-16 ***\n",
       "hr18                       1.966668   0.008586  229.065  < 2e-16 ***\n",
       "hr19                       1.668409   0.008743  190.830  < 2e-16 ***\n",
       "hr20                       1.370588   0.008973  152.737  < 2e-16 ***\n",
       "hr21                       1.118568   0.009215  121.383  < 2e-16 ***\n",
       "hr22                       0.871879   0.009536   91.429  < 2e-16 ***\n",
       "hr23                       0.481387   0.010207   47.164  < 2e-16 ***\n",
       "workingday                 0.014665   0.001955    7.502 6.27e-14 ***\n",
       "temp                       0.785292   0.011475   68.434  < 2e-16 ***\n",
       "weathersitcloudy/misty    -0.075231   0.002179  -34.528  < 2e-16 ***\n",
       "weathersitlight rain/snow -0.575800   0.004058 -141.905  < 2e-16 ***\n",
       "weathersitheavy rain/snow -0.926287   0.166782   -5.554 2.79e-08 ***\n",
       "---\n",
       "Signif. codes:  0 ‘***’ 0.001 ‘**’ 0.01 ‘*’ 0.05 ‘.’ 0.1 ‘ ’ 1\n",
       "\n",
       "(Dispersion parameter for poisson family taken to be 1)\n",
       "\n",
       "    Null deviance: 1052921  on 8644  degrees of freedom\n",
       "Residual deviance:  228041  on 8605  degrees of freedom\n",
       "AIC: 281159\n",
       "\n",
       "Number of Fisher Scoring iterations: 5\n"
      ]
     },
     "metadata": {},
     "output_type": "display_data"
    }
   ],
   "source": [
    "mod.pois = glm(bikers ~ mnth + hr + workingday + temp + weathersit, \n",
    "               data = Bikeshare, family = poisson)\n",
    "summary(mod.pois)"
   ]
  },
  {
   "cell_type": "markdown",
   "metadata": {
    "deletable": false,
    "editable": false,
    "nbgrader": {
     "cell_type": "markdown",
     "checksum": "f9fbdaaea28ac256f6e63b2a1eaaa311",
     "grade": false,
     "grade_id": "cell-a92dc64c189a1709",
     "locked": true,
     "schema_version": 3,
     "solution": false,
     "task": false
    }
   },
   "source": [
    "We are gonna plot these coefficients associated with `mnth` and `hr` for better visualization"
   ]
  },
  {
   "cell_type": "code",
   "execution_count": 16,
   "metadata": {
    "deletable": false,
    "editable": false,
    "nbgrader": {
     "cell_type": "code",
     "checksum": "14ac0ffaf05258192a1edbda387d6329",
     "grade": false,
     "grade_id": "cell-a4e6d37816f507b9",
     "locked": true,
     "schema_version": 3,
     "solution": false,
     "task": false
    }
   },
   "outputs": [
    {
     "data": {
      "image/png": "[encoded data removed]",
      "text/plain": [
       "plot without title"
      ]
     },
     "metadata": {
      "image/png": {
       "height": 420,
       "width": 420
      },
      "text/plain": {
       "height": 420,
       "width": 420
      }
     },
     "output_type": "display_data"
    },
    {
     "data": {
      "image/png": "[encoded data removed]",
      "text/plain": [
       "plot without title"
      ]
     },
     "metadata": {
      "image/png": {
       "height": 420,
       "width": 420
      },
      "text/plain": {
       "height": 420,
       "width": 420
      }
     },
     "output_type": "display_data"
    }
   ],
   "source": [
    "coef.mnth <- c(coef(mod.pois)[2:12], -sum(coef(mod.pois)[2:12]))\n",
    "\n",
    "\n",
    "plot(coef.mnth, xlab = \"Month\", ylab = \"Coefficient\", \n",
    "     xaxt = \"n\", col = \"blue\", pch = 19, type = \"o\")\n",
    "axis(side = 1, at = 1:12, \n",
    "     labels = c(\"J\", \"F\", \"M\", \"A\", \"M\", \"J\", \"J\", \"A\", \"S\", \"O\", \"N\", \"D\"))\n",
    "\n",
    "coef.hours <- c(coef(mod.pois)[13:35], -sum(coef(mod.pois)[13:35]))\n",
    "plot(coef.hours, xlab = \"Hour\", ylab = \"Coefficient\", col = \"blue\", pch = 19, type = \"o\")"
   ]
  },
  {
   "cell_type": "markdown",
   "metadata": {
    "deletable": false,
    "editable": false,
    "nbgrader": {
     "cell_type": "markdown",
     "checksum": "2a4fc3bbc63e03b903fe3c349aa8b406",
     "grade": false,
     "grade_id": "cell-685d07bb7ea908fd",
     "locked": true,
     "schema_version": 3,
     "solution": false,
     "task": false
    }
   },
   "source": [
    "We can once again use the `predict()` function to obtain the fitted values (predictions) from this Poisson regression model."
   ]
  },
  {
   "cell_type": "code",
   "execution_count": 17,
   "metadata": {
    "deletable": false,
    "editable": false,
    "nbgrader": {
     "cell_type": "code",
     "checksum": "78d5c6eec9f130c08252bfe4c048b7d0",
     "grade": false,
     "grade_id": "cell-2f1ee8d23fc9b001",
     "locked": true,
     "schema_version": 3,
     "solution": false,
     "task": false
    }
   },
   "outputs": [
    {
     "data": {
      "text/plain": [
       "   Min. 1st Qu.  Median    Mean 3rd Qu.    Max. \n",
       "  1.201  44.513 124.299 143.794 219.268 585.958 "
      ]
     },
     "metadata": {},
     "output_type": "display_data"
    }
   ],
   "source": [
    "mod.pred = predict(mod.pois, type = \"response\")\n",
    "summary(mod.pred)"
   ]
  }
 ],
 "metadata": {
  "kernelspec": {
   "display_name": "R",
   "language": "R",
   "name": "ir"
  },
  "language_info": {
   "codemirror_mode": "r",
   "file_extension": ".r",
   "mimetype": "text/x-r-source",
   "name": "R",
   "pygments_lexer": "r",
   "version": "3.6.3"
  }
 },
 "nbformat": 4,
 "nbformat_minor": 4
}
