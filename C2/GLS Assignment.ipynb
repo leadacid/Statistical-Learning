{
 "cells": [
  {
   "cell_type": "markdown",
   "metadata": {
    "deletable": false,
    "editable": false,
    "nbgrader": {
     "cell_type": "markdown",
     "checksum": "fbdc672969778fd47b4901b66578dbca",
     "grade": false,
     "grade_id": "cell-f6e9def5125ca5a5",
     "locked": true,
     "schema_version": 3,
     "solution": false,
     "task": false
    }
   },
   "source": [
    "### Generalized Least Squares Lab"
   ]
  },
  {
   "cell_type": "markdown",
   "metadata": {
    "deletable": false,
    "editable": false,
    "nbgrader": {
     "cell_type": "markdown",
     "checksum": "3ddc5d1320c95689ab6632fdb36ec997",
     "grade": false,
     "grade_id": "cell-8bcc708cd815e1f7",
     "locked": true,
     "schema_version": 3,
     "solution": false,
     "task": false
    }
   },
   "source": [
    "In this lab, you will fit a GLS model to a data set from the chemical and taste analysis of cheddar cheese. To begin, import the data set below."
   ]
  },
  {
   "cell_type": "code",
   "execution_count": 1,
   "metadata": {
    "deletable": false,
    "editable": false,
    "nbgrader": {
     "cell_type": "code",
     "checksum": "0e31924f84b3908d10baf8f5a10b4705",
     "grade": false,
     "grade_id": "cell-fb8f269edddf562f",
     "locked": true,
     "schema_version": 3,
     "solution": false,
     "task": false
    }
   },
   "outputs": [],
   "source": [
    "load('cheddar.rda')\n",
    "cheddar <- cheddar"
   ]
  },
  {
   "cell_type": "markdown",
   "metadata": {
    "deletable": false,
    "editable": false,
    "nbgrader": {
     "cell_type": "markdown",
     "checksum": "6491c09fae3f1f88c4991bd82d6873c9",
     "grade": false,
     "grade_id": "cell-e5345e28dc46fad9",
     "locked": true,
     "schema_version": 3,
     "solution": false,
     "task": false
    }
   },
   "source": [
    "We will then add a new column, `time`, to the data. "
   ]
  },
  {
   "cell_type": "code",
   "execution_count": 2,
   "metadata": {
    "deletable": false,
    "editable": false,
    "nbgrader": {
     "cell_type": "code",
     "checksum": "bbd6d2fec75edd53f8cb2da55a773160",
     "grade": false,
     "grade_id": "cell-041f30d81b0f74c6",
     "locked": true,
     "schema_version": 3,
     "solution": false,
     "task": false
    }
   },
   "outputs": [],
   "source": [
    "cheddar$time <- 1: nrow(cheddar)"
   ]
  },
  {
   "cell_type": "markdown",
   "metadata": {
    "deletable": false,
    "editable": false,
    "nbgrader": {
     "cell_type": "markdown",
     "checksum": "5d29e79fcf5145633008d8f09763acfa",
     "grade": false,
     "grade_id": "cell-521192ec63464192",
     "locked": true,
     "schema_version": 3,
     "solution": false,
     "task": false
    }
   },
   "source": [
    "Now, fit a linear model predicting taste using data for `Acetic`, `H2S`, and `Lactic`. Save your model to `lmod`."
   ]
  },
  {
   "cell_type": "code",
   "execution_count": 3,
   "metadata": {},
   "outputs": [
    {
     "data": {
      "text/html": [
       "<table>\n",
       "<caption>A data.frame: 6 × 5</caption>\n",
       "<thead>\n",
       "\t<tr><th></th><th scope=col>taste</th><th scope=col>Acetic</th><th scope=col>H2S</th><th scope=col>Lactic</th><th scope=col>time</th></tr>\n",
       "\t<tr><th></th><th scope=col>&lt;dbl&gt;</th><th scope=col>&lt;dbl&gt;</th><th scope=col>&lt;dbl&gt;</th><th scope=col>&lt;dbl&gt;</th><th scope=col>&lt;int&gt;</th></tr>\n",
       "</thead>\n",
       "<tbody>\n",
       "\t<tr><th scope=row>1</th><td>12.3</td><td>4.543</td><td>3.135</td><td>0.86</td><td>1</td></tr>\n",
       "\t<tr><th scope=row>2</th><td>20.9</td><td>5.159</td><td>5.043</td><td>1.53</td><td>2</td></tr>\n",
       "\t<tr><th scope=row>3</th><td>39.0</td><td>5.366</td><td>5.438</td><td>1.57</td><td>3</td></tr>\n",
       "\t<tr><th scope=row>4</th><td>47.9</td><td>5.759</td><td>7.496</td><td>1.81</td><td>4</td></tr>\n",
       "\t<tr><th scope=row>5</th><td> 5.6</td><td>4.663</td><td>3.807</td><td>0.99</td><td>5</td></tr>\n",
       "\t<tr><th scope=row>6</th><td>25.9</td><td>5.697</td><td>7.601</td><td>1.09</td><td>6</td></tr>\n",
       "</tbody>\n",
       "</table>\n"
      ],
      "text/latex": [
       "A data.frame: 6 × 5\n",
       "\\begin{tabular}{r|lllll}\n",
       "  & taste & Acetic & H2S & Lactic & time\\\\\n",
       "  & <dbl> & <dbl> & <dbl> & <dbl> & <int>\\\\\n",
       "\\hline\n",
       "\t1 & 12.3 & 4.543 & 3.135 & 0.86 & 1\\\\\n",
       "\t2 & 20.9 & 5.159 & 5.043 & 1.53 & 2\\\\\n",
       "\t3 & 39.0 & 5.366 & 5.438 & 1.57 & 3\\\\\n",
       "\t4 & 47.9 & 5.759 & 7.496 & 1.81 & 4\\\\\n",
       "\t5 &  5.6 & 4.663 & 3.807 & 0.99 & 5\\\\\n",
       "\t6 & 25.9 & 5.697 & 7.601 & 1.09 & 6\\\\\n",
       "\\end{tabular}\n"
      ],
      "text/markdown": [
       "\n",
       "A data.frame: 6 × 5\n",
       "\n",
       "| <!--/--> | taste &lt;dbl&gt; | Acetic &lt;dbl&gt; | H2S &lt;dbl&gt; | Lactic &lt;dbl&gt; | time &lt;int&gt; |\n",
       "|---|---|---|---|---|---|\n",
       "| 1 | 12.3 | 4.543 | 3.135 | 0.86 | 1 |\n",
       "| 2 | 20.9 | 5.159 | 5.043 | 1.53 | 2 |\n",
       "| 3 | 39.0 | 5.366 | 5.438 | 1.57 | 3 |\n",
       "| 4 | 47.9 | 5.759 | 7.496 | 1.81 | 4 |\n",
       "| 5 |  5.6 | 4.663 | 3.807 | 0.99 | 5 |\n",
       "| 6 | 25.9 | 5.697 | 7.601 | 1.09 | 6 |\n",
       "\n"
      ],
      "text/plain": [
       "  taste Acetic H2S   Lactic time\n",
       "1 12.3  4.543  3.135 0.86   1   \n",
       "2 20.9  5.159  5.043 1.53   2   \n",
       "3 39.0  5.366  5.438 1.57   3   \n",
       "4 47.9  5.759  7.496 1.81   4   \n",
       "5  5.6  4.663  3.807 0.99   5   \n",
       "6 25.9  5.697  7.601 1.09   6   "
      ]
     },
     "metadata": {},
     "output_type": "display_data"
    }
   ],
   "source": [
    "head(cheddar)"
   ]
  },
  {
   "cell_type": "code",
   "execution_count": 4,
   "metadata": {
    "deletable": false,
    "nbgrader": {
     "cell_type": "code",
     "checksum": "012a58151770acebb7efc63e5021c3cf",
     "grade": false,
     "grade_id": "cell-f796ed5e76a933d9",
     "locked": false,
     "schema_version": 3,
     "solution": true,
     "task": false
    }
   },
   "outputs": [
    {
     "data": {
      "text/plain": [
       "\n",
       "Call:\n",
       "lm(formula = taste ~ Acetic + H2S + Lactic, data = cheddar)\n",
       "\n",
       "Residuals:\n",
       "    Min      1Q  Median      3Q     Max \n",
       "-17.390  -6.612  -1.009   4.908  25.449 \n",
       "\n",
       "Coefficients:\n",
       "            Estimate Std. Error t value Pr(>|t|)   \n",
       "(Intercept) -28.8768    19.7354  -1.463  0.15540   \n",
       "Acetic        0.3277     4.4598   0.073  0.94198   \n",
       "H2S           3.9118     1.2484   3.133  0.00425 **\n",
       "Lactic       19.6705     8.6291   2.280  0.03108 * \n",
       "---\n",
       "Signif. codes:  0 ‘***’ 0.001 ‘**’ 0.01 ‘*’ 0.05 ‘.’ 0.1 ‘ ’ 1\n",
       "\n",
       "Residual standard error: 10.13 on 26 degrees of freedom\n",
       "Multiple R-squared:  0.6518,\tAdjusted R-squared:  0.6116 \n",
       "F-statistic: 16.22 on 3 and 26 DF,  p-value: 3.81e-06\n"
      ]
     },
     "metadata": {},
     "output_type": "display_data"
    }
   ],
   "source": [
    "# YOUR CODE HERE\n",
    "\n",
    "lmod <- lm(taste ~ Acetic + H2S + Lactic, data = cheddar)\n",
    "\n",
    "\n",
    "summary(lmod)"
   ]
  },
  {
   "cell_type": "code",
   "execution_count": null,
   "metadata": {
    "deletable": false,
    "editable": false,
    "nbgrader": {
     "cell_type": "code",
     "checksum": "4629d4c3349e5e5b1e8ba0ca0bfaadd3",
     "grade": true,
     "grade_id": "cell-bed8225b89de4118",
     "locked": true,
     "points": 1,
     "schema_version": 3,
     "solution": false,
     "task": false
    }
   },
   "outputs": [],
   "source": []
  },
  {
   "cell_type": "markdown",
   "metadata": {
    "deletable": false,
    "editable": false,
    "nbgrader": {
     "cell_type": "markdown",
     "checksum": "3cb6bdcb81e6b2431ce9f8bcff888dc7",
     "grade": false,
     "grade_id": "cell-a32cd126b66f39e8",
     "locked": true,
     "schema_version": 3,
     "solution": false,
     "task": false
    }
   },
   "source": [
    "Now, plot the residuals from the model against time using `plot()`. What do you see? "
   ]
  },
  {
   "cell_type": "code",
   "execution_count": 5,
   "metadata": {},
   "outputs": [
    {
     "data": {
      "text/html": [
       "<style>\n",
       ".dl-inline {width: auto; margin:0; padding: 0}\n",
       ".dl-inline>dt, .dl-inline>dd {float: none; width: auto; display: inline-block}\n",
       ".dl-inline>dt::after {content: \":\\0020\"; padding-right: .5ex}\n",
       ".dl-inline>dt:not(:first-of-type) {padding-left: .5ex}\n",
       "</style><dl class=dl-inline><dt>1</dt><dd>10.507551884435</dd><dt>2</dt><dd>-1.73739356481799</dd><dt>3</dt><dd>13.9627650302883</dd><dt>4</dt><dd>9.96246336948806</dd><dt>5</dt><dd>-1.41770490766969</dd><dt>6</dt><dd>1.73483123156288</dd><dt>7</dt><dd>4.73599180169537</dd><dt>8</dt><dd>-17.3905351054085</dd><dt>9</dt><dd>4.9359037172357</dd><dt>10</dt><dd>0.751266633581663</dd><dt>11</dt><dd>4.82249390373644</dd><dt>12</dt><dd>15.6552776803599</dd><dt>13</dt><dd>-4.46117995213152</dd><dt>14</dt><dd>8.15669127588214</dd><dt>15</dt><dd>25.448856116056</dd><dt>16</dt><dd>-4.0427813424078</dd><dt>17</dt><dd>5.08691948967756</dd><dt>18</dt><dd>-14.1917288882708</dd><dt>19</dt><dd>-11.0575813878936</dd><dt>20</dt><dd>-8.60679628428286</dd><dt>21</dt><dd>-0.59986796293073</dd><dt>22</dt><dd>-4.24123680308045</dd><dt>23</dt><dd>-5.38987675254</dd><dt>24</dt><dd>4.22318511289687</dd><dt>25</dt><dd>3.81671236703496</dd><dt>26</dt><dd>-2.81498071032727</dd><dt>27</dt><dd>-7.80735575567275</dd><dt>28</dt><dd>-12.0607374490413</dd><dt>29</dt><dd>-7.01962974666718</dd><dt>30</dt><dd>-10.9615230007884</dd></dl>\n"
      ],
      "text/latex": [
       "\\begin{description*}\n",
       "\\item[1] 10.507551884435\n",
       "\\item[2] -1.73739356481799\n",
       "\\item[3] 13.9627650302883\n",
       "\\item[4] 9.96246336948806\n",
       "\\item[5] -1.41770490766969\n",
       "\\item[6] 1.73483123156288\n",
       "\\item[7] 4.73599180169537\n",
       "\\item[8] -17.3905351054085\n",
       "\\item[9] 4.9359037172357\n",
       "\\item[10] 0.751266633581663\n",
       "\\item[11] 4.82249390373644\n",
       "\\item[12] 15.6552776803599\n",
       "\\item[13] -4.46117995213152\n",
       "\\item[14] 8.15669127588214\n",
       "\\item[15] 25.448856116056\n",
       "\\item[16] -4.0427813424078\n",
       "\\item[17] 5.08691948967756\n",
       "\\item[18] -14.1917288882708\n",
       "\\item[19] -11.0575813878936\n",
       "\\item[20] -8.60679628428286\n",
       "\\item[21] -0.59986796293073\n",
       "\\item[22] -4.24123680308045\n",
       "\\item[23] -5.38987675254\n",
       "\\item[24] 4.22318511289687\n",
       "\\item[25] 3.81671236703496\n",
       "\\item[26] -2.81498071032727\n",
       "\\item[27] -7.80735575567275\n",
       "\\item[28] -12.0607374490413\n",
       "\\item[29] -7.01962974666718\n",
       "\\item[30] -10.9615230007884\n",
       "\\end{description*}\n"
      ],
      "text/markdown": [
       "1\n",
       ":   10.5075518844352\n",
       ":   -1.737393564817993\n",
       ":   13.96276503028834\n",
       ":   9.962463369488065\n",
       ":   -1.417704907669696\n",
       ":   1.734831231562887\n",
       ":   4.735991801695378\n",
       ":   -17.39053510540859\n",
       ":   4.935903717235710\n",
       ":   0.75126663358166311\n",
       ":   4.8224939037364412\n",
       ":   15.655277680359913\n",
       ":   -4.4611799521315214\n",
       ":   8.1566912758821415\n",
       ":   25.44885611605616\n",
       ":   -4.042781342407817\n",
       ":   5.0869194896775618\n",
       ":   -14.191728888270819\n",
       ":   -11.057581387893620\n",
       ":   -8.6067962842828621\n",
       ":   -0.5998679629307322\n",
       ":   -4.2412368030804523\n",
       ":   -5.3898767525424\n",
       ":   4.2231851128968725\n",
       ":   3.8167123670349626\n",
       ":   -2.8149807103272727\n",
       ":   -7.8073557556727528\n",
       ":   -12.060737449041329\n",
       ":   -7.0196297466671830\n",
       ":   -10.9615230007884\n",
       "\n"
      ],
      "text/plain": [
       "          1           2           3           4           5           6 \n",
       " 10.5075519  -1.7373936  13.9627650   9.9624634  -1.4177049   1.7348312 \n",
       "          7           8           9          10          11          12 \n",
       "  4.7359918 -17.3905351   4.9359037   0.7512666   4.8224939  15.6552777 \n",
       "         13          14          15          16          17          18 \n",
       " -4.4611800   8.1566913  25.4488561  -4.0427813   5.0869195 -14.1917289 \n",
       "         19          20          21          22          23          24 \n",
       "-11.0575814  -8.6067963  -0.5998680  -4.2412368  -5.3898768   4.2231851 \n",
       "         25          26          27          28          29          30 \n",
       "  3.8167124  -2.8149807  -7.8073558 -12.0607374  -7.0196297 -10.9615230 "
      ]
     },
     "metadata": {},
     "output_type": "display_data"
    }
   ],
   "source": [
    "residuals(lmod)"
   ]
  },
  {
   "cell_type": "code",
   "execution_count": 6,
   "metadata": {
    "deletable": false,
    "nbgrader": {
     "cell_type": "code",
     "checksum": "60a88f68cbe17c58f3ecc0c4a14d9f14",
     "grade": false,
     "grade_id": "cell-bc176288c23c2ea8",
     "locked": false,
     "schema_version": 3,
     "solution": true,
     "task": false
    }
   },
   "outputs": [
    {
     "data": {
      "image/png": "[encoded data removed]",
      "text/plain": [
       "plot without title"
      ]
     },
     "metadata": {
      "image/png": {
       "height": 420,
       "width": 420
      },
      "text/plain": {
       "height": 420,
       "width": 420
      }
     },
     "output_type": "display_data"
    }
   ],
   "source": [
    "#YOUR CODE HERE\n",
    "\n",
    "model_plot <- plot(y = residuals(lmod) , x= cheddar$time )\n"
   ]
  },
  {
   "cell_type": "code",
   "execution_count": null,
   "metadata": {
    "deletable": false,
    "editable": false,
    "nbgrader": {
     "cell_type": "code",
     "checksum": "b61a1e6aa87deafebc0c7b6a71685407",
     "grade": true,
     "grade_id": "cell-ae2c9e65607c7fa3",
     "locked": true,
     "points": 1,
     "schema_version": 3,
     "solution": false,
     "task": false
    }
   },
   "outputs": [],
   "source": []
  },
  {
   "cell_type": "markdown",
   "metadata": {
    "deletable": false,
    "editable": false,
    "nbgrader": {
     "cell_type": "markdown",
     "checksum": "44a5d9648b27b7a9a602deeb1f1891a4",
     "grade": false,
     "grade_id": "cell-f2a3e1b9fb72bbda",
     "locked": true,
     "schema_version": 3,
     "solution": false,
     "task": false
    }
   },
   "source": [
    "Finally, fit a GLS model using AR(1) correlation. Is there evidence of correlation between the errors? Calculate the confidence interval on that using the `intervals` function."
   ]
  },
  {
   "cell_type": "code",
   "execution_count": 7,
   "metadata": {
    "deletable": false,
    "nbgrader": {
     "cell_type": "code",
     "checksum": "2ab648ec55453049652b03685c66dbf8",
     "grade": false,
     "grade_id": "cell-0124a63c7a2e5984",
     "locked": false,
     "schema_version": 3,
     "solution": true,
     "task": false
    }
   },
   "outputs": [
    {
     "data": {
      "text/plain": [
       "Generalized least squares fit by REML\n",
       "  Model: taste ~ Acetic + H2S + Lactic \n",
       "  Data: cheddar \n",
       "     AIC      BIC  logLik\n",
       "  214.94 222.4886 -101.47\n",
       "\n",
       "Correlation Structure: AR(1)\n",
       " Formula: ~time \n",
       " Parameter estimate(s):\n",
       "      Phi \n",
       "0.2641944 \n",
       "\n",
       "Coefficients:\n",
       "                 Value Std.Error   t-value p-value\n",
       "(Intercept) -30.332472 20.273077 -1.496195  0.1466\n",
       "Acetic        1.436411  4.876581  0.294553  0.7707\n",
       "H2S           4.058880  1.314283  3.088284  0.0047\n",
       "Lactic       15.826468  9.235404  1.713674  0.0985\n",
       "\n",
       " Correlation: \n",
       "       (Intr) Acetic H2S   \n",
       "Acetic -0.899              \n",
       "H2S     0.424 -0.395       \n",
       "Lactic  0.063 -0.416 -0.435\n",
       "\n",
       "Standardized residuals:\n",
       "        Min          Q1         Med          Q3         Max \n",
       "-1.64546468 -0.63861716 -0.06641714  0.52255676  2.41323020 \n",
       "\n",
       "Residual standard error: 10.33276 \n",
       "Degrees of freedom: 30 total; 26 residual"
      ]
     },
     "metadata": {},
     "output_type": "display_data"
    }
   ],
   "source": [
    "# YOUR CODE HERE\n",
    "\n",
    "library(nlme)\n",
    "glmod <- gls(taste ~ Acetic + H2S + Lactic, correlation = corAR1(form = ~ time) , data = cheddar)\n",
    "glmod_intervals <- intervals(glmod, which = \"var-cov\")\n",
    "\n",
    "\n",
    "\n",
    "summary(glmod)\n"
   ]
  },
  {
   "cell_type": "code",
   "execution_count": 8,
   "metadata": {
    "deletable": false,
    "nbgrader": {
     "cell_type": "code",
     "checksum": "cc95b7ccf9ba5cb70318be125add65ea",
     "grade": false,
     "grade_id": "cell-558616b9af44adef",
     "locked": false,
     "schema_version": 3,
     "solution": true,
     "task": false
    }
   },
   "outputs": [],
   "source": [
    "# your code here\n"
   ]
  }
 ],
 "metadata": {
  "kernelspec": {
   "display_name": "R",
   "language": "R",
   "name": "ir"
  },
  "language_info": {
   "codemirror_mode": "r",
   "file_extension": ".r",
   "mimetype": "text/x-r-source",
   "name": "R",
   "pygments_lexer": "r",
   "version": "3.6.3"
  }
 },
 "nbformat": 4,
 "nbformat_minor": 4
}
