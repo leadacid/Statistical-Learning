{
 "cells": [
  {
   "cell_type": "markdown",
   "metadata": {
    "deletable": false,
    "editable": false,
    "nbgrader": {
     "cell_type": "markdown",
     "checksum": "8fa8d597ae755e16e9ce95853d38fdf6",
     "grade": false,
     "grade_id": "cell-fd00d832064cdcfa",
     "locked": true,
     "schema_version": 3,
     "solution": false,
     "task": false
    }
   },
   "source": [
    "### Decision Trees"
   ]
  },
  {
   "cell_type": "markdown",
   "metadata": {
    "deletable": false,
    "editable": false,
    "nbgrader": {
     "cell_type": "markdown",
     "checksum": "2820141fc82324b6cce1bd5c11b392d7",
     "grade": false,
     "grade_id": "cell-c185df86cad773d3",
     "locked": true,
     "schema_version": 3,
     "solution": false,
     "task": false
    }
   },
   "source": [
    "In this assignment, you will apply decision trees to a data set. The data we will be using for this exercise is cardiotocographic data. To begin import the data set."
   ]
  },
  {
   "cell_type": "code",
   "execution_count": 1,
   "metadata": {
    "deletable": false,
    "editable": false,
    "nbgrader": {
     "cell_type": "code",
     "checksum": "d035dabaca2bfd140e0477c371c7d375",
     "grade": false,
     "grade_id": "cell-56a7a205deb612de",
     "locked": true,
     "schema_version": 3,
     "solution": false,
     "task": false
    }
   },
   "outputs": [
    {
     "name": "stdout",
     "output_type": "stream",
     "text": [
      "'data.frame':\t2126 obs. of  22 variables:\n",
      " $ LB      : int  120 132 133 134 132 134 134 122 122 122 ...\n",
      " $ AC      : num  0 0.00638 0.00332 0.00256 0.00651 ...\n",
      " $ FM      : num  0 0 0 0 0 0 0 0 0 0 ...\n",
      " $ UC      : num  0 0.00638 0.00831 0.00768 0.00814 ...\n",
      " $ DL      : num  0 0.00319 0.00332 0.00256 0 ...\n",
      " $ DS      : num  0 0 0 0 0 0 0 0 0 0 ...\n",
      " $ DP      : num  0 0 0 0 0 ...\n",
      " $ ASTV    : int  73 17 16 16 16 26 29 83 84 86 ...\n",
      " $ MSTV    : num  0.5 2.1 2.1 2.4 2.4 5.9 6.3 0.5 0.5 0.3 ...\n",
      " $ ALTV    : int  43 0 0 0 0 0 0 6 5 6 ...\n",
      " $ MLTV    : num  2.4 10.4 13.4 23 19.9 0 0 15.6 13.6 10.6 ...\n",
      " $ Width   : int  64 130 130 117 117 150 150 68 68 68 ...\n",
      " $ Min     : int  62 68 68 53 53 50 50 62 62 62 ...\n",
      " $ Max     : int  126 198 198 170 170 200 200 130 130 130 ...\n",
      " $ Nmax    : int  2 6 5 11 9 5 6 0 0 1 ...\n",
      " $ Nzeros  : int  0 1 1 0 0 3 3 0 0 0 ...\n",
      " $ Mode    : int  120 141 141 137 137 76 71 122 122 122 ...\n",
      " $ Mean    : int  137 136 135 134 136 107 107 122 122 122 ...\n",
      " $ Median  : int  121 140 138 137 138 107 106 123 123 123 ...\n",
      " $ Variance: int  73 12 13 13 11 170 215 3 3 1 ...\n",
      " $ Tendency: int  1 0 0 1 1 0 0 1 1 1 ...\n",
      " $ NSP     : int  2 1 1 1 1 3 3 3 3 3 ...\n"
     ]
    }
   ],
   "source": [
    "data <- read.table(\"cardiotocographic.txt\", header = TRUE, sep = \",\")\n",
    "str(data)"
   ]
  },
  {
   "cell_type": "markdown",
   "metadata": {
    "deletable": false,
    "editable": false,
    "nbgrader": {
     "cell_type": "markdown",
     "checksum": "3bf1bef6c73a27db33e19e110d8bfbdf",
     "grade": false,
     "grade_id": "cell-94d59440ba4ed82e",
     "locked": true,
     "schema_version": 3,
     "solution": false,
     "task": false
    }
   },
   "source": [
    "Next factor the NSP column using `factor()` and saved the factored data to a new column, NSPF. "
   ]
  },
  {
   "cell_type": "code",
   "execution_count": 2,
   "metadata": {
    "deletable": false,
    "nbgrader": {
     "cell_type": "code",
     "checksum": "a9d4e1d65a14a18de1e8f1e4df67e185",
     "grade": false,
     "grade_id": "cell-8a54f104444ae504",
     "locked": false,
     "schema_version": 3,
     "solution": true,
     "task": false
    }
   },
   "outputs": [
    {
     "name": "stdout",
     "output_type": "stream",
     "text": [
      "'data.frame':\t2126 obs. of  23 variables:\n",
      " $ LB      : int  120 132 133 134 132 134 134 122 122 122 ...\n",
      " $ AC      : num  0 0.00638 0.00332 0.00256 0.00651 ...\n",
      " $ FM      : num  0 0 0 0 0 0 0 0 0 0 ...\n",
      " $ UC      : num  0 0.00638 0.00831 0.00768 0.00814 ...\n",
      " $ DL      : num  0 0.00319 0.00332 0.00256 0 ...\n",
      " $ DS      : num  0 0 0 0 0 0 0 0 0 0 ...\n",
      " $ DP      : num  0 0 0 0 0 ...\n",
      " $ ASTV    : int  73 17 16 16 16 26 29 83 84 86 ...\n",
      " $ MSTV    : num  0.5 2.1 2.1 2.4 2.4 5.9 6.3 0.5 0.5 0.3 ...\n",
      " $ ALTV    : int  43 0 0 0 0 0 0 6 5 6 ...\n",
      " $ MLTV    : num  2.4 10.4 13.4 23 19.9 0 0 15.6 13.6 10.6 ...\n",
      " $ Width   : int  64 130 130 117 117 150 150 68 68 68 ...\n",
      " $ Min     : int  62 68 68 53 53 50 50 62 62 62 ...\n",
      " $ Max     : int  126 198 198 170 170 200 200 130 130 130 ...\n",
      " $ Nmax    : int  2 6 5 11 9 5 6 0 0 1 ...\n",
      " $ Nzeros  : int  0 1 1 0 0 3 3 0 0 0 ...\n",
      " $ Mode    : int  120 141 141 137 137 76 71 122 122 122 ...\n",
      " $ Mean    : int  137 136 135 134 136 107 107 122 122 122 ...\n",
      " $ Median  : int  121 140 138 137 138 107 106 123 123 123 ...\n",
      " $ Variance: int  73 12 13 13 11 170 215 3 3 1 ...\n",
      " $ Tendency: int  1 0 0 1 1 0 0 1 1 1 ...\n",
      " $ NSP     : int  2 1 1 1 1 3 3 3 3 3 ...\n",
      " $ NSPF    : Factor w/ 3 levels \"1\",\"2\",\"3\": 2 1 1 1 1 3 3 3 3 3 ...\n"
     ]
    }
   ],
   "source": [
    "data$NSPF = factor(data$NSP)\n",
    "str(data)"
   ]
  },
  {
   "cell_type": "code",
   "execution_count": null,
   "metadata": {
    "deletable": false,
    "editable": false,
    "nbgrader": {
     "cell_type": "code",
     "checksum": "d81ade64cef67796100bd16da52ab6ad",
     "grade": true,
     "grade_id": "cell-9e72e4c1509263b5",
     "locked": true,
     "points": 1,
     "schema_version": 3,
     "solution": false,
     "task": false
    }
   },
   "outputs": [],
   "source": []
  },
  {
   "cell_type": "markdown",
   "metadata": {
    "deletable": false,
    "editable": false,
    "nbgrader": {
     "cell_type": "markdown",
     "checksum": "ed06666c5dd2a5c3aced3067888bce2c",
     "grade": false,
     "grade_id": "cell-52a3139cc1d40772",
     "locked": true,
     "schema_version": 3,
     "solution": false,
     "task": false
    }
   },
   "source": [
    "Now, partition the data into training and testing (validation) data sets. "
   ]
  },
  {
   "cell_type": "code",
   "execution_count": 3,
   "metadata": {
    "deletable": false,
    "nbgrader": {
     "cell_type": "code",
     "checksum": "98966f815a561a2a58577facbab3892c",
     "grade": false,
     "grade_id": "cell-0b6568f33be10974",
     "locked": false,
     "schema_version": 3,
     "solution": true,
     "task": false
    }
   },
   "outputs": [],
   "source": [
    "set.seed(1234)\n",
    "pd <- sample(c(2), nrow(data), replace = TRUE, prob = c(0.8, .2))\n",
    "train <- data[pd==1,]\n",
    "validate <- data[pd==2, ]\n"
   ]
  },
  {
   "cell_type": "code",
   "execution_count": null,
   "metadata": {},
   "outputs": [],
   "source": []
  },
  {
   "cell_type": "code",
   "execution_count": null,
   "metadata": {},
   "outputs": [],
   "source": []
  },
  {
   "cell_type": "code",
   "execution_count": null,
   "metadata": {},
   "outputs": [],
   "source": [
    "\n"
   ]
  },
  {
   "cell_type": "code",
   "execution_count": null,
   "metadata": {
    "deletable": false,
    "editable": false,
    "nbgrader": {
     "cell_type": "code",
     "checksum": "03a8dd30397b5333a8053097ac8f57e9",
     "grade": true,
     "grade_id": "cell-5a81b6abfb36978b",
     "locked": true,
     "points": 1,
     "schema_version": 3,
     "solution": false,
     "task": false
    }
   },
   "outputs": [],
   "source": []
  },
  {
   "cell_type": "markdown",
   "metadata": {
    "deletable": false,
    "editable": false,
    "nbgrader": {
     "cell_type": "markdown",
     "checksum": "3bbab534a708de1af08d87f7f175b7aa",
     "grade": false,
     "grade_id": "cell-bea59ef2a856cb82",
     "locked": true,
     "schema_version": 3,
     "solution": false,
     "task": false
    }
   },
   "source": [
    "Using the library `party`, create a decision tree using the function `ctree()`. As there are way too many features using all of the features would result in a cluttered tree. Just use `LB`, `AC` and `FM` to build the tree."
   ]
  },
  {
   "cell_type": "code",
   "execution_count": 4,
   "metadata": {
    "deletable": false,
    "nbgrader": {
     "cell_type": "code",
     "checksum": "6b6cb94368c9376dc24d444a93ebf4f6",
     "grade": false,
     "grade_id": "cell-051d26f33ce679b9",
     "locked": false,
     "schema_version": 3,
     "solution": true,
     "task": false
    }
   },
   "outputs": [
    {
     "name": "stderr",
     "output_type": "stream",
     "text": [
      "Loading required package: grid\n",
      "\n",
      "Loading required package: mvtnorm\n",
      "\n",
      "Loading required package: modeltools\n",
      "\n",
      "Loading required package: stats4\n",
      "\n",
      "Loading required package: strucchange\n",
      "\n",
      "Loading required package: zoo\n",
      "\n",
      "\n",
      "Attaching package: ‘zoo’\n",
      "\n",
      "\n",
      "The following objects are masked from ‘package:base’:\n",
      "\n",
      "    as.Date, as.Date.numeric\n",
      "\n",
      "\n",
      "Loading required package: sandwich\n",
      "\n"
     ]
    },
    {
     "data": {
      "text/plain": [
       "\n",
       "\t Conditional inference tree with 10 terminal nodes\n",
       "\n",
       "Response:  NSPF \n",
       "Inputs:  LB, AC, FM \n",
       "Number of observations:  1718 \n",
       "\n",
       "1) AC <= 0.000834028; criterion = 1, statistic = 263.403\n",
       "  2) LB <= 136; criterion = 1, statistic = 131.511\n",
       "    3) FM <= 0.111898; criterion = 1, statistic = 35.729\n",
       "      4)*  weights = 405 \n",
       "    3) FM > 0.111898\n",
       "      5)*  weights = 11 \n",
       "  2) LB > 136\n",
       "    6)*  weights = 314 \n",
       "1) AC > 0.000834028\n",
       "  7) AC <= 0.002209945; criterion = 1, statistic = 52.155\n",
       "    8) LB <= 136; criterion = 0.999, statistic = 17.292\n",
       "      9) FM <= 0.0121396; criterion = 1, statistic = 42.826\n",
       "        10)*  weights = 103 \n",
       "      9) FM > 0.0121396\n",
       "        11)*  weights = 7 \n",
       "    8) LB > 136\n",
       "      12)*  weights = 78 \n",
       "  7) AC > 0.002209945\n",
       "    13) LB <= 110; criterion = 1, statistic = 18.889\n",
       "      14)*  weights = 18 \n",
       "    13) LB > 110\n",
       "      15) LB <= 147; criterion = 0.965, statistic = 8.877\n",
       "        16) FM <= 0.2354892; criterion = 0.986, statistic = 10.725\n",
       "          17)*  weights = 742 \n",
       "        16) FM > 0.2354892\n",
       "          18)*  weights = 12 \n",
       "      15) LB > 147\n",
       "        19)*  weights = 28 "
      ]
     },
     "metadata": {},
     "output_type": "display_data"
    },
    {
     "data": {
      "image/png": "[encoded data removed]",
      "text/plain": [
       "plot without title"
      ]
     },
     "metadata": {
      "image/png": {
       "height": 420,
       "width": 420
      },
      "text/plain": {
       "height": 420,
       "width": 420
      }
     },
     "output_type": "display_data"
    }
   ],
   "source": [
    "library(party)\n",
    "\n",
    "\n",
    "tree <- ctree(NSPF ~ LB + AC + FM, data = train)\n",
    "\n",
    "tree\n",
    "plot(tree)"
   ]
  },
  {
   "cell_type": "code",
   "execution_count": null,
   "metadata": {
    "deletable": false,
    "editable": false,
    "nbgrader": {
     "cell_type": "code",
     "checksum": "02d4f4a59e4ec470138af399f6849f00",
     "grade": true,
     "grade_id": "cell-836368a969b54d03",
     "locked": true,
     "points": 1,
     "schema_version": 3,
     "solution": false,
     "task": false
    }
   },
   "outputs": [],
   "source": []
  },
  {
   "cell_type": "code",
   "execution_count": 5,
   "metadata": {
    "deletable": false,
    "editable": false,
    "nbgrader": {
     "cell_type": "code",
     "checksum": "7b5a485c5b93cf39e41a240a03ed070f",
     "grade": false,
     "grade_id": "cell-47b05fa760d42e35",
     "locked": true,
     "schema_version": 3,
     "solution": false,
     "task": false
    }
   },
   "outputs": [
    {
     "data": {
      "text/plain": [
       "\n",
       "\t Conditional inference tree with 5 terminal nodes\n",
       "\n",
       "Response:  NSPF \n",
       "Inputs:  LB, AC, FM \n",
       "Number of observations:  1718 \n",
       "\n",
       "1) AC <= 0.000834028; criterion = 1, statistic = 263.403\n",
       "  2) LB <= 136; criterion = 1, statistic = 131.511\n",
       "    3)*  weights = 416 \n",
       "  2) LB > 136\n",
       "    4)*  weights = 314 \n",
       "1) AC > 0.000834028\n",
       "  5) AC <= 0.002209945; criterion = 1, statistic = 52.155\n",
       "    6)*  weights = 188 \n",
       "  5) AC > 0.002209945\n",
       "    7) LB <= 110; criterion = 1, statistic = 18.889\n",
       "      8)*  weights = 18 \n",
       "    7) LB > 110\n",
       "      9)*  weights = 782 "
      ]
     },
     "metadata": {},
     "output_type": "display_data"
    },
    {
     "data": {
      "image/png": "[encoded data removed]",
      "text/plain": [
       "plot without title"
      ]
     },
     "metadata": {
      "image/png": {
       "height": 420,
       "width": 420
      },
      "text/plain": {
       "height": 420,
       "width": 420
      }
     },
     "output_type": "display_data"
    }
   ],
   "source": [
    "tree <- ctree(NSPF ~ LB + AC + FM, data = train, controls = ctree_control(mincriterion = 0.99, minsplit = 500))\n",
    "\n",
    "# the 0.99 is the confidence level, 99% confident that the variable is significant\n",
    "# minsplit is 500 which means that the branch will onlu split into 2 when the sample size is at least 500. This will restrict the tree growth. \n",
    "\n",
    "tree\n",
    "\n",
    "# we observe 9 nodes \n",
    "plot(tree)  # the tree is more compact. \n"
   ]
  },
  {
   "cell_type": "code",
   "execution_count": null,
   "metadata": {},
   "outputs": [],
   "source": []
  },
  {
   "cell_type": "code",
   "execution_count": null,
   "metadata": {},
   "outputs": [],
   "source": []
  },
  {
   "cell_type": "code",
   "execution_count": null,
   "metadata": {},
   "outputs": [],
   "source": []
  }
 ],
 "metadata": {
  "kernelspec": {
   "display_name": "R",
   "language": "R",
   "name": "ir"
  },
  "language_info": {
   "codemirror_mode": "r",
   "file_extension": ".r",
   "mimetype": "text/x-r-source",
   "name": "R",
   "pygments_lexer": "r",
   "version": "3.6.3"
  }
 },
 "nbformat": 4,
 "nbformat_minor": 4
}
