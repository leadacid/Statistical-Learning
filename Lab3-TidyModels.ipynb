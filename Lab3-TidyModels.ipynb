{
 "cells": [
  {
   "cell_type": "markdown",
   "metadata": {
    "deletable": false,
    "editable": false,
    "nbgrader": {
     "cell_type": "markdown",
     "checksum": "81b27538d68fb9b4e1a1a6dd57930d9e",
     "grade": false,
     "grade_id": "cell-9f57eececb1cce93",
     "locked": true,
     "schema_version": 3,
     "solution": false,
     "task": false
    }
   },
   "source": [
    "### Linear Regression using TidyModels\n",
    "\n",
    "In this lab exercise we would be going through <br> \n",
    "- simple linear regression\n",
    "- multiple linear regression\n",
    "- transformations to predictors (using `parsnip`)"
   ]
  },
  {
   "cell_type": "code",
   "execution_count": 1,
   "metadata": {
    "deletable": false,
    "editable": false,
    "nbgrader": {
     "cell_type": "code",
     "checksum": "fcd16527765070e0e5909f0d87e6c48d",
     "grade": false,
     "grade_id": "cell-260692e5d087223e",
     "locked": true,
     "schema_version": 3,
     "solution": false,
     "task": false
    }
   },
   "outputs": [],
   "source": [
    "suppressPackageStartupMessages(library(tidymodels))\n",
    "suppressPackageStartupMessages(library(ISLR))\n",
    "suppressPackageStartupMessages(library(MASS))"
   ]
  },
  {
   "cell_type": "code",
   "execution_count": 2,
   "metadata": {},
   "outputs": [
    {
     "data": {
      "text/html": [
       "<table>\n",
       "<caption>A data.frame: 6 × 6</caption>\n",
       "<thead>\n",
       "\t<tr><th></th><th scope=col>No</th><th scope=col>SG</th><th scope=col>VP</th><th scope=col>V10</th><th scope=col>EP</th><th scope=col>Y</th></tr>\n",
       "\t<tr><th></th><th scope=col>&lt;fct&gt;</th><th scope=col>&lt;dbl&gt;</th><th scope=col>&lt;dbl&gt;</th><th scope=col>&lt;int&gt;</th><th scope=col>&lt;int&gt;</th><th scope=col>&lt;dbl&gt;</th></tr>\n",
       "</thead>\n",
       "<tbody>\n",
       "\t<tr><th scope=row>1</th><td>A</td><td>50.8</td><td>8.6</td><td>190</td><td>205</td><td>12.2</td></tr>\n",
       "\t<tr><th scope=row>2</th><td>A</td><td>50.8</td><td>8.6</td><td>190</td><td>275</td><td>22.3</td></tr>\n",
       "\t<tr><th scope=row>3</th><td>A</td><td>50.8</td><td>8.6</td><td>190</td><td>345</td><td>34.7</td></tr>\n",
       "\t<tr><th scope=row>4</th><td>A</td><td>50.8</td><td>8.6</td><td>190</td><td>407</td><td>45.7</td></tr>\n",
       "\t<tr><th scope=row>5</th><td>B</td><td>40.8</td><td>3.5</td><td>210</td><td>218</td><td> 8.0</td></tr>\n",
       "\t<tr><th scope=row>6</th><td>B</td><td>40.8</td><td>3.5</td><td>210</td><td>273</td><td>13.1</td></tr>\n",
       "</tbody>\n",
       "</table>\n"
      ],
      "text/latex": [
       "A data.frame: 6 × 6\n",
       "\\begin{tabular}{r|llllll}\n",
       "  & No & SG & VP & V10 & EP & Y\\\\\n",
       "  & <fct> & <dbl> & <dbl> & <int> & <int> & <dbl>\\\\\n",
       "\\hline\n",
       "\t1 & A & 50.8 & 8.6 & 190 & 205 & 12.2\\\\\n",
       "\t2 & A & 50.8 & 8.6 & 190 & 275 & 22.3\\\\\n",
       "\t3 & A & 50.8 & 8.6 & 190 & 345 & 34.7\\\\\n",
       "\t4 & A & 50.8 & 8.6 & 190 & 407 & 45.7\\\\\n",
       "\t5 & B & 40.8 & 3.5 & 210 & 218 &  8.0\\\\\n",
       "\t6 & B & 40.8 & 3.5 & 210 & 273 & 13.1\\\\\n",
       "\\end{tabular}\n"
      ],
      "text/markdown": [
       "\n",
       "A data.frame: 6 × 6\n",
       "\n",
       "| <!--/--> | No &lt;fct&gt; | SG &lt;dbl&gt; | VP &lt;dbl&gt; | V10 &lt;int&gt; | EP &lt;int&gt; | Y &lt;dbl&gt; |\n",
       "|---|---|---|---|---|---|---|\n",
       "| 1 | A | 50.8 | 8.6 | 190 | 205 | 12.2 |\n",
       "| 2 | A | 50.8 | 8.6 | 190 | 275 | 22.3 |\n",
       "| 3 | A | 50.8 | 8.6 | 190 | 345 | 34.7 |\n",
       "| 4 | A | 50.8 | 8.6 | 190 | 407 | 45.7 |\n",
       "| 5 | B | 40.8 | 3.5 | 210 | 218 |  8.0 |\n",
       "| 6 | B | 40.8 | 3.5 | 210 | 273 | 13.1 |\n",
       "\n"
      ],
      "text/plain": [
       "  No SG   VP  V10 EP  Y   \n",
       "1 A  50.8 8.6 190 205 12.2\n",
       "2 A  50.8 8.6 190 275 22.3\n",
       "3 A  50.8 8.6 190 345 34.7\n",
       "4 A  50.8 8.6 190 407 45.7\n",
       "5 B  40.8 3.5 210 218  8.0\n",
       "6 B  40.8 3.5 210 273 13.1"
      ]
     },
     "metadata": {},
     "output_type": "display_data"
    }
   ],
   "source": [
    "head(petrol)"
   ]
  },
  {
   "cell_type": "markdown",
   "metadata": {
    "deletable": false,
    "editable": false,
    "nbgrader": {
     "cell_type": "markdown",
     "checksum": "10a6a5298a90faca7537aebc5e5d3c7b",
     "grade": false,
     "grade_id": "cell-338ae82ed91672af",
     "locked": true,
     "schema_version": 3,
     "solution": false,
     "task": false
    }
   },
   "source": [
    "## Simple Linear Regression\n",
    "\n",
    "We are using `Boston` data set - contains various statistics for 506 neighborhoods in Boston\n",
    "\n",
    "Agenda: Build a simple linear regression model that related the median value of owner-occupied homes (`medv`) as the response with a variable indicating the percentage of the population that belongs to a lower status (`lstat`) as the predictor."
   ]
  },
  {
   "cell_type": "markdown",
   "metadata": {
    "deletable": false,
    "editable": false,
    "nbgrader": {
     "cell_type": "markdown",
     "checksum": "9f16f009b8e630963a114066e98d8f31",
     "grade": false,
     "grade_id": "cell-604154f7087026fd",
     "locked": true,
     "schema_version": 3,
     "solution": false,
     "task": false
    }
   },
   "source": [
    "In the below step, we create a parsnip specification for a linear regression model"
   ]
  },
  {
   "cell_type": "code",
   "execution_count": 3,
   "metadata": {
    "deletable": false,
    "editable": false,
    "nbgrader": {
     "cell_type": "code",
     "checksum": "ee9a8b99a96cee2e9c0e02e53edda021",
     "grade": false,
     "grade_id": "cell-bb03607fd5aa09eb",
     "locked": true,
     "schema_version": 3,
     "solution": false,
     "task": false
    }
   },
   "outputs": [],
   "source": [
    "lm_spec <- linear_reg() %>%\n",
    "  set_mode(\"regression\") %>%\n",
    "  set_engine(\"lm\")"
   ]
  },
  {
   "cell_type": "code",
   "execution_count": 4,
   "metadata": {
    "deletable": false,
    "editable": false,
    "nbgrader": {
     "cell_type": "code",
     "checksum": "a96951c6c5069818fb8732229b4fd631",
     "grade": false,
     "grade_id": "cell-e06b7b356281af34",
     "locked": true,
     "schema_version": 3,
     "solution": false,
     "task": false
    }
   },
   "outputs": [
    {
     "data": {
      "text/plain": [
       "Linear Regression Model Specification (regression)\n",
       "\n",
       "Computational engine: lm \n"
      ]
     },
     "metadata": {},
     "output_type": "display_data"
    }
   ],
   "source": [
    "lm_spec"
   ]
  },
  {
   "cell_type": "code",
   "execution_count": 5,
   "metadata": {
    "deletable": false,
    "editable": false,
    "nbgrader": {
     "cell_type": "code",
     "checksum": "9c51e044ede00ec1508a533c0a47c180",
     "grade": false,
     "grade_id": "cell-3ac08a890bd76328",
     "locked": true,
     "schema_version": 3,
     "solution": false,
     "task": false
    }
   },
   "outputs": [
    {
     "data": {
      "text/html": [
       "<table>\n",
       "<caption>A data.frame: 6 × 14</caption>\n",
       "<thead>\n",
       "\t<tr><th></th><th scope=col>crim</th><th scope=col>zn</th><th scope=col>indus</th><th scope=col>chas</th><th scope=col>nox</th><th scope=col>rm</th><th scope=col>age</th><th scope=col>dis</th><th scope=col>rad</th><th scope=col>tax</th><th scope=col>ptratio</th><th scope=col>black</th><th scope=col>lstat</th><th scope=col>medv</th></tr>\n",
       "\t<tr><th></th><th scope=col>&lt;dbl&gt;</th><th scope=col>&lt;dbl&gt;</th><th scope=col>&lt;dbl&gt;</th><th scope=col>&lt;int&gt;</th><th scope=col>&lt;dbl&gt;</th><th scope=col>&lt;dbl&gt;</th><th scope=col>&lt;dbl&gt;</th><th scope=col>&lt;dbl&gt;</th><th scope=col>&lt;int&gt;</th><th scope=col>&lt;dbl&gt;</th><th scope=col>&lt;dbl&gt;</th><th scope=col>&lt;dbl&gt;</th><th scope=col>&lt;dbl&gt;</th><th scope=col>&lt;dbl&gt;</th></tr>\n",
       "</thead>\n",
       "<tbody>\n",
       "\t<tr><th scope=row>1</th><td>0.00632</td><td>18</td><td>2.31</td><td>0</td><td>0.538</td><td>6.575</td><td>65.2</td><td>4.0900</td><td>1</td><td>296</td><td>15.3</td><td>396.90</td><td>4.98</td><td>24.0</td></tr>\n",
       "\t<tr><th scope=row>2</th><td>0.02731</td><td> 0</td><td>7.07</td><td>0</td><td>0.469</td><td>6.421</td><td>78.9</td><td>4.9671</td><td>2</td><td>242</td><td>17.8</td><td>396.90</td><td>9.14</td><td>21.6</td></tr>\n",
       "\t<tr><th scope=row>3</th><td>0.02729</td><td> 0</td><td>7.07</td><td>0</td><td>0.469</td><td>7.185</td><td>61.1</td><td>4.9671</td><td>2</td><td>242</td><td>17.8</td><td>392.83</td><td>4.03</td><td>34.7</td></tr>\n",
       "\t<tr><th scope=row>4</th><td>0.03237</td><td> 0</td><td>2.18</td><td>0</td><td>0.458</td><td>6.998</td><td>45.8</td><td>6.0622</td><td>3</td><td>222</td><td>18.7</td><td>394.63</td><td>2.94</td><td>33.4</td></tr>\n",
       "\t<tr><th scope=row>5</th><td>0.06905</td><td> 0</td><td>2.18</td><td>0</td><td>0.458</td><td>7.147</td><td>54.2</td><td>6.0622</td><td>3</td><td>222</td><td>18.7</td><td>396.90</td><td>5.33</td><td>36.2</td></tr>\n",
       "\t<tr><th scope=row>6</th><td>0.02985</td><td> 0</td><td>2.18</td><td>0</td><td>0.458</td><td>6.430</td><td>58.7</td><td>6.0622</td><td>3</td><td>222</td><td>18.7</td><td>394.12</td><td>5.21</td><td>28.7</td></tr>\n",
       "</tbody>\n",
       "</table>\n"
      ],
      "text/latex": [
       "A data.frame: 6 × 14\n",
       "\\begin{tabular}{r|llllllllllllll}\n",
       "  & crim & zn & indus & chas & nox & rm & age & dis & rad & tax & ptratio & black & lstat & medv\\\\\n",
       "  & <dbl> & <dbl> & <dbl> & <int> & <dbl> & <dbl> & <dbl> & <dbl> & <int> & <dbl> & <dbl> & <dbl> & <dbl> & <dbl>\\\\\n",
       "\\hline\n",
       "\t1 & 0.00632 & 18 & 2.31 & 0 & 0.538 & 6.575 & 65.2 & 4.0900 & 1 & 296 & 15.3 & 396.90 & 4.98 & 24.0\\\\\n",
       "\t2 & 0.02731 &  0 & 7.07 & 0 & 0.469 & 6.421 & 78.9 & 4.9671 & 2 & 242 & 17.8 & 396.90 & 9.14 & 21.6\\\\\n",
       "\t3 & 0.02729 &  0 & 7.07 & 0 & 0.469 & 7.185 & 61.1 & 4.9671 & 2 & 242 & 17.8 & 392.83 & 4.03 & 34.7\\\\\n",
       "\t4 & 0.03237 &  0 & 2.18 & 0 & 0.458 & 6.998 & 45.8 & 6.0622 & 3 & 222 & 18.7 & 394.63 & 2.94 & 33.4\\\\\n",
       "\t5 & 0.06905 &  0 & 2.18 & 0 & 0.458 & 7.147 & 54.2 & 6.0622 & 3 & 222 & 18.7 & 396.90 & 5.33 & 36.2\\\\\n",
       "\t6 & 0.02985 &  0 & 2.18 & 0 & 0.458 & 6.430 & 58.7 & 6.0622 & 3 & 222 & 18.7 & 394.12 & 5.21 & 28.7\\\\\n",
       "\\end{tabular}\n"
      ],
      "text/markdown": [
       "\n",
       "A data.frame: 6 × 14\n",
       "\n",
       "| <!--/--> | crim &lt;dbl&gt; | zn &lt;dbl&gt; | indus &lt;dbl&gt; | chas &lt;int&gt; | nox &lt;dbl&gt; | rm &lt;dbl&gt; | age &lt;dbl&gt; | dis &lt;dbl&gt; | rad &lt;int&gt; | tax &lt;dbl&gt; | ptratio &lt;dbl&gt; | black &lt;dbl&gt; | lstat &lt;dbl&gt; | medv &lt;dbl&gt; |\n",
       "|---|---|---|---|---|---|---|---|---|---|---|---|---|---|---|\n",
       "| 1 | 0.00632 | 18 | 2.31 | 0 | 0.538 | 6.575 | 65.2 | 4.0900 | 1 | 296 | 15.3 | 396.90 | 4.98 | 24.0 |\n",
       "| 2 | 0.02731 |  0 | 7.07 | 0 | 0.469 | 6.421 | 78.9 | 4.9671 | 2 | 242 | 17.8 | 396.90 | 9.14 | 21.6 |\n",
       "| 3 | 0.02729 |  0 | 7.07 | 0 | 0.469 | 7.185 | 61.1 | 4.9671 | 2 | 242 | 17.8 | 392.83 | 4.03 | 34.7 |\n",
       "| 4 | 0.03237 |  0 | 2.18 | 0 | 0.458 | 6.998 | 45.8 | 6.0622 | 3 | 222 | 18.7 | 394.63 | 2.94 | 33.4 |\n",
       "| 5 | 0.06905 |  0 | 2.18 | 0 | 0.458 | 7.147 | 54.2 | 6.0622 | 3 | 222 | 18.7 | 396.90 | 5.33 | 36.2 |\n",
       "| 6 | 0.02985 |  0 | 2.18 | 0 | 0.458 | 6.430 | 58.7 | 6.0622 | 3 | 222 | 18.7 | 394.12 | 5.21 | 28.7 |\n",
       "\n"
      ],
      "text/plain": [
       "  crim    zn indus chas nox   rm    age  dis    rad tax ptratio black  lstat\n",
       "1 0.00632 18 2.31  0    0.538 6.575 65.2 4.0900 1   296 15.3    396.90 4.98 \n",
       "2 0.02731  0 7.07  0    0.469 6.421 78.9 4.9671 2   242 17.8    396.90 9.14 \n",
       "3 0.02729  0 7.07  0    0.469 7.185 61.1 4.9671 2   242 17.8    392.83 4.03 \n",
       "4 0.03237  0 2.18  0    0.458 6.998 45.8 6.0622 3   222 18.7    394.63 2.94 \n",
       "5 0.06905  0 2.18  0    0.458 7.147 54.2 6.0622 3   222 18.7    396.90 5.33 \n",
       "6 0.02985  0 2.18  0    0.458 6.430 58.7 6.0622 3   222 18.7    394.12 5.21 \n",
       "  medv\n",
       "1 24.0\n",
       "2 21.6\n",
       "3 34.7\n",
       "4 33.4\n",
       "5 36.2\n",
       "6 28.7"
      ]
     },
     "metadata": {},
     "output_type": "display_data"
    }
   ],
   "source": [
    "head(Boston)"
   ]
  },
  {
   "cell_type": "markdown",
   "metadata": {
    "deletable": false,
    "editable": false,
    "nbgrader": {
     "cell_type": "markdown",
     "checksum": "e14890112e51333b88b9abf4c9b57590",
     "grade": false,
     "grade_id": "cell-ebc86f0278cfb7b0",
     "locked": true,
     "schema_version": 3,
     "solution": false,
     "task": false
    }
   },
   "source": [
    "Once we have the specification we can fit it by supplying a formula expression and the data we want to fit the model on. \n",
    "\n",
    "The formula is written on the form `y ~ x` where `y` is the name of the response and `x` is the name of the predictors. The names used in the formula should match the names of the variables in the data set passed to data."
   ]
  },
  {
   "cell_type": "code",
   "execution_count": 6,
   "metadata": {
    "deletable": false,
    "editable": false,
    "nbgrader": {
     "cell_type": "code",
     "checksum": "233d4570be82463522960c4d78d63bb5",
     "grade": false,
     "grade_id": "cell-1db2732ffbaa8b4d",
     "locked": true,
     "schema_version": 3,
     "solution": false,
     "task": false
    }
   },
   "outputs": [
    {
     "data": {
      "text/plain": [
       "parsnip model object\n",
       "\n",
       "Fit time:  4ms \n",
       "\n",
       "Call:\n",
       "stats::lm(formula = medv ~ lstat, data = data)\n",
       "\n",
       "Coefficients:\n",
       "(Intercept)        lstat  \n",
       "      34.55        -0.95  \n"
      ]
     },
     "metadata": {},
     "output_type": "display_data"
    }
   ],
   "source": [
    "lm_fit <- lm_spec %>% fit(medv ~ lstat, data = Boston)\n",
    "lm_fit"
   ]
  },
  {
   "cell_type": "markdown",
   "metadata": {
    "deletable": false,
    "editable": false,
    "nbgrader": {
     "cell_type": "markdown",
     "checksum": "7b0b656c92cc1b0b3a2f50a01830c7c3",
     "grade": false,
     "grade_id": "cell-a8861bd06d08171a",
     "locked": true,
     "schema_version": 3,
     "solution": false,
     "task": false
    }
   },
   "source": [
    "The result of this fit is a parsnip model object. This object contains the underlying fit as well as some parsnip-specific information. If we want to look at the underlying fit object we can access it with `lm_fit$fit` or with"
   ]
  },
  {
   "cell_type": "code",
   "execution_count": 7,
   "metadata": {
    "deletable": false,
    "editable": false,
    "nbgrader": {
     "cell_type": "code",
     "checksum": "b88281bc994e1ed62a8f224f84a4d289",
     "grade": false,
     "grade_id": "cell-86db4cd7b96ddc28",
     "locked": true,
     "schema_version": 3,
     "solution": false,
     "task": false
    }
   },
   "outputs": [
    {
     "data": {
      "text/plain": [
       "\n",
       "Call:\n",
       "stats::lm(formula = medv ~ lstat, data = data)\n",
       "\n",
       "Coefficients:\n",
       "(Intercept)        lstat  \n",
       "      34.55        -0.95  \n"
      ]
     },
     "metadata": {},
     "output_type": "display_data"
    }
   ],
   "source": [
    "lm_fit %>% \n",
    "  pluck(\"fit\")"
   ]
  },
  {
   "cell_type": "code",
   "execution_count": 8,
   "metadata": {
    "deletable": false,
    "editable": false,
    "nbgrader": {
     "cell_type": "code",
     "checksum": "2649bcfcc16c7f04a0ebfabeba34f663",
     "grade": false,
     "grade_id": "cell-b901315d7006a378",
     "locked": true,
     "schema_version": 3,
     "solution": false,
     "task": false
    }
   },
   "outputs": [
    {
     "data": {
      "text/plain": [
       "\n",
       "Call:\n",
       "stats::lm(formula = medv ~ lstat, data = data)\n",
       "\n",
       "Residuals:\n",
       "    Min      1Q  Median      3Q     Max \n",
       "-15.168  -3.990  -1.318   2.034  24.500 \n",
       "\n",
       "Coefficients:\n",
       "            Estimate Std. Error t value Pr(>|t|)    \n",
       "(Intercept) 34.55384    0.56263   61.41   <2e-16 ***\n",
       "lstat       -0.95005    0.03873  -24.53   <2e-16 ***\n",
       "---\n",
       "Signif. codes:  0 ‘***’ 0.001 ‘**’ 0.01 ‘*’ 0.05 ‘.’ 0.1 ‘ ’ 1\n",
       "\n",
       "Residual standard error: 6.216 on 504 degrees of freedom\n",
       "Multiple R-squared:  0.5441,\tAdjusted R-squared:  0.5432 \n",
       "F-statistic: 601.6 on 1 and 504 DF,  p-value: < 2.2e-16\n"
      ]
     },
     "metadata": {},
     "output_type": "display_data"
    }
   ],
   "source": [
    "lm_fit %>% \n",
    "  pluck(\"fit\") %>%\n",
    "  summary()"
   ]
  },
  {
   "cell_type": "markdown",
   "metadata": {
    "deletable": false,
    "editable": false,
    "nbgrader": {
     "cell_type": "markdown",
     "checksum": "ae88167c9e1f16bd61167a840978d5bf",
     "grade": false,
     "grade_id": "cell-41bd969dcc2d5f5a",
     "locked": true,
     "schema_version": 3,
     "solution": false,
     "task": false
    }
   },
   "source": [
    "`tidy()` function returns the parameter estimates of a lm object"
   ]
  },
  {
   "cell_type": "code",
   "execution_count": 9,
   "metadata": {
    "deletable": false,
    "editable": false,
    "nbgrader": {
     "cell_type": "code",
     "checksum": "f7198872af1fcfac9d6822c35bbc587a",
     "grade": false,
     "grade_id": "cell-bd414ac075048665",
     "locked": true,
     "schema_version": 3,
     "solution": false,
     "task": false
    }
   },
   "outputs": [
    {
     "data": {
      "text/html": [
       "<table>\n",
       "<caption>A tibble: 2 × 5</caption>\n",
       "<thead>\n",
       "\t<tr><th scope=col>term</th><th scope=col>estimate</th><th scope=col>std.error</th><th scope=col>statistic</th><th scope=col>p.value</th></tr>\n",
       "\t<tr><th scope=col>&lt;chr&gt;</th><th scope=col>&lt;dbl&gt;</th><th scope=col>&lt;dbl&gt;</th><th scope=col>&lt;dbl&gt;</th><th scope=col>&lt;dbl&gt;</th></tr>\n",
       "</thead>\n",
       "<tbody>\n",
       "\t<tr><td>(Intercept)</td><td>34.5538409</td><td>0.56262735</td><td> 61.41515</td><td>3.743081e-236</td></tr>\n",
       "\t<tr><td>lstat      </td><td>-0.9500494</td><td>0.03873342</td><td>-24.52790</td><td> 5.081103e-88</td></tr>\n",
       "</tbody>\n",
       "</table>\n"
      ],
      "text/latex": [
       "A tibble: 2 × 5\n",
       "\\begin{tabular}{lllll}\n",
       " term & estimate & std.error & statistic & p.value\\\\\n",
       " <chr> & <dbl> & <dbl> & <dbl> & <dbl>\\\\\n",
       "\\hline\n",
       "\t (Intercept) & 34.5538409 & 0.56262735 &  61.41515 & 3.743081e-236\\\\\n",
       "\t lstat       & -0.9500494 & 0.03873342 & -24.52790 &  5.081103e-88\\\\\n",
       "\\end{tabular}\n"
      ],
      "text/markdown": [
       "\n",
       "A tibble: 2 × 5\n",
       "\n",
       "| term &lt;chr&gt; | estimate &lt;dbl&gt; | std.error &lt;dbl&gt; | statistic &lt;dbl&gt; | p.value &lt;dbl&gt; |\n",
       "|---|---|---|---|---|\n",
       "| (Intercept) | 34.5538409 | 0.56262735 |  61.41515 | 3.743081e-236 |\n",
       "| lstat       | -0.9500494 | 0.03873342 | -24.52790 |  5.081103e-88 |\n",
       "\n"
      ],
      "text/plain": [
       "  term        estimate   std.error  statistic p.value      \n",
       "1 (Intercept) 34.5538409 0.56262735  61.41515 3.743081e-236\n",
       "2 lstat       -0.9500494 0.03873342 -24.52790  5.081103e-88"
      ]
     },
     "metadata": {},
     "output_type": "display_data"
    }
   ],
   "source": [
    "tidy(lm_fit)"
   ]
  },
  {
   "cell_type": "markdown",
   "metadata": {
    "deletable": false,
    "editable": false,
    "nbgrader": {
     "cell_type": "markdown",
     "checksum": "d9af3c08ff7beb8493bde00ae0bfabab",
     "grade": false,
     "grade_id": "cell-87171bf985ca036d",
     "locked": true,
     "schema_version": 3,
     "solution": false,
     "task": false
    }
   },
   "source": [
    "`glance()` can be used to extract the model statistics"
   ]
  },
  {
   "cell_type": "code",
   "execution_count": 10,
   "metadata": {
    "deletable": false,
    "editable": false,
    "nbgrader": {
     "cell_type": "code",
     "checksum": "20dd6b6f77fa37eb693efc69729cde93",
     "grade": false,
     "grade_id": "cell-34ea9a0b701ba65e",
     "locked": true,
     "schema_version": 3,
     "solution": false,
     "task": false
    }
   },
   "outputs": [
    {
     "data": {
      "text/html": [
       "<table>\n",
       "<caption>A tibble: 1 × 12</caption>\n",
       "<thead>\n",
       "\t<tr><th scope=col>r.squared</th><th scope=col>adj.r.squared</th><th scope=col>sigma</th><th scope=col>statistic</th><th scope=col>p.value</th><th scope=col>df</th><th scope=col>logLik</th><th scope=col>AIC</th><th scope=col>BIC</th><th scope=col>deviance</th><th scope=col>df.residual</th><th scope=col>nobs</th></tr>\n",
       "\t<tr><th scope=col>&lt;dbl&gt;</th><th scope=col>&lt;dbl&gt;</th><th scope=col>&lt;dbl&gt;</th><th scope=col>&lt;dbl&gt;</th><th scope=col>&lt;dbl&gt;</th><th scope=col>&lt;dbl&gt;</th><th scope=col>&lt;dbl&gt;</th><th scope=col>&lt;dbl&gt;</th><th scope=col>&lt;dbl&gt;</th><th scope=col>&lt;dbl&gt;</th><th scope=col>&lt;int&gt;</th><th scope=col>&lt;int&gt;</th></tr>\n",
       "</thead>\n",
       "<tbody>\n",
       "\t<tr><td>0.5441463</td><td>0.5432418</td><td>6.21576</td><td>601.6179</td><td>5.081103e-88</td><td>1</td><td>-1641.487</td><td>3288.975</td><td>3301.655</td><td>19472.38</td><td>504</td><td>506</td></tr>\n",
       "</tbody>\n",
       "</table>\n"
      ],
      "text/latex": [
       "A tibble: 1 × 12\n",
       "\\begin{tabular}{llllllllllll}\n",
       " r.squared & adj.r.squared & sigma & statistic & p.value & df & logLik & AIC & BIC & deviance & df.residual & nobs\\\\\n",
       " <dbl> & <dbl> & <dbl> & <dbl> & <dbl> & <dbl> & <dbl> & <dbl> & <dbl> & <dbl> & <int> & <int>\\\\\n",
       "\\hline\n",
       "\t 0.5441463 & 0.5432418 & 6.21576 & 601.6179 & 5.081103e-88 & 1 & -1641.487 & 3288.975 & 3301.655 & 19472.38 & 504 & 506\\\\\n",
       "\\end{tabular}\n"
      ],
      "text/markdown": [
       "\n",
       "A tibble: 1 × 12\n",
       "\n",
       "| r.squared &lt;dbl&gt; | adj.r.squared &lt;dbl&gt; | sigma &lt;dbl&gt; | statistic &lt;dbl&gt; | p.value &lt;dbl&gt; | df &lt;dbl&gt; | logLik &lt;dbl&gt; | AIC &lt;dbl&gt; | BIC &lt;dbl&gt; | deviance &lt;dbl&gt; | df.residual &lt;int&gt; | nobs &lt;int&gt; |\n",
       "|---|---|---|---|---|---|---|---|---|---|---|---|\n",
       "| 0.5441463 | 0.5432418 | 6.21576 | 601.6179 | 5.081103e-88 | 1 | -1641.487 | 3288.975 | 3301.655 | 19472.38 | 504 | 506 |\n",
       "\n"
      ],
      "text/plain": [
       "  r.squared adj.r.squared sigma   statistic p.value      df logLik    AIC     \n",
       "1 0.5441463 0.5432418     6.21576 601.6179  5.081103e-88 1  -1641.487 3288.975\n",
       "  BIC      deviance df.residual nobs\n",
       "1 3301.655 19472.38 504         506 "
      ]
     },
     "metadata": {},
     "output_type": "display_data"
    }
   ],
   "source": [
    "glance(lm_fit)"
   ]
  },
  {
   "cell_type": "markdown",
   "metadata": {
    "deletable": false,
    "editable": false,
    "nbgrader": {
     "cell_type": "markdown",
     "checksum": "4b9e4a6ff0246ff37023c9f9200dd351",
     "grade": false,
     "grade_id": "cell-0fb75f5d110036fc",
     "locked": true,
     "schema_version": 3,
     "solution": false,
     "task": false
    }
   },
   "source": [
    "If we like the model fit then we can generate the predictions using the `predict()` function"
   ]
  },
  {
   "cell_type": "code",
   "execution_count": 11,
   "metadata": {
    "deletable": false,
    "editable": false,
    "nbgrader": {
     "cell_type": "code",
     "checksum": "169fb24aeb09a651a56e737072f7e11e",
     "grade": false,
     "grade_id": "cell-e6e17f94151a64c6",
     "locked": true,
     "schema_version": 3,
     "solution": false,
     "task": false
    }
   },
   "outputs": [
    {
     "data": {
      "text/html": [
       "<table>\n",
       "<caption>A tibble: 506 × 1</caption>\n",
       "<thead>\n",
       "\t<tr><th scope=col>.pred</th></tr>\n",
       "\t<tr><th scope=col>&lt;dbl&gt;</th></tr>\n",
       "</thead>\n",
       "<tbody>\n",
       "\t<tr><td>29.822595</td></tr>\n",
       "\t<tr><td>25.870390</td></tr>\n",
       "\t<tr><td>30.725142</td></tr>\n",
       "\t<tr><td>31.760696</td></tr>\n",
       "\t<tr><td>29.490078</td></tr>\n",
       "\t<tr><td>29.604084</td></tr>\n",
       "\t<tr><td>22.744727</td></tr>\n",
       "\t<tr><td>16.360396</td></tr>\n",
       "\t<tr><td> 6.118864</td></tr>\n",
       "\t<tr><td>18.307997</td></tr>\n",
       "\t<tr><td>15.125332</td></tr>\n",
       "\t<tr><td>21.946686</td></tr>\n",
       "\t<tr><td>19.628566</td></tr>\n",
       "\t<tr><td>26.706433</td></tr>\n",
       "\t<tr><td>24.806335</td></tr>\n",
       "\t<tr><td>26.506923</td></tr>\n",
       "\t<tr><td>28.302516</td></tr>\n",
       "\t<tr><td>20.616617</td></tr>\n",
       "\t<tr><td>23.447764</td></tr>\n",
       "\t<tr><td>23.837284</td></tr>\n",
       "\t<tr><td>14.583803</td></tr>\n",
       "\t<tr><td>21.414658</td></tr>\n",
       "\t<tr><td>16.768917</td></tr>\n",
       "\t<tr><td>15.666860</td></tr>\n",
       "\t<tr><td>19.068036</td></tr>\n",
       "\t<tr><td>18.868526</td></tr>\n",
       "\t<tr><td>20.483610</td></tr>\n",
       "\t<tr><td>18.136988</td></tr>\n",
       "\t<tr><td>22.393209</td></tr>\n",
       "\t<tr><td>23.172250</td></tr>\n",
       "\t<tr><td>⋮</td></tr>\n",
       "\t<tr><td>16.806919</td></tr>\n",
       "\t<tr><td>10.888111</td></tr>\n",
       "\t<tr><td>17.424451</td></tr>\n",
       "\t<tr><td>22.098694</td></tr>\n",
       "\t<tr><td>24.350311</td></tr>\n",
       "\t<tr><td>27.200459</td></tr>\n",
       "\t<tr><td>27.893995</td></tr>\n",
       "\t<tr><td>24.654327</td></tr>\n",
       "\t<tr><td>21.880183</td></tr>\n",
       "\t<tr><td>24.502319</td></tr>\n",
       "\t<tr><td>20.322102</td></tr>\n",
       "\t<tr><td>23.675776</td></tr>\n",
       "\t<tr><td>17.395950</td></tr>\n",
       "\t<tr><td>11.781158</td></tr>\n",
       "\t<tr><td> 6.356376</td></tr>\n",
       "\t<tr><td>17.386449</td></tr>\n",
       "\t<tr><td>21.870682</td></tr>\n",
       "\t<tr><td>23.143748</td></tr>\n",
       "\t<tr><td>21.642670</td></tr>\n",
       "\t<tr><td>17.832972</td></tr>\n",
       "\t<tr><td>14.469798</td></tr>\n",
       "\t<tr><td>21.158145</td></tr>\n",
       "\t<tr><td>22.279203</td></tr>\n",
       "\t<tr><td>20.208096</td></tr>\n",
       "\t<tr><td>20.939634</td></tr>\n",
       "\t<tr><td>25.366864</td></tr>\n",
       "\t<tr><td>25.927393</td></tr>\n",
       "\t<tr><td>29.195563</td></tr>\n",
       "\t<tr><td>28.397521</td></tr>\n",
       "\t<tr><td>27.067452</td></tr>\n",
       "</tbody>\n",
       "</table>\n"
      ],
      "text/latex": [
       "A tibble: 506 × 1\n",
       "\\begin{tabular}{l}\n",
       " .pred\\\\\n",
       " <dbl>\\\\\n",
       "\\hline\n",
       "\t 29.822595\\\\\n",
       "\t 25.870390\\\\\n",
       "\t 30.725142\\\\\n",
       "\t 31.760696\\\\\n",
       "\t 29.490078\\\\\n",
       "\t 29.604084\\\\\n",
       "\t 22.744727\\\\\n",
       "\t 16.360396\\\\\n",
       "\t  6.118864\\\\\n",
       "\t 18.307997\\\\\n",
       "\t 15.125332\\\\\n",
       "\t 21.946686\\\\\n",
       "\t 19.628566\\\\\n",
       "\t 26.706433\\\\\n",
       "\t 24.806335\\\\\n",
       "\t 26.506923\\\\\n",
       "\t 28.302516\\\\\n",
       "\t 20.616617\\\\\n",
       "\t 23.447764\\\\\n",
       "\t 23.837284\\\\\n",
       "\t 14.583803\\\\\n",
       "\t 21.414658\\\\\n",
       "\t 16.768917\\\\\n",
       "\t 15.666860\\\\\n",
       "\t 19.068036\\\\\n",
       "\t 18.868526\\\\\n",
       "\t 20.483610\\\\\n",
       "\t 18.136988\\\\\n",
       "\t 22.393209\\\\\n",
       "\t 23.172250\\\\\n",
       "\t ⋮\\\\\n",
       "\t 16.806919\\\\\n",
       "\t 10.888111\\\\\n",
       "\t 17.424451\\\\\n",
       "\t 22.098694\\\\\n",
       "\t 24.350311\\\\\n",
       "\t 27.200459\\\\\n",
       "\t 27.893995\\\\\n",
       "\t 24.654327\\\\\n",
       "\t 21.880183\\\\\n",
       "\t 24.502319\\\\\n",
       "\t 20.322102\\\\\n",
       "\t 23.675776\\\\\n",
       "\t 17.395950\\\\\n",
       "\t 11.781158\\\\\n",
       "\t  6.356376\\\\\n",
       "\t 17.386449\\\\\n",
       "\t 21.870682\\\\\n",
       "\t 23.143748\\\\\n",
       "\t 21.642670\\\\\n",
       "\t 17.832972\\\\\n",
       "\t 14.469798\\\\\n",
       "\t 21.158145\\\\\n",
       "\t 22.279203\\\\\n",
       "\t 20.208096\\\\\n",
       "\t 20.939634\\\\\n",
       "\t 25.366864\\\\\n",
       "\t 25.927393\\\\\n",
       "\t 29.195563\\\\\n",
       "\t 28.397521\\\\\n",
       "\t 27.067452\\\\\n",
       "\\end{tabular}\n"
      ],
      "text/markdown": [
       "\n",
       "A tibble: 506 × 1\n",
       "\n",
       "| .pred &lt;dbl&gt; |\n",
       "|---|\n",
       "| 29.822595 |\n",
       "| 25.870390 |\n",
       "| 30.725142 |\n",
       "| 31.760696 |\n",
       "| 29.490078 |\n",
       "| 29.604084 |\n",
       "| 22.744727 |\n",
       "| 16.360396 |\n",
       "|  6.118864 |\n",
       "| 18.307997 |\n",
       "| 15.125332 |\n",
       "| 21.946686 |\n",
       "| 19.628566 |\n",
       "| 26.706433 |\n",
       "| 24.806335 |\n",
       "| 26.506923 |\n",
       "| 28.302516 |\n",
       "| 20.616617 |\n",
       "| 23.447764 |\n",
       "| 23.837284 |\n",
       "| 14.583803 |\n",
       "| 21.414658 |\n",
       "| 16.768917 |\n",
       "| 15.666860 |\n",
       "| 19.068036 |\n",
       "| 18.868526 |\n",
       "| 20.483610 |\n",
       "| 18.136988 |\n",
       "| 22.393209 |\n",
       "| 23.172250 |\n",
       "| ⋮ |\n",
       "| 16.806919 |\n",
       "| 10.888111 |\n",
       "| 17.424451 |\n",
       "| 22.098694 |\n",
       "| 24.350311 |\n",
       "| 27.200459 |\n",
       "| 27.893995 |\n",
       "| 24.654327 |\n",
       "| 21.880183 |\n",
       "| 24.502319 |\n",
       "| 20.322102 |\n",
       "| 23.675776 |\n",
       "| 17.395950 |\n",
       "| 11.781158 |\n",
       "|  6.356376 |\n",
       "| 17.386449 |\n",
       "| 21.870682 |\n",
       "| 23.143748 |\n",
       "| 21.642670 |\n",
       "| 17.832972 |\n",
       "| 14.469798 |\n",
       "| 21.158145 |\n",
       "| 22.279203 |\n",
       "| 20.208096 |\n",
       "| 20.939634 |\n",
       "| 25.366864 |\n",
       "| 25.927393 |\n",
       "| 29.195563 |\n",
       "| 28.397521 |\n",
       "| 27.067452 |\n",
       "\n"
      ],
      "text/plain": [
       "    .pred    \n",
       "1   29.822595\n",
       "2   25.870390\n",
       "3   30.725142\n",
       "4   31.760696\n",
       "5   29.490078\n",
       "6   29.604084\n",
       "7   22.744727\n",
       "8   16.360396\n",
       "9    6.118864\n",
       "10  18.307997\n",
       "11  15.125332\n",
       "12  21.946686\n",
       "13  19.628566\n",
       "14  26.706433\n",
       "15  24.806335\n",
       "16  26.506923\n",
       "17  28.302516\n",
       "18  20.616617\n",
       "19  23.447764\n",
       "20  23.837284\n",
       "21  14.583803\n",
       "22  21.414658\n",
       "23  16.768917\n",
       "24  15.666860\n",
       "25  19.068036\n",
       "26  18.868526\n",
       "27  20.483610\n",
       "28  18.136988\n",
       "29  22.393209\n",
       "30  23.172250\n",
       "⋮   ⋮        \n",
       "477 16.806919\n",
       "478 10.888111\n",
       "479 17.424451\n",
       "480 22.098694\n",
       "481 24.350311\n",
       "482 27.200459\n",
       "483 27.893995\n",
       "484 24.654327\n",
       "485 21.880183\n",
       "486 24.502319\n",
       "487 20.322102\n",
       "488 23.675776\n",
       "489 17.395950\n",
       "490 11.781158\n",
       "491  6.356376\n",
       "492 17.386449\n",
       "493 21.870682\n",
       "494 23.143748\n",
       "495 21.642670\n",
       "496 17.832972\n",
       "497 14.469798\n",
       "498 21.158145\n",
       "499 22.279203\n",
       "500 20.208096\n",
       "501 20.939634\n",
       "502 25.366864\n",
       "503 25.927393\n",
       "504 29.195563\n",
       "505 28.397521\n",
       "506 27.067452"
      ]
     },
     "metadata": {},
     "output_type": "display_data"
    }
   ],
   "source": [
    "predict(lm_fit, new_data = Boston)"
   ]
  },
  {
   "cell_type": "markdown",
   "metadata": {
    "deletable": false,
    "editable": false,
    "nbgrader": {
     "cell_type": "markdown",
     "checksum": "707c8b494646a32b5eb876638198f925",
     "grade": false,
     "grade_id": "cell-9ea2de1458502227",
     "locked": true,
     "schema_version": 3,
     "solution": false,
     "task": false
    }
   },
   "source": [
    "### Excercise\n",
    "\n",
    "Agenda: Build a simple linear regression model that relates `medv` as response to `age` as the predictor\n"
   ]
  },
  {
   "cell_type": "code",
   "execution_count": 12,
   "metadata": {
    "deletable": false,
    "nbgrader": {
     "cell_type": "code",
     "checksum": "e69427ed8dea00ab455a77826986b9d9",
     "grade": false,
     "grade_id": "cell-971ba2dceac28457",
     "locked": false,
     "schema_version": 3,
     "solution": true,
     "task": false
    }
   },
   "outputs": [],
   "source": [
    "lm.model = function(){\n",
    "    lm_spec %>% fit(medv ~ age, data = Boston)\n",
    "}"
   ]
  },
  {
   "cell_type": "code",
   "execution_count": 13,
   "metadata": {
    "deletable": false,
    "editable": false,
    "nbgrader": {
     "cell_type": "code",
     "checksum": "c95e3ebaefd1ff0fda44fd99fd3209c4",
     "grade": true,
     "grade_id": "cell-737ad03a2bff49ee",
     "locked": true,
     "points": 20,
     "schema_version": 3,
     "solution": false,
     "task": false
    }
   },
   "outputs": [],
   "source": [
    "#hidden test cases \n"
   ]
  },
  {
   "cell_type": "code",
   "execution_count": 14,
   "metadata": {
    "deletable": false,
    "nbgrader": {
     "cell_type": "code",
     "checksum": "453dbc2345dac908027f0c65318ce75b",
     "grade": false,
     "grade_id": "cell-0d0804059f71d7c2",
     "locked": false,
     "schema_version": 3,
     "solution": true,
     "task": false
    }
   },
   "outputs": [],
   "source": [
    "# your code here\n",
    "lm.predict = function() {\n",
    "    predict(lm.model(), new_data = Boston)\n",
    " }\n"
   ]
  },
  {
   "cell_type": "code",
   "execution_count": 15,
   "metadata": {
    "deletable": false,
    "editable": false,
    "nbgrader": {
     "cell_type": "code",
     "checksum": "3039d40c9cd9a1b0780baf7e1a740f1d",
     "grade": true,
     "grade_id": "cell-514f8c74a301fae5",
     "locked": true,
     "points": 20,
     "schema_version": 3,
     "solution": false,
     "task": false
    }
   },
   "outputs": [],
   "source": [
    "#hidden test cases \n"
   ]
  },
  {
   "cell_type": "markdown",
   "metadata": {
    "deletable": false,
    "editable": false,
    "nbgrader": {
     "cell_type": "markdown",
     "checksum": "47d4fe28f061daa2756eb6416218b045",
     "grade": false,
     "grade_id": "cell-3b643c514feed4e7",
     "locked": true,
     "schema_version": 3,
     "solution": false,
     "task": false
    }
   },
   "source": [
    "## Multiple Linear Regression\n",
    "\n",
    "The multiple linear regression model can be fit in much the same way as the simple linear regression model. The only difference is how we specify the predictors. We are using the same formula expression `y ~ x`, but we can specify multiple values by separating them with `+s`"
   ]
  },
  {
   "cell_type": "code",
   "execution_count": 16,
   "metadata": {
    "deletable": false,
    "editable": false,
    "nbgrader": {
     "cell_type": "code",
     "checksum": "81658b426b8326a454b1b6ce237e0f74",
     "grade": false,
     "grade_id": "cell-90270c53f210573c",
     "locked": true,
     "schema_version": 3,
     "solution": false,
     "task": false
    }
   },
   "outputs": [
    {
     "data": {
      "text/plain": [
       "parsnip model object\n",
       "\n",
       "Fit time:  1ms \n",
       "\n",
       "Call:\n",
       "stats::lm(formula = medv ~ lstat + age, data = data)\n",
       "\n",
       "Coefficients:\n",
       "(Intercept)        lstat          age  \n",
       "   33.22276     -1.03207      0.03454  \n"
      ]
     },
     "metadata": {},
     "output_type": "display_data"
    }
   ],
   "source": [
    "lm_fit2 <- lm_spec %>% \n",
    "  fit(medv ~ lstat + age, data = Boston)\n",
    "\n",
    "lm_fit2"
   ]
  },
  {
   "cell_type": "code",
   "execution_count": 17,
   "metadata": {
    "deletable": false,
    "editable": false,
    "nbgrader": {
     "cell_type": "code",
     "checksum": "e2dc773b517910b1539b486ccad6e235",
     "grade": false,
     "grade_id": "cell-c0884afdf0b65b4e",
     "locked": true,
     "schema_version": 3,
     "solution": false,
     "task": false
    }
   },
   "outputs": [
    {
     "data": {
      "text/html": [
       "<table>\n",
       "<caption>A tibble: 3 × 5</caption>\n",
       "<thead>\n",
       "\t<tr><th scope=col>term</th><th scope=col>estimate</th><th scope=col>std.error</th><th scope=col>statistic</th><th scope=col>p.value</th></tr>\n",
       "\t<tr><th scope=col>&lt;chr&gt;</th><th scope=col>&lt;dbl&gt;</th><th scope=col>&lt;dbl&gt;</th><th scope=col>&lt;dbl&gt;</th><th scope=col>&lt;dbl&gt;</th></tr>\n",
       "</thead>\n",
       "<tbody>\n",
       "\t<tr><td>(Intercept)</td><td>33.22276053</td><td>0.73084711</td><td> 45.457881</td><td>2.943785e-180</td></tr>\n",
       "\t<tr><td>lstat      </td><td>-1.03206856</td><td>0.04819073</td><td>-21.416330</td><td> 8.419554e-73</td></tr>\n",
       "\t<tr><td>age        </td><td> 0.03454434</td><td>0.01222547</td><td>  2.825605</td><td> 4.906776e-03</td></tr>\n",
       "</tbody>\n",
       "</table>\n"
      ],
      "text/latex": [
       "A tibble: 3 × 5\n",
       "\\begin{tabular}{lllll}\n",
       " term & estimate & std.error & statistic & p.value\\\\\n",
       " <chr> & <dbl> & <dbl> & <dbl> & <dbl>\\\\\n",
       "\\hline\n",
       "\t (Intercept) & 33.22276053 & 0.73084711 &  45.457881 & 2.943785e-180\\\\\n",
       "\t lstat       & -1.03206856 & 0.04819073 & -21.416330 &  8.419554e-73\\\\\n",
       "\t age         &  0.03454434 & 0.01222547 &   2.825605 &  4.906776e-03\\\\\n",
       "\\end{tabular}\n"
      ],
      "text/markdown": [
       "\n",
       "A tibble: 3 × 5\n",
       "\n",
       "| term &lt;chr&gt; | estimate &lt;dbl&gt; | std.error &lt;dbl&gt; | statistic &lt;dbl&gt; | p.value &lt;dbl&gt; |\n",
       "|---|---|---|---|---|\n",
       "| (Intercept) | 33.22276053 | 0.73084711 |  45.457881 | 2.943785e-180 |\n",
       "| lstat       | -1.03206856 | 0.04819073 | -21.416330 |  8.419554e-73 |\n",
       "| age         |  0.03454434 | 0.01222547 |   2.825605 |  4.906776e-03 |\n",
       "\n"
      ],
      "text/plain": [
       "  term        estimate    std.error  statistic  p.value      \n",
       "1 (Intercept) 33.22276053 0.73084711  45.457881 2.943785e-180\n",
       "2 lstat       -1.03206856 0.04819073 -21.416330  8.419554e-73\n",
       "3 age          0.03454434 0.01222547   2.825605  4.906776e-03"
      ]
     },
     "metadata": {},
     "output_type": "display_data"
    },
    {
     "data": {
      "text/html": [
       "<table>\n",
       "<caption>A tibble: 506 × 1</caption>\n",
       "<thead>\n",
       "\t<tr><th scope=col>.pred</th></tr>\n",
       "\t<tr><th scope=col>&lt;dbl&gt;</th></tr>\n",
       "</thead>\n",
       "<tbody>\n",
       "\t<tr><td>30.335350</td></tr>\n",
       "\t<tr><td>26.515202</td></tr>\n",
       "\t<tr><td>31.174183</td></tr>\n",
       "\t<tr><td>31.770610</td></tr>\n",
       "\t<tr><td>29.594138</td></tr>\n",
       "\t<tr><td>29.873436</td></tr>\n",
       "\t<tr><td>22.694801</td></tr>\n",
       "\t<tr><td>16.778358</td></tr>\n",
       "\t<tr><td> 5.787382</td></tr>\n",
       "\t<tr><td>18.541747</td></tr>\n",
       "\t<tr><td>15.374490</td></tr>\n",
       "\t<tr><td>22.390936</td></tr>\n",
       "\t<tr><td>18.356193</td></tr>\n",
       "\t<tr><td>26.832714</td></tr>\n",
       "\t<tr><td>25.552734</td></tr>\n",
       "\t<tr><td>26.432895</td></tr>\n",
       "\t<tr><td>27.443898</td></tr>\n",
       "\t<tr><td>20.904587</td></tr>\n",
       "\t<tr><td>22.422202</td></tr>\n",
       "\t<tr><td>23.981859</td></tr>\n",
       "\t<tr><td>14.917479</td></tr>\n",
       "\t<tr><td>22.030607</td></tr>\n",
       "\t<tr><td>17.070153</td></tr>\n",
       "\t<tr><td>16.159671</td></tr>\n",
       "\t<tr><td>19.650665</td></tr>\n",
       "\t<tr><td>19.143758</td></tr>\n",
       "\t<tr><td>21.057179</td></tr>\n",
       "\t<tr><td>18.456153</td></tr>\n",
       "\t<tr><td>23.273268</td></tr>\n",
       "\t<tr><td>23.874300</td></tr>\n",
       "\t<tr><td>⋮</td></tr>\n",
       "\t<tr><td>17.177070</td></tr>\n",
       "\t<tr><td>10.875097</td></tr>\n",
       "\t<tr><td>17.955002</td></tr>\n",
       "\t<tr><td>22.732243</td></tr>\n",
       "\t<tr><td>24.373363</td></tr>\n",
       "\t<tr><td>27.821921</td></tr>\n",
       "\t<tr><td>28.647874</td></tr>\n",
       "\t<tr><td>23.860743</td></tr>\n",
       "\t<tr><td>20.902374</td></tr>\n",
       "\t<tr><td>24.096326</td></tr>\n",
       "\t<tr><td>20.519012</td></tr>\n",
       "\t<tr><td>23.243334</td></tr>\n",
       "\t<tr><td>17.785862</td></tr>\n",
       "\t<tr><td>11.879786</td></tr>\n",
       "\t<tr><td> 5.976311</td></tr>\n",
       "\t<tr><td>17.986262</td></tr>\n",
       "\t<tr><td>22.329097</td></tr>\n",
       "\t<tr><td>22.693011</td></tr>\n",
       "\t<tr><td>20.668538</td></tr>\n",
       "\t<tr><td>16.053231</td></tr>\n",
       "\t<tr><td>13.923113</td></tr>\n",
       "\t<tr><td>21.109424</td></tr>\n",
       "\t<tr><td>22.144180</td></tr>\n",
       "\t<tr><td>20.177534</td></tr>\n",
       "\t<tr><td>21.186402</td></tr>\n",
       "\t<tr><td>25.629671</td></tr>\n",
       "\t<tr><td>26.501129</td></tr>\n",
       "\t<tr><td>30.545429</td></tr>\n",
       "\t<tr><td>29.619766</td></tr>\n",
       "\t<tr><td>27.881243</td></tr>\n",
       "</tbody>\n",
       "</table>\n"
      ],
      "text/latex": [
       "A tibble: 506 × 1\n",
       "\\begin{tabular}{l}\n",
       " .pred\\\\\n",
       " <dbl>\\\\\n",
       "\\hline\n",
       "\t 30.335350\\\\\n",
       "\t 26.515202\\\\\n",
       "\t 31.174183\\\\\n",
       "\t 31.770610\\\\\n",
       "\t 29.594138\\\\\n",
       "\t 29.873436\\\\\n",
       "\t 22.694801\\\\\n",
       "\t 16.778358\\\\\n",
       "\t  5.787382\\\\\n",
       "\t 18.541747\\\\\n",
       "\t 15.374490\\\\\n",
       "\t 22.390936\\\\\n",
       "\t 18.356193\\\\\n",
       "\t 26.832714\\\\\n",
       "\t 25.552734\\\\\n",
       "\t 26.432895\\\\\n",
       "\t 27.443898\\\\\n",
       "\t 20.904587\\\\\n",
       "\t 22.422202\\\\\n",
       "\t 23.981859\\\\\n",
       "\t 14.917479\\\\\n",
       "\t 22.030607\\\\\n",
       "\t 17.070153\\\\\n",
       "\t 16.159671\\\\\n",
       "\t 19.650665\\\\\n",
       "\t 19.143758\\\\\n",
       "\t 21.057179\\\\\n",
       "\t 18.456153\\\\\n",
       "\t 23.273268\\\\\n",
       "\t 23.874300\\\\\n",
       "\t ⋮\\\\\n",
       "\t 17.177070\\\\\n",
       "\t 10.875097\\\\\n",
       "\t 17.955002\\\\\n",
       "\t 22.732243\\\\\n",
       "\t 24.373363\\\\\n",
       "\t 27.821921\\\\\n",
       "\t 28.647874\\\\\n",
       "\t 23.860743\\\\\n",
       "\t 20.902374\\\\\n",
       "\t 24.096326\\\\\n",
       "\t 20.519012\\\\\n",
       "\t 23.243334\\\\\n",
       "\t 17.785862\\\\\n",
       "\t 11.879786\\\\\n",
       "\t  5.976311\\\\\n",
       "\t 17.986262\\\\\n",
       "\t 22.329097\\\\\n",
       "\t 22.693011\\\\\n",
       "\t 20.668538\\\\\n",
       "\t 16.053231\\\\\n",
       "\t 13.923113\\\\\n",
       "\t 21.109424\\\\\n",
       "\t 22.144180\\\\\n",
       "\t 20.177534\\\\\n",
       "\t 21.186402\\\\\n",
       "\t 25.629671\\\\\n",
       "\t 26.501129\\\\\n",
       "\t 30.545429\\\\\n",
       "\t 29.619766\\\\\n",
       "\t 27.881243\\\\\n",
       "\\end{tabular}\n"
      ],
      "text/markdown": [
       "\n",
       "A tibble: 506 × 1\n",
       "\n",
       "| .pred &lt;dbl&gt; |\n",
       "|---|\n",
       "| 30.335350 |\n",
       "| 26.515202 |\n",
       "| 31.174183 |\n",
       "| 31.770610 |\n",
       "| 29.594138 |\n",
       "| 29.873436 |\n",
       "| 22.694801 |\n",
       "| 16.778358 |\n",
       "|  5.787382 |\n",
       "| 18.541747 |\n",
       "| 15.374490 |\n",
       "| 22.390936 |\n",
       "| 18.356193 |\n",
       "| 26.832714 |\n",
       "| 25.552734 |\n",
       "| 26.432895 |\n",
       "| 27.443898 |\n",
       "| 20.904587 |\n",
       "| 22.422202 |\n",
       "| 23.981859 |\n",
       "| 14.917479 |\n",
       "| 22.030607 |\n",
       "| 17.070153 |\n",
       "| 16.159671 |\n",
       "| 19.650665 |\n",
       "| 19.143758 |\n",
       "| 21.057179 |\n",
       "| 18.456153 |\n",
       "| 23.273268 |\n",
       "| 23.874300 |\n",
       "| ⋮ |\n",
       "| 17.177070 |\n",
       "| 10.875097 |\n",
       "| 17.955002 |\n",
       "| 22.732243 |\n",
       "| 24.373363 |\n",
       "| 27.821921 |\n",
       "| 28.647874 |\n",
       "| 23.860743 |\n",
       "| 20.902374 |\n",
       "| 24.096326 |\n",
       "| 20.519012 |\n",
       "| 23.243334 |\n",
       "| 17.785862 |\n",
       "| 11.879786 |\n",
       "|  5.976311 |\n",
       "| 17.986262 |\n",
       "| 22.329097 |\n",
       "| 22.693011 |\n",
       "| 20.668538 |\n",
       "| 16.053231 |\n",
       "| 13.923113 |\n",
       "| 21.109424 |\n",
       "| 22.144180 |\n",
       "| 20.177534 |\n",
       "| 21.186402 |\n",
       "| 25.629671 |\n",
       "| 26.501129 |\n",
       "| 30.545429 |\n",
       "| 29.619766 |\n",
       "| 27.881243 |\n",
       "\n"
      ],
      "text/plain": [
       "    .pred    \n",
       "1   30.335350\n",
       "2   26.515202\n",
       "3   31.174183\n",
       "4   31.770610\n",
       "5   29.594138\n",
       "6   29.873436\n",
       "7   22.694801\n",
       "8   16.778358\n",
       "9    5.787382\n",
       "10  18.541747\n",
       "11  15.374490\n",
       "12  22.390936\n",
       "13  18.356193\n",
       "14  26.832714\n",
       "15  25.552734\n",
       "16  26.432895\n",
       "17  27.443898\n",
       "18  20.904587\n",
       "19  22.422202\n",
       "20  23.981859\n",
       "21  14.917479\n",
       "22  22.030607\n",
       "23  17.070153\n",
       "24  16.159671\n",
       "25  19.650665\n",
       "26  19.143758\n",
       "27  21.057179\n",
       "28  18.456153\n",
       "29  23.273268\n",
       "30  23.874300\n",
       "⋮   ⋮        \n",
       "477 17.177070\n",
       "478 10.875097\n",
       "479 17.955002\n",
       "480 22.732243\n",
       "481 24.373363\n",
       "482 27.821921\n",
       "483 28.647874\n",
       "484 23.860743\n",
       "485 20.902374\n",
       "486 24.096326\n",
       "487 20.519012\n",
       "488 23.243334\n",
       "489 17.785862\n",
       "490 11.879786\n",
       "491  5.976311\n",
       "492 17.986262\n",
       "493 22.329097\n",
       "494 22.693011\n",
       "495 20.668538\n",
       "496 16.053231\n",
       "497 13.923113\n",
       "498 21.109424\n",
       "499 22.144180\n",
       "500 20.177534\n",
       "501 21.186402\n",
       "502 25.629671\n",
       "503 26.501129\n",
       "504 30.545429\n",
       "505 29.619766\n",
       "506 27.881243"
      ]
     },
     "metadata": {},
     "output_type": "display_data"
    }
   ],
   "source": [
    "tidy(lm_fit2)\n",
    "predict(lm_fit2, new_data = Boston)"
   ]
  },
  {
   "cell_type": "markdown",
   "metadata": {
    "deletable": false,
    "editable": false,
    "nbgrader": {
     "cell_type": "markdown",
     "checksum": "e4ed7e24125ad8e1df3e780b067f32ae",
     "grade": false,
     "grade_id": "cell-2266131577936546",
     "locked": true,
     "schema_version": 3,
     "solution": false,
     "task": false
    }
   },
   "source": [
    "A shortcut when using formulas is to use the form `y ~ .` which means; set `y` as the response and set the remaining variables as predictors"
   ]
  },
  {
   "cell_type": "code",
   "execution_count": 18,
   "metadata": {
    "deletable": false,
    "editable": false,
    "nbgrader": {
     "cell_type": "code",
     "checksum": "fa5d444ed957def0992ab10463ea8ef6",
     "grade": false,
     "grade_id": "cell-cc839fe0e3fe68f8",
     "locked": true,
     "schema_version": 3,
     "solution": false,
     "task": false
    }
   },
   "outputs": [
    {
     "data": {
      "text/plain": [
       "parsnip model object\n",
       "\n",
       "Fit time:  2ms \n",
       "\n",
       "Call:\n",
       "stats::lm(formula = medv ~ ., data = data)\n",
       "\n",
       "Coefficients:\n",
       "(Intercept)         crim           zn        indus         chas          nox  \n",
       "  3.646e+01   -1.080e-01    4.642e-02    2.056e-02    2.687e+00   -1.777e+01  \n",
       "         rm          age          dis          rad          tax      ptratio  \n",
       "  3.810e+00    6.922e-04   -1.476e+00    3.060e-01   -1.233e-02   -9.527e-01  \n",
       "      black        lstat  \n",
       "  9.312e-03   -5.248e-01  \n"
      ]
     },
     "metadata": {},
     "output_type": "display_data"
    }
   ],
   "source": [
    "lm_fit3 <- lm_spec %>% \n",
    "  fit(medv ~ ., data = Boston)\n",
    "\n",
    "lm_fit3"
   ]
  },
  {
   "cell_type": "markdown",
   "metadata": {
    "deletable": false,
    "editable": false,
    "nbgrader": {
     "cell_type": "markdown",
     "checksum": "19d2158bd8569702275cb0bcf0e811cb",
     "grade": false,
     "grade_id": "cell-d8b36ffd01127284",
     "locked": true,
     "schema_version": 3,
     "solution": false,
     "task": false
    }
   },
   "source": [
    "## Interaction Terms\n",
    "\n",
    "\n",
    "An interaction term is represented as the product of two or more independent variables/predictors\n",
    "\n",
    "There are two ways on including an interaction term; `x:y` and `x * y`\n",
    " - `x:y` will include the interaction between `x` and `y`\n",
    " - `x * y` will include the interaction between `x` and `y`, `x and y`, i.e. it is short for `x:y + x + y`"
   ]
  },
  {
   "cell_type": "code",
   "execution_count": 19,
   "metadata": {
    "deletable": false,
    "editable": false,
    "nbgrader": {
     "cell_type": "code",
     "checksum": "dda5f56b7e08f6a31541f79275d73a12",
     "grade": false,
     "grade_id": "cell-490607ea43ee5b0c",
     "locked": true,
     "schema_version": 3,
     "solution": false,
     "task": false
    }
   },
   "outputs": [
    {
     "data": {
      "text/plain": [
       "parsnip model object\n",
       "\n",
       "Fit time:  2ms \n",
       "\n",
       "Call:\n",
       "stats::lm(formula = medv ~ lstat * age, data = data)\n",
       "\n",
       "Coefficients:\n",
       "(Intercept)        lstat          age    lstat:age  \n",
       " 36.0885359   -1.3921168   -0.0007209    0.0041560  \n"
      ]
     },
     "metadata": {},
     "output_type": "display_data"
    }
   ],
   "source": [
    "lm_fit4 <- lm_spec %>%\n",
    "  fit(medv ~ lstat * age, data = Boston)\n",
    "\n",
    "lm_fit4"
   ]
  },
  {
   "cell_type": "markdown",
   "metadata": {
    "deletable": false,
    "editable": false,
    "nbgrader": {
     "cell_type": "markdown",
     "checksum": "2427a90a045eae53b255f9bcfbaacebd",
     "grade": false,
     "grade_id": "cell-59ce50891b9a290b",
     "locked": true,
     "schema_version": 3,
     "solution": false,
     "task": false
    }
   },
   "source": [
    "note that the interaction term is named `lstat:age`.\n",
    "\n",
    "Sometimes we want to perform transformations, and we want those transformations to be applied, as part of the model fit as a pre-processing step. We will use the recipes package for this task.\n",
    "\n",
    "We use the `step_interact()` to specify the interaction term. Next, we create a workflow object to combine the linear regression model specification lm_spec with the pre-processing specification `rec_spec_interact` which can then be fitted much like a parsnip model specification."
   ]
  },
  {
   "cell_type": "code",
   "execution_count": 20,
   "metadata": {
    "deletable": false,
    "editable": false,
    "nbgrader": {
     "cell_type": "code",
     "checksum": "517af0aca25aa654f49687da939d44c5",
     "grade": false,
     "grade_id": "cell-61c9588b33ce5a7c",
     "locked": true,
     "schema_version": 3,
     "solution": false,
     "task": false
    }
   },
   "outputs": [
    {
     "data": {
      "text/plain": [
       "══ Workflow [trained] ══════════════════════════════════════════════════════════\n",
       "\u001b[3mPreprocessor:\u001b[23m Recipe\n",
       "\u001b[3mModel:\u001b[23m linear_reg()\n",
       "\n",
       "── Preprocessor ────────────────────────────────────────────────────────────────\n",
       "1 Recipe Step\n",
       "\n",
       "• step_interact()\n",
       "\n",
       "── Model ───────────────────────────────────────────────────────────────────────\n",
       "\n",
       "Call:\n",
       "stats::lm(formula = ..y ~ ., data = data)\n",
       "\n",
       "Coefficients:\n",
       "(Intercept)        lstat          age  lstat_x_age  \n",
       " 36.0885359   -1.3921168   -0.0007209    0.0041560  \n"
      ]
     },
     "metadata": {},
     "output_type": "display_data"
    }
   ],
   "source": [
    "rec_spec_interact <- recipe(medv ~ lstat + age, data = Boston) %>%\n",
    "  step_interact(~ lstat:age)\n",
    "\n",
    "lm_wf_interact <- workflow() %>%\n",
    "  add_model(lm_spec) %>%\n",
    "  add_recipe(rec_spec_interact)\n",
    "\n",
    "lm_wf_interact %>% fit(Boston)"
   ]
  },
  {
   "cell_type": "markdown",
   "metadata": {
    "deletable": false,
    "editable": false,
    "nbgrader": {
     "cell_type": "markdown",
     "checksum": "e40f072412b3495a7273b8c5da3d17dd",
     "grade": false,
     "grade_id": "cell-0a5764baaf8ac2b7",
     "locked": true,
     "schema_version": 3,
     "solution": false,
     "task": false
    }
   },
   "source": [
    "Notice that since we specified the variables in the recipe we don’t need to specify them when fitting the workflow object. Furthermore, take note of the name of the interaction term. `step_interact()` tries to avoid special characters in variables"
   ]
  },
  {
   "cell_type": "markdown",
   "metadata": {
    "deletable": false,
    "editable": false,
    "nbgrader": {
     "cell_type": "markdown",
     "checksum": "0c77956af0f0078e07afce409ef747a5",
     "grade": false,
     "grade_id": "cell-3304cc522844ac60",
     "locked": true,
     "schema_version": 3,
     "solution": false,
     "task": false
    }
   },
   "source": [
    "## Non-linear transformations of the predictors\n",
    "\n",
    "Much like we could use recipes to create interaction terms between values are we able to apply transformations to individual variables as well. If you are familiar with the dplyr package then you know how to `mutate()` which works in much the same way using `step_mutate()`.\n",
    "\n",
    "You would want to keep as much of the pre-processing inside recipes such that the transformation will be applied consistently to new data."
   ]
  },
  {
   "cell_type": "code",
   "execution_count": 21,
   "metadata": {
    "deletable": false,
    "editable": false,
    "nbgrader": {
     "cell_type": "code",
     "checksum": "d08952cae801e8c2a79c3a653ae04eae",
     "grade": false,
     "grade_id": "cell-abdace0039758df8",
     "locked": true,
     "schema_version": 3,
     "solution": false,
     "task": false
    }
   },
   "outputs": [
    {
     "data": {
      "text/plain": [
       "══ Workflow [trained] ══════════════════════════════════════════════════════════\n",
       "\u001b[3mPreprocessor:\u001b[23m Recipe\n",
       "\u001b[3mModel:\u001b[23m linear_reg()\n",
       "\n",
       "── Preprocessor ────────────────────────────────────────────────────────────────\n",
       "1 Recipe Step\n",
       "\n",
       "• step_mutate()\n",
       "\n",
       "── Model ───────────────────────────────────────────────────────────────────────\n",
       "\n",
       "Call:\n",
       "stats::lm(formula = ..y ~ ., data = data)\n",
       "\n",
       "Coefficients:\n",
       "(Intercept)        lstat       lstat2  \n",
       "   42.86201     -2.33282      0.04355  \n"
      ]
     },
     "metadata": {},
     "output_type": "display_data"
    }
   ],
   "source": [
    "rec_spec_pow2 <- recipe(medv ~ lstat, data = Boston) %>%\n",
    "  step_mutate(lstat2 = lstat ^ 2)\n",
    "\n",
    "lm_wf_pow2 <- workflow() %>%\n",
    "  add_model(lm_spec) %>%\n",
    "  add_recipe(rec_spec_pow2)\n",
    "\n",
    "lm_wf_pow2 %>% fit(Boston)"
   ]
  },
  {
   "cell_type": "markdown",
   "metadata": {
    "deletable": false,
    "editable": false,
    "nbgrader": {
     "cell_type": "markdown",
     "checksum": "179510d02877b8e953dd787aba4f4e39",
     "grade": false,
     "grade_id": "cell-f88667cd25e42d36",
     "locked": true,
     "schema_version": 3,
     "solution": false,
     "task": false
    }
   },
   "source": [
    "## Qualitative Predictors\n",
    "\n",
    "We will now turn our attention to the `Carseats` data set. We will attempt to predict `Sales` of child car seats in 400 locations based on a number of predictors. One of these variables is `ShelveLoc` which is a qualitative predictor that indicates the quality of the shelving location. \n",
    "\n",
    "`ShelveLoc` takes on three possible values\n",
    "- Bad\n",
    "- Medium\n",
    "- Good\n",
    "\n",
    "If you pass such a variable to `lm()` it will read it and generate dummy variables automatically using the following convention"
   ]
  },
  {
   "cell_type": "code",
   "execution_count": 22,
   "metadata": {
    "deletable": false,
    "editable": false,
    "nbgrader": {
     "cell_type": "code",
     "checksum": "56784cb06d0768b173c78f995f4df4ae",
     "grade": false,
     "grade_id": "cell-27d4b2f2317dbac1",
     "locked": true,
     "schema_version": 3,
     "solution": false,
     "task": false
    }
   },
   "outputs": [
    {
     "data": {
      "text/html": [
       "<table>\n",
       "<caption>A matrix: 3 × 2 of type dbl</caption>\n",
       "<thead>\n",
       "\t<tr><th></th><th scope=col>Good</th><th scope=col>Medium</th></tr>\n",
       "</thead>\n",
       "<tbody>\n",
       "\t<tr><th scope=row>Bad</th><td>0</td><td>0</td></tr>\n",
       "\t<tr><th scope=row>Good</th><td>1</td><td>0</td></tr>\n",
       "\t<tr><th scope=row>Medium</th><td>0</td><td>1</td></tr>\n",
       "</tbody>\n",
       "</table>\n"
      ],
      "text/latex": [
       "A matrix: 3 × 2 of type dbl\n",
       "\\begin{tabular}{r|ll}\n",
       "  & Good & Medium\\\\\n",
       "\\hline\n",
       "\tBad & 0 & 0\\\\\n",
       "\tGood & 1 & 0\\\\\n",
       "\tMedium & 0 & 1\\\\\n",
       "\\end{tabular}\n"
      ],
      "text/markdown": [
       "\n",
       "A matrix: 3 × 2 of type dbl\n",
       "\n",
       "| <!--/--> | Good | Medium |\n",
       "|---|---|---|\n",
       "| Bad | 0 | 0 |\n",
       "| Good | 1 | 0 |\n",
       "| Medium | 0 | 1 |\n",
       "\n"
      ],
      "text/plain": [
       "       Good Medium\n",
       "Bad    0    0     \n",
       "Good   1    0     \n",
       "Medium 0    1     "
      ]
     },
     "metadata": {},
     "output_type": "display_data"
    }
   ],
   "source": [
    "Carseats %>%\n",
    "  pull(ShelveLoc) %>%\n",
    "  contrasts()"
   ]
  },
  {
   "cell_type": "markdown",
   "metadata": {
    "deletable": false,
    "editable": false,
    "nbgrader": {
     "cell_type": "markdown",
     "checksum": "948a809f61bd8a41b991004777c5bf16",
     "grade": false,
     "grade_id": "cell-90b727c9bd83b9a8",
     "locked": true,
     "schema_version": 3,
     "solution": false,
     "task": false
    }
   },
   "source": [
    "So we have no problems including qualitative predictors when using `lm` as the engine."
   ]
  },
  {
   "cell_type": "code",
   "execution_count": 23,
   "metadata": {
    "deletable": false,
    "editable": false,
    "nbgrader": {
     "cell_type": "code",
     "checksum": "3f82b8b59108d9a6254bc27c20e3b31a",
     "grade": false,
     "grade_id": "cell-82461f8adcbb28fe",
     "locked": true,
     "schema_version": 3,
     "solution": false,
     "task": false
    }
   },
   "outputs": [
    {
     "data": {
      "text/plain": [
       "parsnip model object\n",
       "\n",
       "Fit time:  4ms \n",
       "\n",
       "Call:\n",
       "stats::lm(formula = Sales ~ . + Income:Advertising + Price:Age, \n",
       "    data = data)\n",
       "\n",
       "Coefficients:\n",
       "       (Intercept)           CompPrice              Income         Advertising  \n",
       "         6.5755654           0.0929371           0.0108940           0.0702462  \n",
       "        Population               Price       ShelveLocGood     ShelveLocMedium  \n",
       "         0.0001592          -0.1008064           4.8486762           1.9532620  \n",
       "               Age           Education            UrbanYes               USYes  \n",
       "        -0.0579466          -0.0208525           0.1401597          -0.1575571  \n",
       "Income:Advertising           Price:Age  \n",
       "         0.0007510           0.0001068  \n"
      ]
     },
     "metadata": {},
     "output_type": "display_data"
    }
   ],
   "source": [
    "lm_spec %>% \n",
    "  fit(Sales ~ . + Income:Advertising + Price:Age, data = Carseats)"
   ]
  },
  {
   "cell_type": "markdown",
   "metadata": {
    "deletable": false,
    "editable": false,
    "nbgrader": {
     "cell_type": "markdown",
     "checksum": "fe694ee454dd1a8b58b0ef14d973fd66",
     "grade": false,
     "grade_id": "cell-a642413c64a4bbec",
     "locked": true,
     "schema_version": 3,
     "solution": false,
     "task": false
    }
   },
   "source": [
    "however, as with so many things, we can not always guarantee that the underlying engine knows how to deal with qualitative variables. recipes can be used to handle this as well. The `step_dummy()` will perform the same transformation of turning 1 qualitative with `C` levels into `C-1` indicator variables. \n",
    "\n",
    "While this might seem unnecessary right now, some of the engines, later on, do not handle qualitative variables and this step would be necessary.\n",
    "\n",
    "We are also using the `all_nominal_predictors()` selector to select all character and factor predictor variables. This allows us to select by type rather than having to type out the names."
   ]
  },
  {
   "cell_type": "code",
   "execution_count": 24,
   "metadata": {
    "deletable": false,
    "editable": false,
    "nbgrader": {
     "cell_type": "code",
     "checksum": "8af68b0f108f1148ec4397263b48035a",
     "grade": false,
     "grade_id": "cell-ce29e68a124568a8",
     "locked": true,
     "schema_version": 3,
     "solution": false,
     "task": false
    }
   },
   "outputs": [
    {
     "data": {
      "text/plain": [
       "══ Workflow [trained] ══════════════════════════════════════════════════════════\n",
       "\u001b[3mPreprocessor:\u001b[23m Recipe\n",
       "\u001b[3mModel:\u001b[23m linear_reg()\n",
       "\n",
       "── Preprocessor ────────────────────────────────────────────────────────────────\n",
       "2 Recipe Steps\n",
       "\n",
       "• step_dummy()\n",
       "• step_interact()\n",
       "\n",
       "── Model ───────────────────────────────────────────────────────────────────────\n",
       "\n",
       "Call:\n",
       "stats::lm(formula = ..y ~ ., data = data)\n",
       "\n",
       "Coefficients:\n",
       "         (Intercept)             CompPrice                Income  \n",
       "           6.5755654             0.0929371             0.0108940  \n",
       "         Advertising            Population                 Price  \n",
       "           0.0702462             0.0001592            -0.1008064  \n",
       "                 Age             Education        ShelveLoc_Good  \n",
       "          -0.0579466            -0.0208525             4.8486762  \n",
       "    ShelveLoc_Medium             Urban_Yes                US_Yes  \n",
       "           1.9532620             0.1401597            -0.1575571  \n",
       "Income_x_Advertising           Price_x_Age  \n",
       "           0.0007510             0.0001068  \n"
      ]
     },
     "metadata": {},
     "output_type": "display_data"
    }
   ],
   "source": [
    "rec_spec <- recipe(Sales ~ ., data = Carseats) %>%\n",
    "  step_dummy(all_nominal_predictors()) %>%\n",
    "  step_interact(~ Income:Advertising + Price:Age)\n",
    "\n",
    "lm_wf <- workflow() %>%\n",
    "  add_model(lm_spec) %>%\n",
    "  add_recipe(rec_spec)\n",
    "\n",
    "lm_wf %>% fit(Carseats)"
   ]
  },
  {
   "cell_type": "code",
   "execution_count": null,
   "metadata": {},
   "outputs": [],
   "source": []
  }
 ],
 "metadata": {
  "kernelspec": {
   "display_name": "R",
   "language": "R",
   "name": "ir"
  },
  "language_info": {
   "codemirror_mode": "r",
   "file_extension": ".r",
   "mimetype": "text/x-r-source",
   "name": "R",
   "pygments_lexer": "r",
   "version": "3.6.3"
  }
 },
 "nbformat": 4,
 "nbformat_minor": 4
}
