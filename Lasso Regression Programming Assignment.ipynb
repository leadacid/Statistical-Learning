{
 "cells": [
  {
   "cell_type": "markdown",
   "metadata": {
    "deletable": false,
    "editable": false,
    "nbgrader": {
     "cell_type": "markdown",
     "checksum": "ab4f82c5131ad8bf5377b201610f1a45",
     "grade": false,
     "grade_id": "cell-08bca6a9f1964f3d",
     "locked": true,
     "schema_version": 3,
     "solution": false,
     "task": false
    }
   },
   "source": [
    "### Linear Model Selection and Regularization"
   ]
  },
  {
   "cell_type": "markdown",
   "metadata": {
    "deletable": false,
    "editable": false,
    "nbgrader": {
     "cell_type": "markdown",
     "checksum": "796a8a86589647977fafcf9f257d62df",
     "grade": false,
     "grade_id": "cell-15618a05b0f45976",
     "locked": true,
     "schema_version": 3,
     "solution": false,
     "task": false
    }
   },
   "source": [
    "You use the `glmnet` package to perform lasso regression. `parsnip` does not have a dedicated function to create a ridge regression model specification. You need to use `linear_reg()` and set `mixture = 1` to specify a lasso model. The mixture argument specifies the amount of different types of regularization, `mixture = 0` specifies only ridge regularization and `mixture = 1` specifies only lasso regularization. Setting `mixture` to a value between 0 and 1 lets us use both.\n",
    "\n",
    "The following procedure will be very similar to what we saw in the ridge regression section. The preprocessing needed is the same, but let us write it out again."
   ]
  },
  {
   "cell_type": "code",
   "execution_count": 1,
   "metadata": {
    "deletable": false,
    "editable": false,
    "nbgrader": {
     "cell_type": "code",
     "checksum": "0aad64eb019454f36bce54f48846f0ea",
     "grade": false,
     "grade_id": "cell-8af01d3b8e7242e4",
     "locked": true,
     "schema_version": 3,
     "solution": false,
     "task": false
    }
   },
   "outputs": [
    {
     "name": "stderr",
     "output_type": "stream",
     "text": [
      "── \u001b[1mAttaching packages\u001b[22m ────────────────────────────────────── tidymodels 1.0.0 ──\n",
      "\n",
      "\u001b[32m✔\u001b[39m \u001b[34mbroom       \u001b[39m 1.0.4     \u001b[32m✔\u001b[39m \u001b[34mrecipes     \u001b[39m 1.0.5\n",
      "\u001b[32m✔\u001b[39m \u001b[34mdials       \u001b[39m 1.1.0     \u001b[32m✔\u001b[39m \u001b[34mrsample     \u001b[39m 1.1.1\n",
      "\u001b[32m✔\u001b[39m \u001b[34mdplyr       \u001b[39m 1.1.0     \u001b[32m✔\u001b[39m \u001b[34mtibble      \u001b[39m 3.2.0\n",
      "\u001b[32m✔\u001b[39m \u001b[34mggplot2     \u001b[39m 3.4.1     \u001b[32m✔\u001b[39m \u001b[34mtidyr       \u001b[39m 1.3.0\n",
      "\u001b[32m✔\u001b[39m \u001b[34minfer       \u001b[39m 1.0.4     \u001b[32m✔\u001b[39m \u001b[34mtune        \u001b[39m 1.0.1\n",
      "\u001b[32m✔\u001b[39m \u001b[34mmodeldata   \u001b[39m 1.1.0     \u001b[32m✔\u001b[39m \u001b[34mworkflows   \u001b[39m 1.1.3\n",
      "\u001b[32m✔\u001b[39m \u001b[34mparsnip     \u001b[39m 1.0.4     \u001b[32m✔\u001b[39m \u001b[34mworkflowsets\u001b[39m 1.0.0\n",
      "\u001b[32m✔\u001b[39m \u001b[34mpurrr       \u001b[39m 1.0.1     \u001b[32m✔\u001b[39m \u001b[34myardstick   \u001b[39m 1.1.0\n",
      "\n",
      "── \u001b[1mConflicts\u001b[22m ───────────────────────────────────────── tidymodels_conflicts() ──\n",
      "\u001b[31m✖\u001b[39m \u001b[34mpurrr\u001b[39m::\u001b[32mdiscard()\u001b[39m masks \u001b[34mscales\u001b[39m::discard()\n",
      "\u001b[31m✖\u001b[39m \u001b[34mdplyr\u001b[39m::\u001b[32mfilter()\u001b[39m  masks \u001b[34mstats\u001b[39m::filter()\n",
      "\u001b[31m✖\u001b[39m \u001b[34mdplyr\u001b[39m::\u001b[32mlag()\u001b[39m     masks \u001b[34mstats\u001b[39m::lag()\n",
      "\u001b[31m✖\u001b[39m \u001b[34mrecipes\u001b[39m::\u001b[32mstep()\u001b[39m  masks \u001b[34mstats\u001b[39m::step()\n",
      "\u001b[34m•\u001b[39m Use \u001b[32mtidymodels_prefer()\u001b[39m to resolve common conflicts.\n",
      "\n"
     ]
    }
   ],
   "source": [
    "# Run this code from the previous assignment to get you properly started. \n",
    "\n",
    "library(tidymodels)\n",
    "library(ISLR2)\n",
    "Hitters <- as_tibble(Hitters) %>%\n",
    "  filter(!is.na(Salary))\n",
    "\n",
    "Hitters_split <- initial_split(Hitters, strata = \"Salary\")\n",
    "Hitters_train <- training(Hitters_split)\n",
    "Hitters_test <- testing(Hitters_split)\n",
    "Hitters_fold <- vfold_cv(Hitters_train, v = 10)"
   ]
  },
  {
   "cell_type": "markdown",
   "metadata": {
    "deletable": false,
    "editable": false,
    "nbgrader": {
     "cell_type": "markdown",
     "checksum": "4a002fefd6f4ad77f8115c62c74e7028",
     "grade": false,
     "grade_id": "cell-5685fd6a647b77fa",
     "locked": true,
     "schema_version": 3,
     "solution": false,
     "task": false
    }
   },
   "source": [
    "Run the Block of code below "
   ]
  },
  {
   "cell_type": "code",
   "execution_count": 2,
   "metadata": {
    "deletable": false,
    "editable": false,
    "nbgrader": {
     "cell_type": "code",
     "checksum": "beda4bd737f7203501ce2072089fd5e4",
     "grade": false,
     "grade_id": "cell-3219a3d7441bf6c2",
     "locked": true,
     "schema_version": 3,
     "solution": false,
     "task": false
    }
   },
   "outputs": [],
   "source": [
    "lasso_recipe <- \n",
    "  recipe(formula = Salary ~ ., data = Hitters_train) %>% \n",
    "  step_novel(all_nominal_predictors()) %>% \n",
    "  step_dummy(all_nominal_predictors()) %>% \n",
    "  step_zv(all_predictors()) %>% \n",
    "  step_normalize(all_predictors())"
   ]
  },
  {
   "cell_type": "markdown",
   "metadata": {
    "deletable": false,
    "editable": false,
    "nbgrader": {
     "cell_type": "markdown",
     "checksum": "c6a8103349a2ec2c37a0c979a92d38f6",
     "grade": false,
     "grade_id": "cell-19911488a324e769",
     "locked": true,
     "schema_version": 3,
     "solution": false,
     "task": false
    }
   },
   "source": [
    "Next, finish the lasso regression `workflow`. Have the two outputs `lasso_spec` and `lasso_workflow` respectively. For the `lasso_spec` output use the functions `linear_reg`, `set_mode` and `set_engine` functions. For the `lasso_workflow` output use the `add_recipe` and `add_model` outputs. "
   ]
  },
  {
   "cell_type": "code",
   "execution_count": 3,
   "metadata": {
    "deletable": false,
    "editable": false,
    "nbgrader": {
     "cell_type": "code",
     "checksum": "27ea58505a29ad3f6ebf598b1dcaab1d",
     "grade": false,
     "grade_id": "cell-e781f266333d0af1",
     "locked": true,
     "schema_version": 3,
     "solution": false,
     "task": false
    }
   },
   "outputs": [],
   "source": [
    "lasso_spec <- \n",
    "  linear_reg(penalty = tune(), mixture = 1) %>% \n",
    "  set_mode(\"regression\") %>% \n",
    "  set_engine(\"glmnet\") \n",
    "\n",
    "lasso_workflow <- workflow() %>% \n",
    "  add_recipe(lasso_recipe) %>% \n",
    "  add_model(lasso_spec)"
   ]
  },
  {
   "cell_type": "markdown",
   "metadata": {
    "deletable": false,
    "editable": false,
    "nbgrader": {
     "cell_type": "markdown",
     "checksum": "f2599917bda426c51949f70a8a628e24",
     "grade": false,
     "grade_id": "cell-569f7ce27d3a8162",
     "locked": true,
     "schema_version": 3,
     "solution": false,
     "task": false
    }
   },
   "source": [
    "While you are doing a different kind of regularization you will still use the same `penalty` argument. I have picked a different range for the values of penalty since I know it will be a good range. You would in practice have to cast a wide net at first and then narrow on the range of interest. Use the output `penalty_grid`. Use `50` levels and set a range going from [-2,2]. Use the function `grid_regular`. "
   ]
  },
  {
   "cell_type": "code",
   "execution_count": 4,
   "metadata": {
    "deletable": false,
    "nbgrader": {
     "cell_type": "code",
     "checksum": "2213726bf2d55fe7021401b4c92ada74",
     "grade": false,
     "grade_id": "cell-fa75bc2bc4d5f480",
     "locked": false,
     "schema_version": 3,
     "solution": true,
     "task": false
    }
   },
   "outputs": [],
   "source": [
    "# *your code here*\n",
    "\n",
    "penalty_grid <- grid_regular(penalty(range = c(-2,2), trans = log10_trans()), levels = 50)  \n",
    "\n",
    "# your code here\n",
    "\n"
   ]
  },
  {
   "cell_type": "code",
   "execution_count": 5,
   "metadata": {
    "deletable": false,
    "editable": false,
    "nbgrader": {
     "cell_type": "code",
     "checksum": "4a04807a23b106484845f09a774eb6b5",
     "grade": true,
     "grade_id": "cell-51f5481f4a54b890",
     "locked": true,
     "points": 1,
     "schema_version": 3,
     "solution": false,
     "task": false
    }
   },
   "outputs": [
    {
     "name": "stderr",
     "output_type": "stream",
     "text": [
      "\n",
      "Attaching package: ‘testthat’\n",
      "\n",
      "\n",
      "The following object is masked from ‘package:tidyr’:\n",
      "\n",
      "    matches\n",
      "\n",
      "\n",
      "The following object is masked from ‘package:rsample’:\n",
      "\n",
      "    matches\n",
      "\n",
      "\n",
      "The following object is masked from ‘package:purrr’:\n",
      "\n",
      "    is_null\n",
      "\n",
      "\n",
      "The following object is masked from ‘package:dplyr’:\n",
      "\n",
      "    matches\n",
      "\n",
      "\n"
     ]
    }
   ],
   "source": [
    "library(testthat)\n",
    "\n",
    "expect_equal(penalty_grid$penalty[1], 0.01)\n",
    "expect_equal(penalty_grid$penalty[25], 0.910298177991522)\n",
    "expect_equal(penalty_grid$penalty[50], 100)"
   ]
  },
  {
   "attachments": {
    "output.png": {
     "image/png": "[encoded data removed]"
    }
   },
   "cell_type": "markdown",
   "metadata": {
    "deletable": false,
    "editable": false,
    "nbgrader": {
     "cell_type": "markdown",
     "checksum": "c0f2f83bc4867dd1934d4d5844814079",
     "grade": false,
     "grade_id": "cell-1f6cc8b80c630ae7",
     "locked": true,
     "schema_version": 3,
     "solution": false,
     "task": false
    }
   },
   "source": [
    "You can `tune_grid()` again. Use the output `tune_res` along with the function `tune_grid`. Use `autoplot` to plot your `tune_res` outout. Your output should resemble this plot. \n",
    "\n",
    "<div>\n",
    "<img src=\"attachment:output.png\", width = \"500\"/>\n",
    "</div>"
   ]
  },
  {
   "cell_type": "code",
   "execution_count": 6,
   "metadata": {
    "deletable": false,
    "nbgrader": {
     "cell_type": "code",
     "checksum": "aa86ef3c565a9622666a48f0f59d8832",
     "grade": false,
     "grade_id": "cell-8e899da8fd1ca3e5",
     "locked": false,
     "schema_version": 3,
     "solution": true,
     "task": false
    }
   },
   "outputs": [],
   "source": [
    "tune_res <- tune_grid(\n",
    "  lasso_workflow,\n",
    "  resamples = Hitters_fold, \n",
    "  grid = penalty_grid\n",
    ")"
   ]
  },
  {
   "cell_type": "markdown",
   "metadata": {
    "deletable": false,
    "editable": false,
    "nbgrader": {
     "cell_type": "markdown",
     "checksum": "e90b3aee0924bb92ff2e7bdcd27e7941",
     "grade": false,
     "grade_id": "cell-67e679f1eb60a7c6",
     "locked": true,
     "schema_version": 3,
     "solution": false,
     "task": false
    }
   },
   "source": [
    "Next, you should select the best value of `penalty` using `select_best()`. Your output variable here is `best_penalty`. Use \"rsq\" as the metric."
   ]
  },
  {
   "cell_type": "code",
   "execution_count": 7,
   "metadata": {
    "code_folding": [],
    "deletable": false,
    "nbgrader": {
     "cell_type": "code",
     "checksum": "9dd5133de50faae7f27ee33c0806a6c8",
     "grade": false,
     "grade_id": "cell-24f47ec924b4329b",
     "locked": false,
     "schema_version": 3,
     "solution": true,
     "task": false
    }
   },
   "outputs": [],
   "source": [
    "# *your code here* \n",
    "\n",
    "best_penalty <- select_best(tune_res ,metric = 'rsq')\n",
    "\n",
    "# your code here\n"
   ]
  },
  {
   "cell_type": "code",
   "execution_count": null,
   "metadata": {
    "deletable": false,
    "editable": false,
    "nbgrader": {
     "cell_type": "code",
     "checksum": "45c8d41dcad08e28870b3c9bb4b7cef2",
     "grade": true,
     "grade_id": "cell-fbe779f14d306fa9",
     "locked": true,
     "points": 2.5,
     "schema_version": 3,
     "solution": false,
     "task": false
    }
   },
   "outputs": [],
   "source": []
  },
  {
   "cell_type": "markdown",
   "metadata": {
    "deletable": false,
    "editable": false,
    "nbgrader": {
     "cell_type": "markdown",
     "checksum": "86fa13a48573965d48b07cd54cef02f2",
     "grade": false,
     "grade_id": "cell-454bdb61064e748e",
     "locked": true,
     "schema_version": 3,
     "solution": false,
     "task": false
    }
   },
   "source": [
    "You should now refit using the whole training data set. Your output variable should be `lasso_final` with the function `finalize_workflow` and your second output variable should be `lasso_final_fit` with the `fit` function. "
   ]
  },
  {
   "cell_type": "code",
   "execution_count": 8,
   "metadata": {
    "deletable": false,
    "nbgrader": {
     "cell_type": "code",
     "checksum": "6ea668ce25935c639bb8b1b52225e3e1",
     "grade": false,
     "grade_id": "cell-f6f8c08e75ce7865",
     "locked": false,
     "schema_version": 3,
     "solution": true,
     "task": false
    }
   },
   "outputs": [],
   "source": [
    "lasso_final <- finalize_workflow(lasso_workflow, parameters = best_penalty)\n",
    "lasso_final_fit <- fit(lasso_final, data = Hitters_train)"
   ]
  },
  {
   "cell_type": "markdown",
   "metadata": {
    "deletable": false,
    "editable": false,
    "nbgrader": {
     "cell_type": "markdown",
     "checksum": "eafc429da5c61d97080c38c0c515c679",
     "grade": false,
     "grade_id": "cell-bab2a9ce5169fe81",
     "locked": true,
     "schema_version": 3,
     "solution": false,
     "task": false
    }
   },
   "source": [
    "Finalize this by calculating the `rsq` value for the lasso model. You will see tha seee that for this data ridge regression does better than lasso regession. Verify this using the `augment` then the `rsq` function. Store the output to the variable `rsq_val`"
   ]
  },
  {
   "cell_type": "code",
   "execution_count": 9,
   "metadata": {
    "deletable": false,
    "nbgrader": {
     "cell_type": "code",
     "checksum": "69416e24ff051d55500509dffbd9c39e",
     "grade": false,
     "grade_id": "cell-cd025e9384307be8",
     "locked": false,
     "schema_version": 3,
     "solution": true,
     "task": false
    }
   },
   "outputs": [],
   "source": [
    "# *your code here*\n",
    "\n",
    "rsq_val <- augment(lasso_final_fit, new_data = Hitters_test) %>%\n",
    "  rsq(truth = Salary, estimate = .pred)\n",
    "\n"
   ]
  },
  {
   "cell_type": "code",
   "execution_count": null,
   "metadata": {
    "deletable": false,
    "editable": false,
    "nbgrader": {
     "cell_type": "code",
     "checksum": "700f0afde64c355f7605b4377117dd72",
     "grade": true,
     "grade_id": "cell-64ebed65c67ad384",
     "locked": true,
     "points": 2.5,
     "schema_version": 3,
     "solution": false,
     "task": false
    }
   },
   "outputs": [],
   "source": []
  }
 ],
 "metadata": {
  "kernelspec": {
   "display_name": "R",
   "language": "R",
   "name": "ir"
  },
  "language_info": {
   "codemirror_mode": "r",
   "file_extension": ".r",
   "mimetype": "text/x-r-source",
   "name": "R",
   "pygments_lexer": "r",
   "version": "3.6.3"
  }
 },
 "nbformat": 4,
 "nbformat_minor": 5
}
