{
 "cells": [
  {
   "cell_type": "markdown",
   "metadata": {
    "deletable": false,
    "editable": false,
    "nbgrader": {
     "cell_type": "markdown",
     "checksum": "d19c30bd6fdf397dd34c68c8987828a6",
     "grade": false,
     "grade_id": "cell-fa8c9f208dc55e16",
     "locked": true,
     "schema_version": 3,
     "solution": false,
     "task": false
    }
   },
   "source": [
    "### Linear Model Selection and Regularization"
   ]
  },
  {
   "cell_type": "markdown",
   "metadata": {
    "deletable": false,
    "editable": false,
    "nbgrader": {
     "cell_type": "markdown",
     "checksum": "ca98e0fe65c308246844cec0f2fda61e",
     "grade": false,
     "grade_id": "cell-38f655eda540f8f5",
     "locked": true,
     "schema_version": 3,
     "solution": false,
     "task": false
    }
   },
   "source": [
    "This programming assignment will use the `Tidy Models` platform. It will take a look at regularization models and hyperparameter tuning. These models contain a regularization term. This assignment will use [parsnip](https://www.tidymodels.org/start/models/) for model fitting and [recipes and workflows](https://www.tidymodels.org/start/recipes/) to perform the transformations, and [tune and dials](https://www.tidymodels.org/start/tuning/) to tune the hyperparameters of the model.\n",
    "\n",
    "You will be using the `Hitters` data set from the `ISLR` package. You wish to predict the baseball players `Salary` based on several different characteristics which are included in the data set. \n",
    "\n",
    "Since you wish to predict `Salary`, then you need to remove any missing data from that column. Otherwise, you won't be able to run the models.\n",
    "\n",
    "**Set output as** `Hitters` "
   ]
  },
  {
   "cell_type": "code",
   "execution_count": 1,
   "metadata": {
    "deletable": false,
    "nbgrader": {
     "cell_type": "code",
     "checksum": "d6f81d6cb6df6250f11f5a3d2fe06a20",
     "grade": false,
     "grade_id": "cell-1e513d03cb81c849",
     "locked": false,
     "schema_version": 3,
     "solution": true,
     "task": false
    }
   },
   "outputs": [
    {
     "name": "stderr",
     "output_type": "stream",
     "text": [
      "── \u001b[1mAttaching packages\u001b[22m ────────────────────────────────────── tidymodels 1.0.0 ──\n",
      "\n",
      "\u001b[32m✔\u001b[39m \u001b[34mbroom       \u001b[39m 1.0.4     \u001b[32m✔\u001b[39m \u001b[34mrecipes     \u001b[39m 1.0.5\n",
      "\u001b[32m✔\u001b[39m \u001b[34mdials       \u001b[39m 1.1.0     \u001b[32m✔\u001b[39m \u001b[34mrsample     \u001b[39m 1.1.1\n",
      "\u001b[32m✔\u001b[39m \u001b[34mdplyr       \u001b[39m 1.1.0     \u001b[32m✔\u001b[39m \u001b[34mtibble      \u001b[39m 3.2.0\n",
      "\u001b[32m✔\u001b[39m \u001b[34mggplot2     \u001b[39m 3.4.1     \u001b[32m✔\u001b[39m \u001b[34mtidyr       \u001b[39m 1.3.0\n",
      "\u001b[32m✔\u001b[39m \u001b[34minfer       \u001b[39m 1.0.4     \u001b[32m✔\u001b[39m \u001b[34mtune        \u001b[39m 1.0.1\n",
      "\u001b[32m✔\u001b[39m \u001b[34mmodeldata   \u001b[39m 1.1.0     \u001b[32m✔\u001b[39m \u001b[34mworkflows   \u001b[39m 1.1.3\n",
      "\u001b[32m✔\u001b[39m \u001b[34mparsnip     \u001b[39m 1.0.4     \u001b[32m✔\u001b[39m \u001b[34mworkflowsets\u001b[39m 1.0.0\n",
      "\u001b[32m✔\u001b[39m \u001b[34mpurrr       \u001b[39m 1.0.1     \u001b[32m✔\u001b[39m \u001b[34myardstick   \u001b[39m 1.1.0\n",
      "\n",
      "── \u001b[1mConflicts\u001b[22m ───────────────────────────────────────── tidymodels_conflicts() ──\n",
      "\u001b[31m✖\u001b[39m \u001b[34mpurrr\u001b[39m::\u001b[32mdiscard()\u001b[39m masks \u001b[34mscales\u001b[39m::discard()\n",
      "\u001b[31m✖\u001b[39m \u001b[34mdplyr\u001b[39m::\u001b[32mfilter()\u001b[39m  masks \u001b[34mstats\u001b[39m::filter()\n",
      "\u001b[31m✖\u001b[39m \u001b[34mdplyr\u001b[39m::\u001b[32mlag()\u001b[39m     masks \u001b[34mstats\u001b[39m::lag()\n",
      "\u001b[31m✖\u001b[39m \u001b[34mrecipes\u001b[39m::\u001b[32mstep()\u001b[39m  masks \u001b[34mstats\u001b[39m::step()\n",
      "\u001b[34m•\u001b[39m Learn how to get started at \u001b[32mhttps://www.tidymodels.org/start/\u001b[39m\n",
      "\n"
     ]
    }
   ],
   "source": [
    "library(tidymodels)\n",
    "library(ISLR2)\n",
    "\n",
    "Hitters <- as_tibble(Hitters) %>%\n",
    "  filter(!is.na(Salary))\n",
    "\n",
    "Hitters_split <- initial_split(Hitters, strata = \"Salary\")\n",
    "Hitters_train <- training(Hitters_split)\n",
    "Hitters_test <- testing(Hitters_split)\n",
    "Hitters_fold <- vfold_cv(Hitters_train, v = 10)"
   ]
  },
  {
   "cell_type": "code",
   "execution_count": 2,
   "metadata": {
    "deletable": false,
    "editable": false,
    "nbgrader": {
     "cell_type": "code",
     "checksum": "e0c037eec3831b9b8c6ab60b98f5d0ae",
     "grade": true,
     "grade_id": "cell-fe6741d03449f940",
     "locked": true,
     "points": 1,
     "schema_version": 3,
     "solution": false,
     "task": false
    }
   },
   "outputs": [],
   "source": [
    "# Hidden Tests"
   ]
  },
  {
   "cell_type": "markdown",
   "metadata": {
    "deletable": false,
    "editable": false,
    "nbgrader": {
     "cell_type": "markdown",
     "checksum": "f09d269c304bdee35c88691e0fd7d13f",
     "grade": false,
     "grade_id": "cell-91f32cd77f321169",
     "locked": true,
     "schema_version": 3,
     "solution": false,
     "task": false
    }
   },
   "source": [
    "You will use the `glmnet` package to perform **ridge regression**. `parsnip` does not have a dedicated function to create a ridge regression model specification. You need to use `linear_reg()` and set `mixture = 0` to specify a ridge model. The `mixture` argument specifies the amount of different types of regularization, `mixture = 0` specifies only **ridge regularization** and `mixture = 1` specifies only **lasso regularization**. \n",
    "\n",
    "Setting `mixture` to a value between 0 and 1 lets us use both. When using the `glmnet` engine you also need to set a `penalty` to be able to fit the model. You will set this value to `0` for now, it is not the best value, but you will look at how to select the best value in a little bit."
   ]
  },
  {
   "cell_type": "code",
   "execution_count": 3,
   "metadata": {
    "deletable": false,
    "editable": false,
    "nbgrader": {
     "cell_type": "code",
     "checksum": "0e65b417c0080e0df5b990e4f6c4fafa",
     "grade": false,
     "grade_id": "cell-b41afcc7f31ef514",
     "locked": true,
     "schema_version": 3,
     "solution": false,
     "task": false
    }
   },
   "outputs": [],
   "source": [
    "ridge_spec <- linear_reg(mixture = 0, penalty = 0) %>%\n",
    "  set_mode(\"regression\") %>%\n",
    "  set_engine(\"glmnet\")"
   ]
  },
  {
   "cell_type": "markdown",
   "metadata": {
    "deletable": false,
    "editable": false,
    "nbgrader": {
     "cell_type": "markdown",
     "checksum": "80cb930431a89b809905790a6cb69263",
     "grade": false,
     "grade_id": "cell-b2e05310215cfafd",
     "locked": true,
     "schema_version": 3,
     "solution": false,
     "task": false
    }
   },
   "source": [
    "Once the specification is created you can fit it to you data. You will use all the predictors. Use the `fit` function here. "
   ]
  },
  {
   "cell_type": "code",
   "execution_count": 4,
   "metadata": {
    "deletable": false,
    "editable": false,
    "nbgrader": {
     "cell_type": "code",
     "checksum": "b1b90a3f8716e7732f486b48225bac7e",
     "grade": false,
     "grade_id": "cell-2621b9ede340e901",
     "locked": true,
     "schema_version": 3,
     "solution": false,
     "task": false
    }
   },
   "outputs": [],
   "source": [
    "ridge_fit <- fit(ridge_spec, Salary ~ ., data = Hitters)"
   ]
  },
  {
   "cell_type": "markdown",
   "metadata": {
    "deletable": false,
    "editable": false,
    "nbgrader": {
     "cell_type": "markdown",
     "checksum": "f4faa5026f54c88774fe3e6cfb858b88",
     "grade": false,
     "grade_id": "cell-92d0498c27a88c40",
     "locked": true,
     "schema_version": 3,
     "solution": false,
     "task": false
    }
   },
   "source": [
    "The `glmnet` package will fit the model for all values of `penalty` at once, so you can now see see what the parameter estimate for the model is now that you have `penalty = 0`. You can use the `tidy` function to accomplish this specific  task. "
   ]
  },
  {
   "cell_type": "code",
   "execution_count": 5,
   "metadata": {
    "deletable": false,
    "editable": false,
    "nbgrader": {
     "cell_type": "code",
     "checksum": "e4f40075178b5fb0908717e4973e86c4",
     "grade": false,
     "grade_id": "cell-312ddae5ace72440",
     "locked": true,
     "schema_version": 3,
     "solution": false,
     "task": false
    }
   },
   "outputs": [
    {
     "name": "stderr",
     "output_type": "stream",
     "text": [
      "Loading required package: Matrix\n",
      "\n",
      "\n",
      "Attaching package: ‘Matrix’\n",
      "\n",
      "\n",
      "The following objects are masked from ‘package:tidyr’:\n",
      "\n",
      "    expand, pack, unpack\n",
      "\n",
      "\n",
      "Loaded glmnet 4.1-6\n",
      "\n"
     ]
    },
    {
     "data": {
      "text/html": [
       "<table>\n",
       "<caption>A tibble: 20 × 3</caption>\n",
       "<thead>\n",
       "\t<tr><th scope=col>term</th><th scope=col>estimate</th><th scope=col>penalty</th></tr>\n",
       "\t<tr><th scope=col>&lt;chr&gt;</th><th scope=col>&lt;dbl&gt;</th><th scope=col>&lt;dbl&gt;</th></tr>\n",
       "</thead>\n",
       "<tbody>\n",
       "\t<tr><td>(Intercept)</td><td> 8.112693e+01</td><td>0</td></tr>\n",
       "\t<tr><td>AtBat      </td><td>-6.815959e-01</td><td>0</td></tr>\n",
       "\t<tr><td>Hits       </td><td> 2.772312e+00</td><td>0</td></tr>\n",
       "\t<tr><td>HmRun      </td><td>-1.365680e+00</td><td>0</td></tr>\n",
       "\t<tr><td>Runs       </td><td> 1.014826e+00</td><td>0</td></tr>\n",
       "\t<tr><td>RBI        </td><td> 7.130224e-01</td><td>0</td></tr>\n",
       "\t<tr><td>Walks      </td><td> 3.378558e+00</td><td>0</td></tr>\n",
       "\t<tr><td>Years      </td><td>-9.066800e+00</td><td>0</td></tr>\n",
       "\t<tr><td>CAtBat     </td><td>-1.199478e-03</td><td>0</td></tr>\n",
       "\t<tr><td>CHits      </td><td> 1.361029e-01</td><td>0</td></tr>\n",
       "\t<tr><td>CHmRun     </td><td> 6.979958e-01</td><td>0</td></tr>\n",
       "\t<tr><td>CRuns      </td><td> 2.958896e-01</td><td>0</td></tr>\n",
       "\t<tr><td>CRBI       </td><td> 2.570711e-01</td><td>0</td></tr>\n",
       "\t<tr><td>CWalks     </td><td>-2.789666e-01</td><td>0</td></tr>\n",
       "\t<tr><td>LeagueN    </td><td> 5.321272e+01</td><td>0</td></tr>\n",
       "\t<tr><td>DivisionW  </td><td>-1.228345e+02</td><td>0</td></tr>\n",
       "\t<tr><td>PutOuts    </td><td> 2.638876e-01</td><td>0</td></tr>\n",
       "\t<tr><td>Assists    </td><td> 1.698796e-01</td><td>0</td></tr>\n",
       "\t<tr><td>Errors     </td><td>-3.685645e+00</td><td>0</td></tr>\n",
       "\t<tr><td>NewLeagueN </td><td>-1.810510e+01</td><td>0</td></tr>\n",
       "</tbody>\n",
       "</table>\n"
      ],
      "text/latex": [
       "A tibble: 20 × 3\n",
       "\\begin{tabular}{lll}\n",
       " term & estimate & penalty\\\\\n",
       " <chr> & <dbl> & <dbl>\\\\\n",
       "\\hline\n",
       "\t (Intercept) &  8.112693e+01 & 0\\\\\n",
       "\t AtBat       & -6.815959e-01 & 0\\\\\n",
       "\t Hits        &  2.772312e+00 & 0\\\\\n",
       "\t HmRun       & -1.365680e+00 & 0\\\\\n",
       "\t Runs        &  1.014826e+00 & 0\\\\\n",
       "\t RBI         &  7.130224e-01 & 0\\\\\n",
       "\t Walks       &  3.378558e+00 & 0\\\\\n",
       "\t Years       & -9.066800e+00 & 0\\\\\n",
       "\t CAtBat      & -1.199478e-03 & 0\\\\\n",
       "\t CHits       &  1.361029e-01 & 0\\\\\n",
       "\t CHmRun      &  6.979958e-01 & 0\\\\\n",
       "\t CRuns       &  2.958896e-01 & 0\\\\\n",
       "\t CRBI        &  2.570711e-01 & 0\\\\\n",
       "\t CWalks      & -2.789666e-01 & 0\\\\\n",
       "\t LeagueN     &  5.321272e+01 & 0\\\\\n",
       "\t DivisionW   & -1.228345e+02 & 0\\\\\n",
       "\t PutOuts     &  2.638876e-01 & 0\\\\\n",
       "\t Assists     &  1.698796e-01 & 0\\\\\n",
       "\t Errors      & -3.685645e+00 & 0\\\\\n",
       "\t NewLeagueN  & -1.810510e+01 & 0\\\\\n",
       "\\end{tabular}\n"
      ],
      "text/markdown": [
       "\n",
       "A tibble: 20 × 3\n",
       "\n",
       "| term &lt;chr&gt; | estimate &lt;dbl&gt; | penalty &lt;dbl&gt; |\n",
       "|---|---|---|\n",
       "| (Intercept) |  8.112693e+01 | 0 |\n",
       "| AtBat       | -6.815959e-01 | 0 |\n",
       "| Hits        |  2.772312e+00 | 0 |\n",
       "| HmRun       | -1.365680e+00 | 0 |\n",
       "| Runs        |  1.014826e+00 | 0 |\n",
       "| RBI         |  7.130224e-01 | 0 |\n",
       "| Walks       |  3.378558e+00 | 0 |\n",
       "| Years       | -9.066800e+00 | 0 |\n",
       "| CAtBat      | -1.199478e-03 | 0 |\n",
       "| CHits       |  1.361029e-01 | 0 |\n",
       "| CHmRun      |  6.979958e-01 | 0 |\n",
       "| CRuns       |  2.958896e-01 | 0 |\n",
       "| CRBI        |  2.570711e-01 | 0 |\n",
       "| CWalks      | -2.789666e-01 | 0 |\n",
       "| LeagueN     |  5.321272e+01 | 0 |\n",
       "| DivisionW   | -1.228345e+02 | 0 |\n",
       "| PutOuts     |  2.638876e-01 | 0 |\n",
       "| Assists     |  1.698796e-01 | 0 |\n",
       "| Errors      | -3.685645e+00 | 0 |\n",
       "| NewLeagueN  | -1.810510e+01 | 0 |\n",
       "\n"
      ],
      "text/plain": [
       "   term        estimate      penalty\n",
       "1  (Intercept)  8.112693e+01 0      \n",
       "2  AtBat       -6.815959e-01 0      \n",
       "3  Hits         2.772312e+00 0      \n",
       "4  HmRun       -1.365680e+00 0      \n",
       "5  Runs         1.014826e+00 0      \n",
       "6  RBI          7.130224e-01 0      \n",
       "7  Walks        3.378558e+00 0      \n",
       "8  Years       -9.066800e+00 0      \n",
       "9  CAtBat      -1.199478e-03 0      \n",
       "10 CHits        1.361029e-01 0      \n",
       "11 CHmRun       6.979958e-01 0      \n",
       "12 CRuns        2.958896e-01 0      \n",
       "13 CRBI         2.570711e-01 0      \n",
       "14 CWalks      -2.789666e-01 0      \n",
       "15 LeagueN      5.321272e+01 0      \n",
       "16 DivisionW   -1.228345e+02 0      \n",
       "17 PutOuts      2.638876e-01 0      \n",
       "18 Assists      1.698796e-01 0      \n",
       "19 Errors      -3.685645e+00 0      \n",
       "20 NewLeagueN  -1.810510e+01 0      "
      ]
     },
     "metadata": {},
     "output_type": "display_data"
    }
   ],
   "source": [
    "tidy(ridge_fit)"
   ]
  },
  {
   "cell_type": "markdown",
   "metadata": {
    "deletable": false,
    "editable": false,
    "nbgrader": {
     "cell_type": "markdown",
     "checksum": "9466edac9cb87b1b52d22837775fcd48",
     "grade": false,
     "grade_id": "cell-5724b06e76e61415",
     "locked": true,
     "schema_version": 3,
     "solution": false,
     "task": false
    }
   },
   "source": [
    "Let us instead see what the estimates would be if the penalty was `11498`. Store your output to `tidy2`. What do you notice?  "
   ]
  },
  {
   "cell_type": "code",
   "execution_count": 6,
   "metadata": {
    "deletable": false,
    "nbgrader": {
     "cell_type": "code",
     "checksum": "9463ee8dcc32bda2181da2ada40ff270",
     "grade": false,
     "grade_id": "cell-99ef8a325d97edf7",
     "locked": false,
     "schema_version": 3,
     "solution": true,
     "task": false
    }
   },
   "outputs": [],
   "source": [
    "# Your code here \n",
    "\n",
    "tidy2 <- tidy(ridge_fit, penalty = 11498)\n",
    "\n",
    "\n",
    "# your code here\n"
   ]
  },
  {
   "cell_type": "code",
   "execution_count": 7,
   "metadata": {
    "deletable": false,
    "editable": false,
    "nbgrader": {
     "cell_type": "code",
     "checksum": "59ee543c7e45438f5fa9f977d03e9682",
     "grade": true,
     "grade_id": "cell-8e05b242ee24117f",
     "locked": true,
     "points": 1,
     "schema_version": 3,
     "solution": false,
     "task": false
    }
   },
   "outputs": [],
   "source": [
    "# Hidden Tests"
   ]
  },
  {
   "cell_type": "markdown",
   "metadata": {
    "deletable": false,
    "editable": false,
    "nbgrader": {
     "cell_type": "markdown",
     "checksum": "90ace8a3d8bb7a02fbde4935c1daa206",
     "grade": false,
     "grade_id": "cell-2d04cd1be838c4e2",
     "locked": true,
     "schema_version": 3,
     "solution": false,
     "task": false
    }
   },
   "source": [
    "Look below at the parameter estimates for `penalty = 705`. Store your output to `tidy3`. Once again, use the `tidy` function to accomplish this task. "
   ]
  },
  {
   "cell_type": "code",
   "execution_count": 8,
   "metadata": {
    "deletable": false,
    "nbgrader": {
     "cell_type": "code",
     "checksum": "26553114e0dd128f714c064904d27d20",
     "grade": false,
     "grade_id": "cell-4b7ba595bbd14b35",
     "locked": false,
     "schema_version": 3,
     "solution": true,
     "task": false
    }
   },
   "outputs": [],
   "source": [
    "# Your code here \n",
    "\n",
    "tidy3 <- tidy(ridge_fit, penalty = 705)\n",
    "\n",
    "\n",
    "# your code here\n"
   ]
  },
  {
   "cell_type": "code",
   "execution_count": 9,
   "metadata": {
    "deletable": false,
    "editable": false,
    "nbgrader": {
     "cell_type": "code",
     "checksum": "a397db0877bc9a717079ea03a98fb4a5",
     "grade": true,
     "grade_id": "cell-3466a2b46607f649",
     "locked": true,
     "points": 1,
     "schema_version": 3,
     "solution": false,
     "task": false
    }
   },
   "outputs": [],
   "source": [
    "# Hidden Tests"
   ]
  },
  {
   "attachments": {
    "output%20image.png": {
     "image/png": "[encoded data removed]"
    }
   },
   "cell_type": "markdown",
   "metadata": {
    "deletable": false,
    "editable": false,
    "nbgrader": {
     "cell_type": "markdown",
     "checksum": "a774a51489aa194c3071fa8d4b85423b",
     "grade": false,
     "grade_id": "cell-41307fcbc0f4b0ae",
     "locked": true,
     "schema_version": 3,
     "solution": false,
     "task": false
    }
   },
   "source": [
    "You can visualize how the magnitude of the coefficients are being regularized towards zero as the penalty goes up. Use the `autoplot()` function to accomplish this task. **Output variable here is** `ridge_fit`. Your image should look like this: \n",
    "\n",
    "<div>\n",
    "<img src=\"attachment:output%20image.png\" width=\"500\"/>\n",
    "</div>\n"
   ]
  },
  {
   "cell_type": "code",
   "execution_count": 10,
   "metadata": {
    "deletable": false,
    "editable": false,
    "nbgrader": {
     "cell_type": "code",
     "checksum": "2d2fb963a999ffcde1cc7081da70628c",
     "grade": false,
     "grade_id": "cell-3ad640c9f1191763",
     "locked": true,
     "schema_version": 3,
     "solution": false,
     "task": false
    }
   },
   "outputs": [
    {
     "ename": "ERROR",
     "evalue": "Error in parse(text = x, srcfile = src): <text>:1:14: unexpected SPECIAL\n1: ridge_fit <- %>%\n                 ^\n",
     "output_type": "error",
     "traceback": [
      "Error in parse(text = x, srcfile = src): <text>:1:14: unexpected SPECIAL\n1: ridge_fit <- %>%\n                 ^\nTraceback:\n"
     ]
    }
   ],
   "source": [
    "ridge_fit <- %>% autoplot()"
   ]
  },
  {
   "cell_type": "markdown",
   "metadata": {
    "deletable": false,
    "editable": false,
    "nbgrader": {
     "cell_type": "markdown",
     "checksum": "da1c3c3e918b602b11c74b0a24b9a9e1",
     "grade": false,
     "grade_id": "cell-26bf1c32da3c98ff",
     "locked": true,
     "schema_version": 3,
     "solution": false,
     "task": false
    }
   },
   "source": [
    "Prediction is done like normal, if you use `predict()` by itself, then `penalty = 0` as you set in the model specification is used."
   ]
  },
  {
   "cell_type": "code",
   "execution_count": 11,
   "metadata": {
    "deletable": false,
    "editable": false,
    "nbgrader": {
     "cell_type": "code",
     "checksum": "39cfcd8b401d1ac21b396950d3d73376",
     "grade": false,
     "grade_id": "cell-00a050726bdf5a89",
     "locked": true,
     "schema_version": 3,
     "solution": false,
     "task": false
    }
   },
   "outputs": [
    {
     "data": {
      "text/html": [
       "<table>\n",
       "<caption>A tibble: 263 × 1</caption>\n",
       "<thead>\n",
       "\t<tr><th scope=col>.pred</th></tr>\n",
       "\t<tr><th scope=col>&lt;dbl&gt;</th></tr>\n",
       "</thead>\n",
       "<tbody>\n",
       "\t<tr><td> 441.66554</td></tr>\n",
       "\t<tr><td> 675.58136</td></tr>\n",
       "\t<tr><td>1058.51428</td></tr>\n",
       "\t<tr><td> 520.67640</td></tr>\n",
       "\t<tr><td> 542.92917</td></tr>\n",
       "\t<tr><td> 217.79896</td></tr>\n",
       "\t<tr><td>  74.69312</td></tr>\n",
       "\t<tr><td>  96.13955</td></tr>\n",
       "\t<tr><td> 808.99002</td></tr>\n",
       "\t<tr><td> 865.39782</td></tr>\n",
       "\t<tr><td> 235.62205</td></tr>\n",
       "\t<tr><td> 509.95152</td></tr>\n",
       "\t<tr><td> 308.28644</td></tr>\n",
       "\t<tr><td> 376.67998</td></tr>\n",
       "\t<tr><td>1095.01340</td></tr>\n",
       "\t<tr><td>  18.06719</td></tr>\n",
       "\t<tr><td> 106.64712</td></tr>\n",
       "\t<tr><td> 481.46312</td></tr>\n",
       "\t<tr><td> 352.87140</td></tr>\n",
       "\t<tr><td> 587.30412</td></tr>\n",
       "\t<tr><td>1370.37657</td></tr>\n",
       "\t<tr><td> 747.83286</td></tr>\n",
       "\t<tr><td> 333.75660</td></tr>\n",
       "\t<tr><td> 541.32277</td></tr>\n",
       "\t<tr><td> 615.70456</td></tr>\n",
       "\t<tr><td> 851.05093</td></tr>\n",
       "\t<tr><td> 225.72717</td></tr>\n",
       "\t<tr><td> 568.24050</td></tr>\n",
       "\t<tr><td> 177.09202</td></tr>\n",
       "\t<tr><td> 685.65534</td></tr>\n",
       "\t<tr><td>⋮</td></tr>\n",
       "\t<tr><td> 626.6399</td></tr>\n",
       "\t<tr><td> 407.2584</td></tr>\n",
       "\t<tr><td> 325.9571</td></tr>\n",
       "\t<tr><td> 710.3232</td></tr>\n",
       "\t<tr><td> 217.8419</td></tr>\n",
       "\t<tr><td> 760.2085</td></tr>\n",
       "\t<tr><td> 118.1205</td></tr>\n",
       "\t<tr><td> 174.0792</td></tr>\n",
       "\t<tr><td> 239.3390</td></tr>\n",
       "\t<tr><td> 181.8702</td></tr>\n",
       "\t<tr><td> 317.0220</td></tr>\n",
       "\t<tr><td> 818.1938</td></tr>\n",
       "\t<tr><td> 427.4666</td></tr>\n",
       "\t<tr><td> 456.6732</td></tr>\n",
       "\t<tr><td> 335.6825</td></tr>\n",
       "\t<tr><td> 829.3222</td></tr>\n",
       "\t<tr><td> 388.2350</td></tr>\n",
       "\t<tr><td> 589.0304</td></tr>\n",
       "\t<tr><td> 529.1102</td></tr>\n",
       "\t<tr><td>1124.2869</td></tr>\n",
       "\t<tr><td> 484.0255</td></tr>\n",
       "\t<tr><td> 505.3788</td></tr>\n",
       "\t<tr><td> 983.4427</td></tr>\n",
       "\t<tr><td> 490.6313</td></tr>\n",
       "\t<tr><td> 701.8502</td></tr>\n",
       "\t<tr><td> 658.4885</td></tr>\n",
       "\t<tr><td> 874.6757</td></tr>\n",
       "\t<tr><td> 305.9239</td></tr>\n",
       "\t<tr><td>1057.2345</td></tr>\n",
       "\t<tr><td> 663.9920</td></tr>\n",
       "</tbody>\n",
       "</table>\n"
      ],
      "text/latex": [
       "A tibble: 263 × 1\n",
       "\\begin{tabular}{l}\n",
       " .pred\\\\\n",
       " <dbl>\\\\\n",
       "\\hline\n",
       "\t  441.66554\\\\\n",
       "\t  675.58136\\\\\n",
       "\t 1058.51428\\\\\n",
       "\t  520.67640\\\\\n",
       "\t  542.92917\\\\\n",
       "\t  217.79896\\\\\n",
       "\t   74.69312\\\\\n",
       "\t   96.13955\\\\\n",
       "\t  808.99002\\\\\n",
       "\t  865.39782\\\\\n",
       "\t  235.62205\\\\\n",
       "\t  509.95152\\\\\n",
       "\t  308.28644\\\\\n",
       "\t  376.67998\\\\\n",
       "\t 1095.01340\\\\\n",
       "\t   18.06719\\\\\n",
       "\t  106.64712\\\\\n",
       "\t  481.46312\\\\\n",
       "\t  352.87140\\\\\n",
       "\t  587.30412\\\\\n",
       "\t 1370.37657\\\\\n",
       "\t  747.83286\\\\\n",
       "\t  333.75660\\\\\n",
       "\t  541.32277\\\\\n",
       "\t  615.70456\\\\\n",
       "\t  851.05093\\\\\n",
       "\t  225.72717\\\\\n",
       "\t  568.24050\\\\\n",
       "\t  177.09202\\\\\n",
       "\t  685.65534\\\\\n",
       "\t ⋮\\\\\n",
       "\t  626.6399\\\\\n",
       "\t  407.2584\\\\\n",
       "\t  325.9571\\\\\n",
       "\t  710.3232\\\\\n",
       "\t  217.8419\\\\\n",
       "\t  760.2085\\\\\n",
       "\t  118.1205\\\\\n",
       "\t  174.0792\\\\\n",
       "\t  239.3390\\\\\n",
       "\t  181.8702\\\\\n",
       "\t  317.0220\\\\\n",
       "\t  818.1938\\\\\n",
       "\t  427.4666\\\\\n",
       "\t  456.6732\\\\\n",
       "\t  335.6825\\\\\n",
       "\t  829.3222\\\\\n",
       "\t  388.2350\\\\\n",
       "\t  589.0304\\\\\n",
       "\t  529.1102\\\\\n",
       "\t 1124.2869\\\\\n",
       "\t  484.0255\\\\\n",
       "\t  505.3788\\\\\n",
       "\t  983.4427\\\\\n",
       "\t  490.6313\\\\\n",
       "\t  701.8502\\\\\n",
       "\t  658.4885\\\\\n",
       "\t  874.6757\\\\\n",
       "\t  305.9239\\\\\n",
       "\t 1057.2345\\\\\n",
       "\t  663.9920\\\\\n",
       "\\end{tabular}\n"
      ],
      "text/markdown": [
       "\n",
       "A tibble: 263 × 1\n",
       "\n",
       "| .pred &lt;dbl&gt; |\n",
       "|---|\n",
       "|  441.66554 |\n",
       "|  675.58136 |\n",
       "| 1058.51428 |\n",
       "|  520.67640 |\n",
       "|  542.92917 |\n",
       "|  217.79896 |\n",
       "|   74.69312 |\n",
       "|   96.13955 |\n",
       "|  808.99002 |\n",
       "|  865.39782 |\n",
       "|  235.62205 |\n",
       "|  509.95152 |\n",
       "|  308.28644 |\n",
       "|  376.67998 |\n",
       "| 1095.01340 |\n",
       "|   18.06719 |\n",
       "|  106.64712 |\n",
       "|  481.46312 |\n",
       "|  352.87140 |\n",
       "|  587.30412 |\n",
       "| 1370.37657 |\n",
       "|  747.83286 |\n",
       "|  333.75660 |\n",
       "|  541.32277 |\n",
       "|  615.70456 |\n",
       "|  851.05093 |\n",
       "|  225.72717 |\n",
       "|  568.24050 |\n",
       "|  177.09202 |\n",
       "|  685.65534 |\n",
       "| ⋮ |\n",
       "|  626.6399 |\n",
       "|  407.2584 |\n",
       "|  325.9571 |\n",
       "|  710.3232 |\n",
       "|  217.8419 |\n",
       "|  760.2085 |\n",
       "|  118.1205 |\n",
       "|  174.0792 |\n",
       "|  239.3390 |\n",
       "|  181.8702 |\n",
       "|  317.0220 |\n",
       "|  818.1938 |\n",
       "|  427.4666 |\n",
       "|  456.6732 |\n",
       "|  335.6825 |\n",
       "|  829.3222 |\n",
       "|  388.2350 |\n",
       "|  589.0304 |\n",
       "|  529.1102 |\n",
       "| 1124.2869 |\n",
       "|  484.0255 |\n",
       "|  505.3788 |\n",
       "|  983.4427 |\n",
       "|  490.6313 |\n",
       "|  701.8502 |\n",
       "|  658.4885 |\n",
       "|  874.6757 |\n",
       "|  305.9239 |\n",
       "| 1057.2345 |\n",
       "|  663.9920 |\n",
       "\n"
      ],
      "text/plain": [
       "    .pred     \n",
       "1    441.66554\n",
       "2    675.58136\n",
       "3   1058.51428\n",
       "4    520.67640\n",
       "5    542.92917\n",
       "6    217.79896\n",
       "7     74.69312\n",
       "8     96.13955\n",
       "9    808.99002\n",
       "10   865.39782\n",
       "11   235.62205\n",
       "12   509.95152\n",
       "13   308.28644\n",
       "14   376.67998\n",
       "15  1095.01340\n",
       "16    18.06719\n",
       "17   106.64712\n",
       "18   481.46312\n",
       "19   352.87140\n",
       "20   587.30412\n",
       "21  1370.37657\n",
       "22   747.83286\n",
       "23   333.75660\n",
       "24   541.32277\n",
       "25   615.70456\n",
       "26   851.05093\n",
       "27   225.72717\n",
       "28   568.24050\n",
       "29   177.09202\n",
       "30   685.65534\n",
       "⋮   ⋮         \n",
       "234  626.6399 \n",
       "235  407.2584 \n",
       "236  325.9571 \n",
       "237  710.3232 \n",
       "238  217.8419 \n",
       "239  760.2085 \n",
       "240  118.1205 \n",
       "241  174.0792 \n",
       "242  239.3390 \n",
       "243  181.8702 \n",
       "244  317.0220 \n",
       "245  818.1938 \n",
       "246  427.4666 \n",
       "247  456.6732 \n",
       "248  335.6825 \n",
       "249  829.3222 \n",
       "250  388.2350 \n",
       "251  589.0304 \n",
       "252  529.1102 \n",
       "253 1124.2869 \n",
       "254  484.0255 \n",
       "255  505.3788 \n",
       "256  983.4427 \n",
       "257  490.6313 \n",
       "258  701.8502 \n",
       "259  658.4885 \n",
       "260  874.6757 \n",
       "261  305.9239 \n",
       "262 1057.2345 \n",
       "263  663.9920 "
      ]
     },
     "metadata": {},
     "output_type": "display_data"
    }
   ],
   "source": [
    "predict(ridge_fit, new_data = Hitters)"
   ]
  },
  {
   "cell_type": "markdown",
   "metadata": {
    "deletable": false,
    "editable": false,
    "nbgrader": {
     "cell_type": "markdown",
     "checksum": "dc5e83512d60207195b6f61da16a9483",
     "grade": false,
     "grade_id": "cell-2f2aeb4aa706819f",
     "locked": true,
     "schema_version": 3,
     "solution": false,
     "task": false
    }
   },
   "source": [
    "But you can also get predictions for other values of `penalty` by specifying it in `predict()`. Test with a value of `500`. Store your output to `predict_500`\n"
   ]
  },
  {
   "cell_type": "code",
   "execution_count": 12,
   "metadata": {
    "deletable": false,
    "nbgrader": {
     "cell_type": "code",
     "checksum": "183aa6195ffd9afed309e7e354e4ce79",
     "grade": false,
     "grade_id": "cell-ec04351caf3d6022",
     "locked": false,
     "schema_version": 3,
     "solution": true,
     "task": false
    }
   },
   "outputs": [
    {
     "data": {
      "text/html": [
       "<table>\n",
       "<caption>A tibble: 6 × 1</caption>\n",
       "<thead>\n",
       "\t<tr><th scope=col>.pred</th></tr>\n",
       "\t<tr><th scope=col>&lt;dbl&gt;</th></tr>\n",
       "</thead>\n",
       "<tbody>\n",
       "\t<tr><td>525.3820</td></tr>\n",
       "\t<tr><td>620.1190</td></tr>\n",
       "\t<tr><td>894.5125</td></tr>\n",
       "\t<tr><td>424.7725</td></tr>\n",
       "\t<tr><td>588.5251</td></tr>\n",
       "\t<tr><td>178.5795</td></tr>\n",
       "</tbody>\n",
       "</table>\n"
      ],
      "text/latex": [
       "A tibble: 6 × 1\n",
       "\\begin{tabular}{l}\n",
       " .pred\\\\\n",
       " <dbl>\\\\\n",
       "\\hline\n",
       "\t 525.3820\\\\\n",
       "\t 620.1190\\\\\n",
       "\t 894.5125\\\\\n",
       "\t 424.7725\\\\\n",
       "\t 588.5251\\\\\n",
       "\t 178.5795\\\\\n",
       "\\end{tabular}\n"
      ],
      "text/markdown": [
       "\n",
       "A tibble: 6 × 1\n",
       "\n",
       "| .pred &lt;dbl&gt; |\n",
       "|---|\n",
       "| 525.3820 |\n",
       "| 620.1190 |\n",
       "| 894.5125 |\n",
       "| 424.7725 |\n",
       "| 588.5251 |\n",
       "| 178.5795 |\n",
       "\n"
      ],
      "text/plain": [
       "  .pred   \n",
       "1 525.3820\n",
       "2 620.1190\n",
       "3 894.5125\n",
       "4 424.7725\n",
       "5 588.5251\n",
       "6 178.5795"
      ]
     },
     "metadata": {},
     "output_type": "display_data"
    }
   ],
   "source": [
    "# Your code here \n",
    "\n",
    "predict_500 <- predict(ridge_fit, penalty = 500, new_data = Hitters)\n",
    "\n",
    "head(predict_500)"
   ]
  },
  {
   "cell_type": "code",
   "execution_count": 13,
   "metadata": {
    "deletable": false,
    "editable": false,
    "nbgrader": {
     "cell_type": "code",
     "checksum": "64e632c8b5992804aad59908c5e349e7",
     "grade": true,
     "grade_id": "cell-418da39ec39c889d",
     "locked": true,
     "points": 1,
     "schema_version": 3,
     "solution": false,
     "task": false
    }
   },
   "outputs": [],
   "source": [
    "# Hidden Tests"
   ]
  },
  {
   "cell_type": "markdown",
   "metadata": {
    "deletable": false,
    "editable": false,
    "nbgrader": {
     "cell_type": "markdown",
     "checksum": "e70cf2016aadd7b1f5d2f119654f7299",
     "grade": false,
     "grade_id": "cell-158058de07eb5fd5",
     "locked": true,
     "schema_version": 3,
     "solution": false,
     "task": false
    }
   },
   "source": [
    "You saw how we can fit a ridge model and make predictions for different values of `penalty`. But it would be great if you could find the \"best\" value of the penalty. This is something you can use **hyperparameter** tuning for. Hyperparameter tuning is in its simplest form a way of fitting many models with different sets of hyperparameters trying to find one that performs \"best\".\n",
    "\n",
    "The complexity in hyperparameter tuning can come from how you try different models. You will keep it simple for this lab and only look at grid search, only looking at evenly spaced parameter values. This is a fine enough approach if you have one or two tunable parameters but can become computationally infeasible. \n",
    "\n",
    "See the chapter on [iterative search](https://www.tmwr.org/iterative-search.html) from [Tidy Modeling with R](https://www.tmwr.org/) for more information.\n",
    "\n",
    "You begin like normal by setting up a validation split (testing and training set). A **K-fold cross-validation data set** is created on the training data set with 10 folds."
   ]
  },
  {
   "cell_type": "code",
   "execution_count": 14,
   "metadata": {
    "deletable": false,
    "editable": false,
    "nbgrader": {
     "cell_type": "code",
     "checksum": "42f53611ea556db3b2e9b78eb2d378fb",
     "grade": false,
     "grade_id": "cell-6d08b8bc39067f6a",
     "locked": true,
     "schema_version": 3,
     "solution": false,
     "task": false
    }
   },
   "outputs": [],
   "source": [
    "Hitters_split <- initial_split(Hitters, strata = \"Salary\")\n",
    "Hitters_train <- training(Hitters_split)\n",
    "Hitters_test <- testing(Hitters_split)\n",
    "Hitters_fold <- vfold_cv(Hitters_train, v = 10)"
   ]
  },
  {
   "cell_type": "markdown",
   "metadata": {
    "deletable": false,
    "editable": false,
    "nbgrader": {
     "cell_type": "markdown",
     "checksum": "775244d4b5c566db6716da0a05a1a682",
     "grade": false,
     "grade_id": "cell-8acba92c1439ac0d",
     "locked": true,
     "schema_version": 3,
     "solution": false,
     "task": false
    }
   },
   "source": [
    "You can use the `tune_grid()` function to perform hyperparameter tuning using a grid search. `tune_grid()` needs 3 different things;\n",
    "\n",
    "-   a `workflow` object containing the model and preprocessor,\n",
    "-   a `rset` object containing the resamples the `workflow` should be fitted within, and\n",
    "-   a `tibble` containing the parameter values to be evaluated.\n",
    "\n",
    "Optionally a metric set of performance metrics can be supplied for evaluation. If you don't set one then a default set of performance metrics is used.\n",
    "\n",
    "You already have a resample object created in `Hitters_fold`. Now you should create the workflow specification next.\n",
    "\n",
    "You just used the data set as is when you fit the model earlier. However, **ridge regression** is scale sensitive so you need to make sure that the variables are on the same scale. You can use `step_normalize()`. Secondly you can deal with the factor variables yourself using `step_novel()` and `step_dummy()`. "
   ]
  },
  {
   "cell_type": "code",
   "execution_count": 15,
   "metadata": {
    "deletable": false,
    "editable": false,
    "nbgrader": {
     "cell_type": "code",
     "checksum": "27665ec102b0d50312641d0a5cc7c68e",
     "grade": false,
     "grade_id": "cell-beff609e86174b49",
     "locked": true,
     "schema_version": 3,
     "solution": false,
     "task": false
    }
   },
   "outputs": [],
   "source": [
    "ridge_recipe <- \n",
    "  recipe(formula = Salary ~ ., data = Hitters_train) %>% \n",
    "  step_novel(all_nominal_predictors()) %>% \n",
    "  step_dummy(all_nominal_predictors()) %>% \n",
    "  step_zv(all_predictors()) %>% \n",
    "  step_normalize(all_predictors())"
   ]
  },
  {
   "cell_type": "markdown",
   "metadata": {
    "deletable": false,
    "editable": false,
    "nbgrader": {
     "cell_type": "markdown",
     "checksum": "672190eaab0e6cd76f64d3ceac323f20",
     "grade": false,
     "grade_id": "cell-b1a2e244c10da6e6",
     "locked": true,
     "schema_version": 3,
     "solution": false,
     "task": false
    }
   },
   "source": [
    "The model specification will look very similar to what you have seen earlier, but you will set `penalty = tune()`. This tells `tune_grid()` that the `penalty` parameter should be tuned. The output variable here will once again be `ridge_spec`. The functions used will be `linear_reg`, `set_mode` and `set_engine`."
   ]
  },
  {
   "cell_type": "code",
   "execution_count": 16,
   "metadata": {
    "deletable": false,
    "nbgrader": {
     "cell_type": "code",
     "checksum": "8957910ebb460efb6bbb8cbd48d832fe",
     "grade": false,
     "grade_id": "cell-e4154b703955e266",
     "locked": false,
     "schema_version": 3,
     "solution": true,
     "task": false
    }
   },
   "outputs": [],
   "source": [
    "# Your code here \n",
    "ridge_spec <- linear_reg(penalty = tune(), mixture = 1) %>% \n",
    "  set_mode(\"regression\") %>% \n",
    "  set_engine(\"glmnet\") \n",
    "\n",
    "# your code here\n"
   ]
  },
  {
   "cell_type": "code",
   "execution_count": 17,
   "metadata": {
    "deletable": false,
    "editable": false,
    "nbgrader": {
     "cell_type": "code",
     "checksum": "f90c671d4673dfb3796ef8b0a746a0ca",
     "grade": true,
     "grade_id": "cell-b62b731e980596be",
     "locked": true,
     "points": 1,
     "schema_version": 3,
     "solution": false,
     "task": false
    }
   },
   "outputs": [],
   "source": [
    "# Hidden Tests"
   ]
  },
  {
   "cell_type": "markdown",
   "metadata": {
    "deletable": false,
    "editable": false,
    "nbgrader": {
     "cell_type": "markdown",
     "checksum": "e3c3e0b9b4ea0979b4159a12712e6bc2",
     "grade": false,
     "grade_id": "cell-e14f35840089ca3d",
     "locked": true,
     "schema_version": 3,
     "solution": false,
     "task": false
    }
   },
   "source": [
    "Now you combine to create a `workflow` object. Your output variable here will be `ridge_worfklow` and the three functions you will use will be `workflow`,`add_recipe` and `add_model`. Your recipe will be `ridge_recipe` and your model will be `ridge_spec`.\n"
   ]
  },
  {
   "cell_type": "code",
   "execution_count": 18,
   "metadata": {
    "deletable": false,
    "nbgrader": {
     "cell_type": "code",
     "checksum": "781a0d9843639e353c1317f7f686ace2",
     "grade": false,
     "grade_id": "cell-d46a34102747835b",
     "locked": false,
     "schema_version": 3,
     "solution": true,
     "task": false
    }
   },
   "outputs": [],
   "source": [
    "# Your code here \n",
    "ridge_workflow <- workflow() %>% \n",
    "  add_recipe(ridge_recipe) %>% \n",
    "  add_model(ridge_spec)\n"
   ]
  },
  {
   "cell_type": "code",
   "execution_count": 19,
   "metadata": {
    "deletable": false,
    "editable": false,
    "nbgrader": {
     "cell_type": "code",
     "checksum": "215ca8f20c7b53ba1cbbbb5b4a762b6c",
     "grade": true,
     "grade_id": "cell-b73c60b90f03a803",
     "locked": true,
     "points": 1,
     "schema_version": 3,
     "solution": false,
     "task": false
    }
   },
   "outputs": [],
   "source": [
    "# Hidden Tests\n"
   ]
  },
  {
   "cell_type": "markdown",
   "metadata": {
    "deletable": false,
    "editable": false,
    "nbgrader": {
     "cell_type": "markdown",
     "checksum": "03504be2e1f1573b27b62a552822db1a",
     "grade": false,
     "grade_id": "cell-66d8b93de8ca4104",
     "locked": true,
     "schema_version": 3,
     "solution": false,
     "task": false
    }
   },
   "source": [
    "The last thing you need is the values of `penalty` you are trying. This can be created using `grid_regular()` which creates a grid of evenly spaces parameter values. You use the `penalty()` function from the [dials](https://dials.tidymodels.org/) package to denote the parameter and set the range of the grid you are searching for. Note that this range is log-scaled. Your output variable here is going to be `penalty_grid`. For `penalty` use a range from -5 to 5, and 50 values (levels).  "
   ]
  },
  {
   "cell_type": "code",
   "execution_count": 20,
   "metadata": {
    "deletable": false,
    "nbgrader": {
     "cell_type": "code",
     "checksum": "06061e32fe73132d55a0acafbe94ea4b",
     "grade": false,
     "grade_id": "cell-85ccc900bd385b13",
     "locked": false,
     "schema_version": 3,
     "solution": true,
     "task": false
    }
   },
   "outputs": [
    {
     "data": {
      "text/html": [
       "<table>\n",
       "<caption>A tibble: 6 × 1</caption>\n",
       "<thead>\n",
       "\t<tr><th scope=col>penalty</th></tr>\n",
       "\t<tr><th scope=col>&lt;dbl&gt;</th></tr>\n",
       "</thead>\n",
       "<tbody>\n",
       "\t<tr><td>1.000000e-05</td></tr>\n",
       "\t<tr><td>1.599859e-05</td></tr>\n",
       "\t<tr><td>2.559548e-05</td></tr>\n",
       "\t<tr><td>4.094915e-05</td></tr>\n",
       "\t<tr><td>6.551286e-05</td></tr>\n",
       "\t<tr><td>1.048113e-04</td></tr>\n",
       "</tbody>\n",
       "</table>\n"
      ],
      "text/latex": [
       "A tibble: 6 × 1\n",
       "\\begin{tabular}{l}\n",
       " penalty\\\\\n",
       " <dbl>\\\\\n",
       "\\hline\n",
       "\t 1.000000e-05\\\\\n",
       "\t 1.599859e-05\\\\\n",
       "\t 2.559548e-05\\\\\n",
       "\t 4.094915e-05\\\\\n",
       "\t 6.551286e-05\\\\\n",
       "\t 1.048113e-04\\\\\n",
       "\\end{tabular}\n"
      ],
      "text/markdown": [
       "\n",
       "A tibble: 6 × 1\n",
       "\n",
       "| penalty &lt;dbl&gt; |\n",
       "|---|\n",
       "| 1.000000e-05 |\n",
       "| 1.599859e-05 |\n",
       "| 2.559548e-05 |\n",
       "| 4.094915e-05 |\n",
       "| 6.551286e-05 |\n",
       "| 1.048113e-04 |\n",
       "\n"
      ],
      "text/plain": [
       "  penalty     \n",
       "1 1.000000e-05\n",
       "2 1.599859e-05\n",
       "3 2.559548e-05\n",
       "4 4.094915e-05\n",
       "5 6.551286e-05\n",
       "6 1.048113e-04"
      ]
     },
     "metadata": {},
     "output_type": "display_data"
    }
   ],
   "source": [
    "# Your code here \n",
    "penalty_grid <- grid_regular(penalty(range = c(-5,5), trans = log10_trans()), levels = 50)  \n",
    "\n",
    "head(penalty_grid)"
   ]
  },
  {
   "cell_type": "code",
   "execution_count": 21,
   "metadata": {
    "deletable": false,
    "editable": false,
    "nbgrader": {
     "cell_type": "code",
     "checksum": "bd9afdf3ac027ab39ac27d0863dc9d07",
     "grade": true,
     "grade_id": "cell-f90c48494d305cd3",
     "locked": true,
     "points": 1,
     "schema_version": 3,
     "solution": false,
     "task": false
    }
   },
   "outputs": [
    {
     "ename": "ERROR",
     "evalue": "Error in expect_equal(penalty_grid$penalty[1], 1e-05): could not find function \"expect_equal\"\n",
     "output_type": "error",
     "traceback": [
      "Error in expect_equal(penalty_grid$penalty[1], 1e-05): could not find function \"expect_equal\"\nTraceback:\n"
     ]
    }
   ],
   "source": [
    "expect_equal(penalty_grid$penalty[1], 1e-05)\n",
    "expect_equal(penalty_grid$penalty[25], 0.79060432109077, tolerance=1e-5)\n",
    "expect_equal(penalty_grid$penalty[50], 1e+05)\n",
    "\n",
    "# Hidden Tests"
   ]
  },
  {
   "cell_type": "markdown",
   "metadata": {
    "deletable": false,
    "editable": false,
    "nbgrader": {
     "cell_type": "markdown",
     "checksum": "4efb943e6397f7bbbf36f63298e17e22",
     "grade": false,
     "grade_id": "cell-0703997dfebdc01e",
     "locked": true,
     "schema_version": 3,
     "solution": false,
     "task": false
    }
   },
   "source": [
    "Using 50 levels for one parameter might seem overkill and in many applications it is. But remember that `glmnet` fits all the models in one go so adding more levels to `penalty` doesn't affect the computational speed much.\n",
    "\n",
    "Now you have everything you need and you can fit all the models. Your output variable here is going to be `tune_res` and you will be using the `tune_grid` function. \n"
   ]
  },
  {
   "cell_type": "code",
   "execution_count": 22,
   "metadata": {
    "deletable": false,
    "editable": false,
    "nbgrader": {
     "cell_type": "code",
     "checksum": "42ef85e9a873e5493b95bbf6c9aea012",
     "grade": false,
     "grade_id": "cell-2b3fa7886438a45e",
     "locked": true,
     "schema_version": 3,
     "solution": false,
     "task": false
    }
   },
   "outputs": [
    {
     "name": "stderr",
     "output_type": "stream",
     "text": [
      "\u001b[33m!\u001b[39m \u001b[33mFold01: internal:\n",
      "  \u001b[1m\u001b[22mThere were 13 warnings in `dplyr::summarise()`.\n",
      "  The first warning was:\n",
      "  \u001b[1m\u001b[22m\u001b[36mℹ\u001b[33m In argument: `.estimate = metric_fn(truth = Salar...\n",
      "    na_rm)`.\n",
      "  \u001b[36mℹ\u001b[33m In group 38: `penalty = 355.648`.\n",
      "  Caused by warning:\n",
      "  \u001b[33m!\u001b[33m A correlation computation is required, but `estimate` is c...\n",
      "  \u001b[1m\u001b[22m\u001b[36mℹ\u001b[33m Run `dplyr::last_dplyr_warnings()` to see the 12 ...\u001b[39m\n",
      "\n",
      "\u001b[33m!\u001b[39m \u001b[33mFold02: internal:\n",
      "  \u001b[1m\u001b[22mThere were 14 warnings in `dplyr::summarise()`.\n",
      "  The first warning was:\n",
      "  \u001b[1m\u001b[22m\u001b[36mℹ\u001b[33m In argument: `.estimate = metric_fn(truth = Salar...\n",
      "    na_rm)`.\n",
      "  \u001b[36mℹ\u001b[33m In group 37: `penalty = 222.2996`.\n",
      "  Caused by warning:\n",
      "  \u001b[33m!\u001b[33m A correlation computation is required, but `estimate` is c...\n",
      "  \u001b[1m\u001b[22m\u001b[36mℹ\u001b[33m Run `dplyr::last_dplyr_warnings()` to see the 13 ...\u001b[39m\n",
      "\n",
      "\u001b[33m!\u001b[39m \u001b[33mFold03: internal:\n",
      "  \u001b[1m\u001b[22mThere were 13 warnings in `dplyr::summarise()`.\n",
      "  The first warning was:\n",
      "  \u001b[1m\u001b[22m\u001b[36mℹ\u001b[33m In argument: `.estimate = metric_fn(truth = Salar...\n",
      "    na_rm)`.\n",
      "  \u001b[36mℹ\u001b[33m In group 38: `penalty = 355.648`.\n",
      "  Caused by warning:\n",
      "  \u001b[33m!\u001b[33m A correlation computation is required, but `estimate` is c...\n",
      "  \u001b[1m\u001b[22m\u001b[36mℹ\u001b[33m Run `dplyr::last_dplyr_warnings()` to see the 12 ...\u001b[39m\n",
      "\n",
      "\u001b[33m!\u001b[39m \u001b[33mFold04: internal:\n",
      "  \u001b[1m\u001b[22mThere were 13 warnings in `dplyr::summarise()`.\n",
      "  The first warning was:\n",
      "  \u001b[1m\u001b[22m\u001b[36mℹ\u001b[33m In argument: `.estimate = metric_fn(truth = Salar...\n",
      "    na_rm)`.\n",
      "  \u001b[36mℹ\u001b[33m In group 38: `penalty = 355.648`.\n",
      "  Caused by warning:\n",
      "  \u001b[33m!\u001b[33m A correlation computation is required, but `estimate` is c...\n",
      "  \u001b[1m\u001b[22m\u001b[36mℹ\u001b[33m Run `dplyr::last_dplyr_warnings()` to see the 12 ...\u001b[39m\n",
      "\n",
      "\u001b[33m!\u001b[39m \u001b[33mFold05: internal:\n",
      "  \u001b[1m\u001b[22mThere were 13 warnings in `dplyr::summarise()`.\n",
      "  The first warning was:\n",
      "  \u001b[1m\u001b[22m\u001b[36mℹ\u001b[33m In argument: `.estimate = metric_fn(truth = Salar...\n",
      "    na_rm)`.\n",
      "  \u001b[36mℹ\u001b[33m In group 38: `penalty = 355.648`.\n",
      "  Caused by warning:\n",
      "  \u001b[33m!\u001b[33m A correlation computation is required, but `estimate` is c...\n",
      "  \u001b[1m\u001b[22m\u001b[36mℹ\u001b[33m Run `dplyr::last_dplyr_warnings()` to see the 12 ...\u001b[39m\n",
      "\n",
      "\u001b[33m!\u001b[39m \u001b[33mFold06: internal:\n",
      "  \u001b[1m\u001b[22mThere were 13 warnings in `dplyr::summarise()`.\n",
      "  The first warning was:\n",
      "  \u001b[1m\u001b[22m\u001b[36mℹ\u001b[33m In argument: `.estimate = metric_fn(truth = Salar...\n",
      "    na_rm)`.\n",
      "  \u001b[36mℹ\u001b[33m In group 38: `penalty = 355.648`.\n",
      "  Caused by warning:\n",
      "  \u001b[33m!\u001b[33m A correlation computation is required, but `estimate` is c...\n",
      "  \u001b[1m\u001b[22m\u001b[36mℹ\u001b[33m Run `dplyr::last_dplyr_warnings()` to see the 12 ...\u001b[39m\n",
      "\n",
      "\u001b[33m!\u001b[39m \u001b[33mFold07: internal:\n",
      "  \u001b[1m\u001b[22mThere were 14 warnings in `dplyr::summarise()`.\n",
      "  The first warning was:\n",
      "  \u001b[1m\u001b[22m\u001b[36mℹ\u001b[33m In argument: `.estimate = metric_fn(truth = Salar...\n",
      "    na_rm)`.\n",
      "  \u001b[36mℹ\u001b[33m In group 37: `penalty = 222.2996`.\n",
      "  Caused by warning:\n",
      "  \u001b[33m!\u001b[33m A correlation computation is required, but `estimate` is c...\n",
      "  \u001b[1m\u001b[22m\u001b[36mℹ\u001b[33m Run `dplyr::last_dplyr_warnings()` to see the 13 ...\u001b[39m\n",
      "\n",
      "\u001b[33m!\u001b[39m \u001b[33mFold08: internal:\n",
      "  \u001b[1m\u001b[22mThere were 13 warnings in `dplyr::summarise()`.\n",
      "  The first warning was:\n",
      "  \u001b[1m\u001b[22m\u001b[36mℹ\u001b[33m In argument: `.estimate = metric_fn(truth = Salar...\n",
      "    na_rm)`.\n",
      "  \u001b[36mℹ\u001b[33m In group 38: `penalty = 355.648`.\n",
      "  Caused by warning:\n",
      "  \u001b[33m!\u001b[33m A correlation computation is required, but `estimate` is c...\n",
      "  \u001b[1m\u001b[22m\u001b[36mℹ\u001b[33m Run `dplyr::last_dplyr_warnings()` to see the 12 ...\u001b[39m\n",
      "\n",
      "\u001b[33m!\u001b[39m \u001b[33mFold09: internal:\n",
      "  \u001b[1m\u001b[22mThere were 13 warnings in `dplyr::summarise()`.\n",
      "  The first warning was:\n",
      "  \u001b[1m\u001b[22m\u001b[36mℹ\u001b[33m In argument: `.estimate = metric_fn(truth = Salar...\n",
      "    na_rm)`.\n",
      "  \u001b[36mℹ\u001b[33m In group 38: `penalty = 355.648`.\n",
      "  Caused by warning:\n",
      "  \u001b[33m!\u001b[33m A correlation computation is required, but `estimate` is c...\n",
      "  \u001b[1m\u001b[22m\u001b[36mℹ\u001b[33m Run `dplyr::last_dplyr_warnings()` to see the 12 ...\u001b[39m\n",
      "\n",
      "\u001b[33m!\u001b[39m \u001b[33mFold10: internal:\n",
      "  \u001b[1m\u001b[22mThere were 13 warnings in `dplyr::summarise()`.\n",
      "  The first warning was:\n",
      "  \u001b[1m\u001b[22m\u001b[36mℹ\u001b[33m In argument: `.estimate = metric_fn(truth = Salar...\n",
      "    na_rm)`.\n",
      "  \u001b[36mℹ\u001b[33m In group 38: `penalty = 355.648`.\n",
      "  Caused by warning:\n",
      "  \u001b[33m!\u001b[33m A correlation computation is required, but `estimate` is c...\n",
      "  \u001b[1m\u001b[22m\u001b[36mℹ\u001b[33m Run `dplyr::last_dplyr_warnings()` to see the 12 ...\u001b[39m\n",
      "\n"
     ]
    }
   ],
   "source": [
    "tune_res <- tune_grid(\n",
    "  ridge_workflow,\n",
    "  resamples = Hitters_fold, \n",
    "  grid = penalty_grid\n",
    ")"
   ]
  },
  {
   "cell_type": "markdown",
   "metadata": {
    "deletable": false,
    "editable": false,
    "nbgrader": {
     "cell_type": "markdown",
     "checksum": "8a4decdb3aadbbeab0758309fb67839a",
     "grade": false,
     "grade_id": "cell-9b165a95a6e2b639",
     "locked": true,
     "schema_version": 3,
     "solution": false,
     "task": false
    }
   },
   "source": [
    "The output of `tune_grid()` can be hard to read by itself unprocessed. `autoplot()` creates a great visualization. Go on ahead and use this function for visualization. What do you notice in your plot? "
   ]
  },
  {
   "cell_type": "code",
   "execution_count": 23,
   "metadata": {
    "deletable": false,
    "editable": false,
    "nbgrader": {
     "cell_type": "code",
     "checksum": "df4618ca61cbb8841f8a7293a1f7cf5d",
     "grade": false,
     "grade_id": "cell-34aaf7586c48f4d8",
     "locked": true,
     "schema_version": 3,
     "solution": false,
     "task": false
    }
   },
   "outputs": [
    {
     "data": {
      "image/png": "[encoded data removed]",
      "text/plain": [
       "plot without title"
      ]
     },
     "metadata": {
      "image/png": {
       "height": 420,
       "width": 420
      },
      "text/plain": {
       "height": 420,
       "width": 420
      }
     },
     "output_type": "display_data"
    }
   ],
   "source": [
    "autoplot(tune_res)"
   ]
  },
  {
   "cell_type": "markdown",
   "metadata": {
    "deletable": false,
    "editable": false,
    "nbgrader": {
     "cell_type": "markdown",
     "checksum": "cf5dc9f77ad27eee317f7cfc8ec086d7",
     "grade": false,
     "grade_id": "cell-b807b8ed73b3dc37",
     "locked": true,
     "schema_version": 3,
     "solution": false,
     "task": false
    }
   },
   "source": [
    "You can also see the raw metrics that created this chart by calling `collect_matrics()`.\n"
   ]
  },
  {
   "cell_type": "code",
   "execution_count": 24,
   "metadata": {
    "deletable": false,
    "editable": false,
    "nbgrader": {
     "cell_type": "code",
     "checksum": "cf290a79175ef109cda0523bacb08b9b",
     "grade": false,
     "grade_id": "cell-d4388d07b349a945",
     "locked": true,
     "schema_version": 3,
     "solution": false,
     "task": false
    }
   },
   "outputs": [
    {
     "data": {
      "text/html": [
       "<table>\n",
       "<caption>A tibble: 100 × 7</caption>\n",
       "<thead>\n",
       "\t<tr><th scope=col>penalty</th><th scope=col>.metric</th><th scope=col>.estimator</th><th scope=col>mean</th><th scope=col>n</th><th scope=col>std_err</th><th scope=col>.config</th></tr>\n",
       "\t<tr><th scope=col>&lt;dbl&gt;</th><th scope=col>&lt;chr&gt;</th><th scope=col>&lt;chr&gt;</th><th scope=col>&lt;dbl&gt;</th><th scope=col>&lt;int&gt;</th><th scope=col>&lt;dbl&gt;</th><th scope=col>&lt;fct&gt;</th></tr>\n",
       "</thead>\n",
       "<tbody>\n",
       "\t<tr><td>1.000000e-05</td><td>rmse</td><td>standard</td><td>292.6114432</td><td>10</td><td>22.14329353</td><td>Preprocessor1_Model01</td></tr>\n",
       "\t<tr><td>1.000000e-05</td><td>rsq </td><td>standard</td><td>  0.4755473</td><td>10</td><td> 0.05005364</td><td>Preprocessor1_Model01</td></tr>\n",
       "\t<tr><td>1.599859e-05</td><td>rmse</td><td>standard</td><td>292.6114432</td><td>10</td><td>22.14329353</td><td>Preprocessor1_Model02</td></tr>\n",
       "\t<tr><td>1.599859e-05</td><td>rsq </td><td>standard</td><td>  0.4755473</td><td>10</td><td> 0.05005364</td><td>Preprocessor1_Model02</td></tr>\n",
       "\t<tr><td>2.559548e-05</td><td>rmse</td><td>standard</td><td>292.6114432</td><td>10</td><td>22.14329353</td><td>Preprocessor1_Model03</td></tr>\n",
       "\t<tr><td>2.559548e-05</td><td>rsq </td><td>standard</td><td>  0.4755473</td><td>10</td><td> 0.05005364</td><td>Preprocessor1_Model03</td></tr>\n",
       "\t<tr><td>4.094915e-05</td><td>rmse</td><td>standard</td><td>292.6114432</td><td>10</td><td>22.14329353</td><td>Preprocessor1_Model04</td></tr>\n",
       "\t<tr><td>4.094915e-05</td><td>rsq </td><td>standard</td><td>  0.4755473</td><td>10</td><td> 0.05005364</td><td>Preprocessor1_Model04</td></tr>\n",
       "\t<tr><td>6.551286e-05</td><td>rmse</td><td>standard</td><td>292.6114432</td><td>10</td><td>22.14329353</td><td>Preprocessor1_Model05</td></tr>\n",
       "\t<tr><td>6.551286e-05</td><td>rsq </td><td>standard</td><td>  0.4755473</td><td>10</td><td> 0.05005364</td><td>Preprocessor1_Model05</td></tr>\n",
       "\t<tr><td>1.048113e-04</td><td>rmse</td><td>standard</td><td>292.6114432</td><td>10</td><td>22.14329353</td><td>Preprocessor1_Model06</td></tr>\n",
       "\t<tr><td>1.048113e-04</td><td>rsq </td><td>standard</td><td>  0.4755473</td><td>10</td><td> 0.05005364</td><td>Preprocessor1_Model06</td></tr>\n",
       "\t<tr><td>1.676833e-04</td><td>rmse</td><td>standard</td><td>292.6114432</td><td>10</td><td>22.14329353</td><td>Preprocessor1_Model07</td></tr>\n",
       "\t<tr><td>1.676833e-04</td><td>rsq </td><td>standard</td><td>  0.4755473</td><td>10</td><td> 0.05005364</td><td>Preprocessor1_Model07</td></tr>\n",
       "\t<tr><td>2.682696e-04</td><td>rmse</td><td>standard</td><td>292.6114432</td><td>10</td><td>22.14329353</td><td>Preprocessor1_Model08</td></tr>\n",
       "\t<tr><td>2.682696e-04</td><td>rsq </td><td>standard</td><td>  0.4755473</td><td>10</td><td> 0.05005364</td><td>Preprocessor1_Model08</td></tr>\n",
       "\t<tr><td>4.291934e-04</td><td>rmse</td><td>standard</td><td>292.6114432</td><td>10</td><td>22.14329353</td><td>Preprocessor1_Model09</td></tr>\n",
       "\t<tr><td>4.291934e-04</td><td>rsq </td><td>standard</td><td>  0.4755473</td><td>10</td><td> 0.05005364</td><td>Preprocessor1_Model09</td></tr>\n",
       "\t<tr><td>6.866488e-04</td><td>rmse</td><td>standard</td><td>292.6114432</td><td>10</td><td>22.14329353</td><td>Preprocessor1_Model10</td></tr>\n",
       "\t<tr><td>6.866488e-04</td><td>rsq </td><td>standard</td><td>  0.4755473</td><td>10</td><td> 0.05005364</td><td>Preprocessor1_Model10</td></tr>\n",
       "\t<tr><td>1.098541e-03</td><td>rmse</td><td>standard</td><td>292.6114432</td><td>10</td><td>22.14329353</td><td>Preprocessor1_Model11</td></tr>\n",
       "\t<tr><td>1.098541e-03</td><td>rsq </td><td>standard</td><td>  0.4755473</td><td>10</td><td> 0.05005364</td><td>Preprocessor1_Model11</td></tr>\n",
       "\t<tr><td>1.757511e-03</td><td>rmse</td><td>standard</td><td>292.6114432</td><td>10</td><td>22.14329353</td><td>Preprocessor1_Model12</td></tr>\n",
       "\t<tr><td>1.757511e-03</td><td>rsq </td><td>standard</td><td>  0.4755473</td><td>10</td><td> 0.05005364</td><td>Preprocessor1_Model12</td></tr>\n",
       "\t<tr><td>2.811769e-03</td><td>rmse</td><td>standard</td><td>292.6114432</td><td>10</td><td>22.14329353</td><td>Preprocessor1_Model13</td></tr>\n",
       "\t<tr><td>2.811769e-03</td><td>rsq </td><td>standard</td><td>  0.4755473</td><td>10</td><td> 0.05005364</td><td>Preprocessor1_Model13</td></tr>\n",
       "\t<tr><td>4.498433e-03</td><td>rmse</td><td>standard</td><td>292.6114432</td><td>10</td><td>22.14329353</td><td>Preprocessor1_Model14</td></tr>\n",
       "\t<tr><td>4.498433e-03</td><td>rsq </td><td>standard</td><td>  0.4755473</td><td>10</td><td> 0.05005364</td><td>Preprocessor1_Model14</td></tr>\n",
       "\t<tr><td>7.196857e-03</td><td>rmse</td><td>standard</td><td>292.6114432</td><td>10</td><td>22.14329353</td><td>Preprocessor1_Model15</td></tr>\n",
       "\t<tr><td>7.196857e-03</td><td>rsq </td><td>standard</td><td>  0.4755473</td><td>10</td><td> 0.05005364</td><td>Preprocessor1_Model15</td></tr>\n",
       "\t<tr><td>⋮</td><td>⋮</td><td>⋮</td><td>⋮</td><td>⋮</td><td>⋮</td><td>⋮</td></tr>\n",
       "\t<tr><td>   138.9495</td><td>rmse</td><td>standard</td><td>336.9583896</td><td>10</td><td>26.88675940</td><td>Preprocessor1_Model36</td></tr>\n",
       "\t<tr><td>   138.9495</td><td>rsq </td><td>standard</td><td>  0.4424737</td><td>10</td><td> 0.06325793</td><td>Preprocessor1_Model36</td></tr>\n",
       "\t<tr><td>   222.2996</td><td>rmse</td><td>standard</td><td>384.4415278</td><td>10</td><td>26.69918609</td><td>Preprocessor1_Model37</td></tr>\n",
       "\t<tr><td>   222.2996</td><td>rsq </td><td>standard</td><td>  0.3823782</td><td> 8</td><td> 0.06699186</td><td>Preprocessor1_Model37</td></tr>\n",
       "\t<tr><td>   355.6480</td><td>rmse</td><td>standard</td><td>390.0824118</td><td>10</td><td>25.81992351</td><td>Preprocessor1_Model38</td></tr>\n",
       "\t<tr><td>   355.6480</td><td>rsq </td><td>standard</td><td>        NaN</td><td> 0</td><td>         NA</td><td>Preprocessor1_Model38</td></tr>\n",
       "\t<tr><td>   568.9866</td><td>rmse</td><td>standard</td><td>390.0824118</td><td>10</td><td>25.81992351</td><td>Preprocessor1_Model39</td></tr>\n",
       "\t<tr><td>   568.9866</td><td>rsq </td><td>standard</td><td>        NaN</td><td> 0</td><td>         NA</td><td>Preprocessor1_Model39</td></tr>\n",
       "\t<tr><td>   910.2982</td><td>rmse</td><td>standard</td><td>390.0824118</td><td>10</td><td>25.81992351</td><td>Preprocessor1_Model40</td></tr>\n",
       "\t<tr><td>   910.2982</td><td>rsq </td><td>standard</td><td>        NaN</td><td> 0</td><td>         NA</td><td>Preprocessor1_Model40</td></tr>\n",
       "\t<tr><td>  1456.3485</td><td>rmse</td><td>standard</td><td>390.0824118</td><td>10</td><td>25.81992351</td><td>Preprocessor1_Model41</td></tr>\n",
       "\t<tr><td>  1456.3485</td><td>rsq </td><td>standard</td><td>        NaN</td><td> 0</td><td>         NA</td><td>Preprocessor1_Model41</td></tr>\n",
       "\t<tr><td>  2329.9518</td><td>rmse</td><td>standard</td><td>390.0824118</td><td>10</td><td>25.81992351</td><td>Preprocessor1_Model42</td></tr>\n",
       "\t<tr><td>  2329.9518</td><td>rsq </td><td>standard</td><td>        NaN</td><td> 0</td><td>         NA</td><td>Preprocessor1_Model42</td></tr>\n",
       "\t<tr><td>  3727.5937</td><td>rmse</td><td>standard</td><td>390.0824118</td><td>10</td><td>25.81992351</td><td>Preprocessor1_Model43</td></tr>\n",
       "\t<tr><td>  3727.5937</td><td>rsq </td><td>standard</td><td>        NaN</td><td> 0</td><td>         NA</td><td>Preprocessor1_Model43</td></tr>\n",
       "\t<tr><td>  5963.6233</td><td>rmse</td><td>standard</td><td>390.0824118</td><td>10</td><td>25.81992351</td><td>Preprocessor1_Model44</td></tr>\n",
       "\t<tr><td>  5963.6233</td><td>rsq </td><td>standard</td><td>        NaN</td><td> 0</td><td>         NA</td><td>Preprocessor1_Model44</td></tr>\n",
       "\t<tr><td>  9540.9548</td><td>rmse</td><td>standard</td><td>390.0824118</td><td>10</td><td>25.81992351</td><td>Preprocessor1_Model45</td></tr>\n",
       "\t<tr><td>  9540.9548</td><td>rsq </td><td>standard</td><td>        NaN</td><td> 0</td><td>         NA</td><td>Preprocessor1_Model45</td></tr>\n",
       "\t<tr><td> 15264.1797</td><td>rmse</td><td>standard</td><td>390.0824118</td><td>10</td><td>25.81992351</td><td>Preprocessor1_Model46</td></tr>\n",
       "\t<tr><td> 15264.1797</td><td>rsq </td><td>standard</td><td>        NaN</td><td> 0</td><td>         NA</td><td>Preprocessor1_Model46</td></tr>\n",
       "\t<tr><td> 24420.5309</td><td>rmse</td><td>standard</td><td>390.0824118</td><td>10</td><td>25.81992351</td><td>Preprocessor1_Model47</td></tr>\n",
       "\t<tr><td> 24420.5309</td><td>rsq </td><td>standard</td><td>        NaN</td><td> 0</td><td>         NA</td><td>Preprocessor1_Model47</td></tr>\n",
       "\t<tr><td> 39069.3994</td><td>rmse</td><td>standard</td><td>390.0824118</td><td>10</td><td>25.81992351</td><td>Preprocessor1_Model48</td></tr>\n",
       "\t<tr><td> 39069.3994</td><td>rsq </td><td>standard</td><td>        NaN</td><td> 0</td><td>         NA</td><td>Preprocessor1_Model48</td></tr>\n",
       "\t<tr><td> 62505.5193</td><td>rmse</td><td>standard</td><td>390.0824118</td><td>10</td><td>25.81992351</td><td>Preprocessor1_Model49</td></tr>\n",
       "\t<tr><td> 62505.5193</td><td>rsq </td><td>standard</td><td>        NaN</td><td> 0</td><td>         NA</td><td>Preprocessor1_Model49</td></tr>\n",
       "\t<tr><td>100000.0000</td><td>rmse</td><td>standard</td><td>390.0824118</td><td>10</td><td>25.81992351</td><td>Preprocessor1_Model50</td></tr>\n",
       "\t<tr><td>100000.0000</td><td>rsq </td><td>standard</td><td>        NaN</td><td> 0</td><td>         NA</td><td>Preprocessor1_Model50</td></tr>\n",
       "</tbody>\n",
       "</table>\n"
      ],
      "text/latex": [
       "A tibble: 100 × 7\n",
       "\\begin{tabular}{lllllll}\n",
       " penalty & .metric & .estimator & mean & n & std\\_err & .config\\\\\n",
       " <dbl> & <chr> & <chr> & <dbl> & <int> & <dbl> & <fct>\\\\\n",
       "\\hline\n",
       "\t 1.000000e-05 & rmse & standard & 292.6114432 & 10 & 22.14329353 & Preprocessor1\\_Model01\\\\\n",
       "\t 1.000000e-05 & rsq  & standard &   0.4755473 & 10 &  0.05005364 & Preprocessor1\\_Model01\\\\\n",
       "\t 1.599859e-05 & rmse & standard & 292.6114432 & 10 & 22.14329353 & Preprocessor1\\_Model02\\\\\n",
       "\t 1.599859e-05 & rsq  & standard &   0.4755473 & 10 &  0.05005364 & Preprocessor1\\_Model02\\\\\n",
       "\t 2.559548e-05 & rmse & standard & 292.6114432 & 10 & 22.14329353 & Preprocessor1\\_Model03\\\\\n",
       "\t 2.559548e-05 & rsq  & standard &   0.4755473 & 10 &  0.05005364 & Preprocessor1\\_Model03\\\\\n",
       "\t 4.094915e-05 & rmse & standard & 292.6114432 & 10 & 22.14329353 & Preprocessor1\\_Model04\\\\\n",
       "\t 4.094915e-05 & rsq  & standard &   0.4755473 & 10 &  0.05005364 & Preprocessor1\\_Model04\\\\\n",
       "\t 6.551286e-05 & rmse & standard & 292.6114432 & 10 & 22.14329353 & Preprocessor1\\_Model05\\\\\n",
       "\t 6.551286e-05 & rsq  & standard &   0.4755473 & 10 &  0.05005364 & Preprocessor1\\_Model05\\\\\n",
       "\t 1.048113e-04 & rmse & standard & 292.6114432 & 10 & 22.14329353 & Preprocessor1\\_Model06\\\\\n",
       "\t 1.048113e-04 & rsq  & standard &   0.4755473 & 10 &  0.05005364 & Preprocessor1\\_Model06\\\\\n",
       "\t 1.676833e-04 & rmse & standard & 292.6114432 & 10 & 22.14329353 & Preprocessor1\\_Model07\\\\\n",
       "\t 1.676833e-04 & rsq  & standard &   0.4755473 & 10 &  0.05005364 & Preprocessor1\\_Model07\\\\\n",
       "\t 2.682696e-04 & rmse & standard & 292.6114432 & 10 & 22.14329353 & Preprocessor1\\_Model08\\\\\n",
       "\t 2.682696e-04 & rsq  & standard &   0.4755473 & 10 &  0.05005364 & Preprocessor1\\_Model08\\\\\n",
       "\t 4.291934e-04 & rmse & standard & 292.6114432 & 10 & 22.14329353 & Preprocessor1\\_Model09\\\\\n",
       "\t 4.291934e-04 & rsq  & standard &   0.4755473 & 10 &  0.05005364 & Preprocessor1\\_Model09\\\\\n",
       "\t 6.866488e-04 & rmse & standard & 292.6114432 & 10 & 22.14329353 & Preprocessor1\\_Model10\\\\\n",
       "\t 6.866488e-04 & rsq  & standard &   0.4755473 & 10 &  0.05005364 & Preprocessor1\\_Model10\\\\\n",
       "\t 1.098541e-03 & rmse & standard & 292.6114432 & 10 & 22.14329353 & Preprocessor1\\_Model11\\\\\n",
       "\t 1.098541e-03 & rsq  & standard &   0.4755473 & 10 &  0.05005364 & Preprocessor1\\_Model11\\\\\n",
       "\t 1.757511e-03 & rmse & standard & 292.6114432 & 10 & 22.14329353 & Preprocessor1\\_Model12\\\\\n",
       "\t 1.757511e-03 & rsq  & standard &   0.4755473 & 10 &  0.05005364 & Preprocessor1\\_Model12\\\\\n",
       "\t 2.811769e-03 & rmse & standard & 292.6114432 & 10 & 22.14329353 & Preprocessor1\\_Model13\\\\\n",
       "\t 2.811769e-03 & rsq  & standard &   0.4755473 & 10 &  0.05005364 & Preprocessor1\\_Model13\\\\\n",
       "\t 4.498433e-03 & rmse & standard & 292.6114432 & 10 & 22.14329353 & Preprocessor1\\_Model14\\\\\n",
       "\t 4.498433e-03 & rsq  & standard &   0.4755473 & 10 &  0.05005364 & Preprocessor1\\_Model14\\\\\n",
       "\t 7.196857e-03 & rmse & standard & 292.6114432 & 10 & 22.14329353 & Preprocessor1\\_Model15\\\\\n",
       "\t 7.196857e-03 & rsq  & standard &   0.4755473 & 10 &  0.05005364 & Preprocessor1\\_Model15\\\\\n",
       "\t ⋮ & ⋮ & ⋮ & ⋮ & ⋮ & ⋮ & ⋮\\\\\n",
       "\t    138.9495 & rmse & standard & 336.9583896 & 10 & 26.88675940 & Preprocessor1\\_Model36\\\\\n",
       "\t    138.9495 & rsq  & standard &   0.4424737 & 10 &  0.06325793 & Preprocessor1\\_Model36\\\\\n",
       "\t    222.2996 & rmse & standard & 384.4415278 & 10 & 26.69918609 & Preprocessor1\\_Model37\\\\\n",
       "\t    222.2996 & rsq  & standard &   0.3823782 &  8 &  0.06699186 & Preprocessor1\\_Model37\\\\\n",
       "\t    355.6480 & rmse & standard & 390.0824118 & 10 & 25.81992351 & Preprocessor1\\_Model38\\\\\n",
       "\t    355.6480 & rsq  & standard &         NaN &  0 &          NA & Preprocessor1\\_Model38\\\\\n",
       "\t    568.9866 & rmse & standard & 390.0824118 & 10 & 25.81992351 & Preprocessor1\\_Model39\\\\\n",
       "\t    568.9866 & rsq  & standard &         NaN &  0 &          NA & Preprocessor1\\_Model39\\\\\n",
       "\t    910.2982 & rmse & standard & 390.0824118 & 10 & 25.81992351 & Preprocessor1\\_Model40\\\\\n",
       "\t    910.2982 & rsq  & standard &         NaN &  0 &          NA & Preprocessor1\\_Model40\\\\\n",
       "\t   1456.3485 & rmse & standard & 390.0824118 & 10 & 25.81992351 & Preprocessor1\\_Model41\\\\\n",
       "\t   1456.3485 & rsq  & standard &         NaN &  0 &          NA & Preprocessor1\\_Model41\\\\\n",
       "\t   2329.9518 & rmse & standard & 390.0824118 & 10 & 25.81992351 & Preprocessor1\\_Model42\\\\\n",
       "\t   2329.9518 & rsq  & standard &         NaN &  0 &          NA & Preprocessor1\\_Model42\\\\\n",
       "\t   3727.5937 & rmse & standard & 390.0824118 & 10 & 25.81992351 & Preprocessor1\\_Model43\\\\\n",
       "\t   3727.5937 & rsq  & standard &         NaN &  0 &          NA & Preprocessor1\\_Model43\\\\\n",
       "\t   5963.6233 & rmse & standard & 390.0824118 & 10 & 25.81992351 & Preprocessor1\\_Model44\\\\\n",
       "\t   5963.6233 & rsq  & standard &         NaN &  0 &          NA & Preprocessor1\\_Model44\\\\\n",
       "\t   9540.9548 & rmse & standard & 390.0824118 & 10 & 25.81992351 & Preprocessor1\\_Model45\\\\\n",
       "\t   9540.9548 & rsq  & standard &         NaN &  0 &          NA & Preprocessor1\\_Model45\\\\\n",
       "\t  15264.1797 & rmse & standard & 390.0824118 & 10 & 25.81992351 & Preprocessor1\\_Model46\\\\\n",
       "\t  15264.1797 & rsq  & standard &         NaN &  0 &          NA & Preprocessor1\\_Model46\\\\\n",
       "\t  24420.5309 & rmse & standard & 390.0824118 & 10 & 25.81992351 & Preprocessor1\\_Model47\\\\\n",
       "\t  24420.5309 & rsq  & standard &         NaN &  0 &          NA & Preprocessor1\\_Model47\\\\\n",
       "\t  39069.3994 & rmse & standard & 390.0824118 & 10 & 25.81992351 & Preprocessor1\\_Model48\\\\\n",
       "\t  39069.3994 & rsq  & standard &         NaN &  0 &          NA & Preprocessor1\\_Model48\\\\\n",
       "\t  62505.5193 & rmse & standard & 390.0824118 & 10 & 25.81992351 & Preprocessor1\\_Model49\\\\\n",
       "\t  62505.5193 & rsq  & standard &         NaN &  0 &          NA & Preprocessor1\\_Model49\\\\\n",
       "\t 100000.0000 & rmse & standard & 390.0824118 & 10 & 25.81992351 & Preprocessor1\\_Model50\\\\\n",
       "\t 100000.0000 & rsq  & standard &         NaN &  0 &          NA & Preprocessor1\\_Model50\\\\\n",
       "\\end{tabular}\n"
      ],
      "text/markdown": [
       "\n",
       "A tibble: 100 × 7\n",
       "\n",
       "| penalty &lt;dbl&gt; | .metric &lt;chr&gt; | .estimator &lt;chr&gt; | mean &lt;dbl&gt; | n &lt;int&gt; | std_err &lt;dbl&gt; | .config &lt;fct&gt; |\n",
       "|---|---|---|---|---|---|---|\n",
       "| 1.000000e-05 | rmse | standard | 292.6114432 | 10 | 22.14329353 | Preprocessor1_Model01 |\n",
       "| 1.000000e-05 | rsq  | standard |   0.4755473 | 10 |  0.05005364 | Preprocessor1_Model01 |\n",
       "| 1.599859e-05 | rmse | standard | 292.6114432 | 10 | 22.14329353 | Preprocessor1_Model02 |\n",
       "| 1.599859e-05 | rsq  | standard |   0.4755473 | 10 |  0.05005364 | Preprocessor1_Model02 |\n",
       "| 2.559548e-05 | rmse | standard | 292.6114432 | 10 | 22.14329353 | Preprocessor1_Model03 |\n",
       "| 2.559548e-05 | rsq  | standard |   0.4755473 | 10 |  0.05005364 | Preprocessor1_Model03 |\n",
       "| 4.094915e-05 | rmse | standard | 292.6114432 | 10 | 22.14329353 | Preprocessor1_Model04 |\n",
       "| 4.094915e-05 | rsq  | standard |   0.4755473 | 10 |  0.05005364 | Preprocessor1_Model04 |\n",
       "| 6.551286e-05 | rmse | standard | 292.6114432 | 10 | 22.14329353 | Preprocessor1_Model05 |\n",
       "| 6.551286e-05 | rsq  | standard |   0.4755473 | 10 |  0.05005364 | Preprocessor1_Model05 |\n",
       "| 1.048113e-04 | rmse | standard | 292.6114432 | 10 | 22.14329353 | Preprocessor1_Model06 |\n",
       "| 1.048113e-04 | rsq  | standard |   0.4755473 | 10 |  0.05005364 | Preprocessor1_Model06 |\n",
       "| 1.676833e-04 | rmse | standard | 292.6114432 | 10 | 22.14329353 | Preprocessor1_Model07 |\n",
       "| 1.676833e-04 | rsq  | standard |   0.4755473 | 10 |  0.05005364 | Preprocessor1_Model07 |\n",
       "| 2.682696e-04 | rmse | standard | 292.6114432 | 10 | 22.14329353 | Preprocessor1_Model08 |\n",
       "| 2.682696e-04 | rsq  | standard |   0.4755473 | 10 |  0.05005364 | Preprocessor1_Model08 |\n",
       "| 4.291934e-04 | rmse | standard | 292.6114432 | 10 | 22.14329353 | Preprocessor1_Model09 |\n",
       "| 4.291934e-04 | rsq  | standard |   0.4755473 | 10 |  0.05005364 | Preprocessor1_Model09 |\n",
       "| 6.866488e-04 | rmse | standard | 292.6114432 | 10 | 22.14329353 | Preprocessor1_Model10 |\n",
       "| 6.866488e-04 | rsq  | standard |   0.4755473 | 10 |  0.05005364 | Preprocessor1_Model10 |\n",
       "| 1.098541e-03 | rmse | standard | 292.6114432 | 10 | 22.14329353 | Preprocessor1_Model11 |\n",
       "| 1.098541e-03 | rsq  | standard |   0.4755473 | 10 |  0.05005364 | Preprocessor1_Model11 |\n",
       "| 1.757511e-03 | rmse | standard | 292.6114432 | 10 | 22.14329353 | Preprocessor1_Model12 |\n",
       "| 1.757511e-03 | rsq  | standard |   0.4755473 | 10 |  0.05005364 | Preprocessor1_Model12 |\n",
       "| 2.811769e-03 | rmse | standard | 292.6114432 | 10 | 22.14329353 | Preprocessor1_Model13 |\n",
       "| 2.811769e-03 | rsq  | standard |   0.4755473 | 10 |  0.05005364 | Preprocessor1_Model13 |\n",
       "| 4.498433e-03 | rmse | standard | 292.6114432 | 10 | 22.14329353 | Preprocessor1_Model14 |\n",
       "| 4.498433e-03 | rsq  | standard |   0.4755473 | 10 |  0.05005364 | Preprocessor1_Model14 |\n",
       "| 7.196857e-03 | rmse | standard | 292.6114432 | 10 | 22.14329353 | Preprocessor1_Model15 |\n",
       "| 7.196857e-03 | rsq  | standard |   0.4755473 | 10 |  0.05005364 | Preprocessor1_Model15 |\n",
       "| ⋮ | ⋮ | ⋮ | ⋮ | ⋮ | ⋮ | ⋮ |\n",
       "|    138.9495 | rmse | standard | 336.9583896 | 10 | 26.88675940 | Preprocessor1_Model36 |\n",
       "|    138.9495 | rsq  | standard |   0.4424737 | 10 |  0.06325793 | Preprocessor1_Model36 |\n",
       "|    222.2996 | rmse | standard | 384.4415278 | 10 | 26.69918609 | Preprocessor1_Model37 |\n",
       "|    222.2996 | rsq  | standard |   0.3823782 |  8 |  0.06699186 | Preprocessor1_Model37 |\n",
       "|    355.6480 | rmse | standard | 390.0824118 | 10 | 25.81992351 | Preprocessor1_Model38 |\n",
       "|    355.6480 | rsq  | standard |         NaN |  0 |          NA | Preprocessor1_Model38 |\n",
       "|    568.9866 | rmse | standard | 390.0824118 | 10 | 25.81992351 | Preprocessor1_Model39 |\n",
       "|    568.9866 | rsq  | standard |         NaN |  0 |          NA | Preprocessor1_Model39 |\n",
       "|    910.2982 | rmse | standard | 390.0824118 | 10 | 25.81992351 | Preprocessor1_Model40 |\n",
       "|    910.2982 | rsq  | standard |         NaN |  0 |          NA | Preprocessor1_Model40 |\n",
       "|   1456.3485 | rmse | standard | 390.0824118 | 10 | 25.81992351 | Preprocessor1_Model41 |\n",
       "|   1456.3485 | rsq  | standard |         NaN |  0 |          NA | Preprocessor1_Model41 |\n",
       "|   2329.9518 | rmse | standard | 390.0824118 | 10 | 25.81992351 | Preprocessor1_Model42 |\n",
       "|   2329.9518 | rsq  | standard |         NaN |  0 |          NA | Preprocessor1_Model42 |\n",
       "|   3727.5937 | rmse | standard | 390.0824118 | 10 | 25.81992351 | Preprocessor1_Model43 |\n",
       "|   3727.5937 | rsq  | standard |         NaN |  0 |          NA | Preprocessor1_Model43 |\n",
       "|   5963.6233 | rmse | standard | 390.0824118 | 10 | 25.81992351 | Preprocessor1_Model44 |\n",
       "|   5963.6233 | rsq  | standard |         NaN |  0 |          NA | Preprocessor1_Model44 |\n",
       "|   9540.9548 | rmse | standard | 390.0824118 | 10 | 25.81992351 | Preprocessor1_Model45 |\n",
       "|   9540.9548 | rsq  | standard |         NaN |  0 |          NA | Preprocessor1_Model45 |\n",
       "|  15264.1797 | rmse | standard | 390.0824118 | 10 | 25.81992351 | Preprocessor1_Model46 |\n",
       "|  15264.1797 | rsq  | standard |         NaN |  0 |          NA | Preprocessor1_Model46 |\n",
       "|  24420.5309 | rmse | standard | 390.0824118 | 10 | 25.81992351 | Preprocessor1_Model47 |\n",
       "|  24420.5309 | rsq  | standard |         NaN |  0 |          NA | Preprocessor1_Model47 |\n",
       "|  39069.3994 | rmse | standard | 390.0824118 | 10 | 25.81992351 | Preprocessor1_Model48 |\n",
       "|  39069.3994 | rsq  | standard |         NaN |  0 |          NA | Preprocessor1_Model48 |\n",
       "|  62505.5193 | rmse | standard | 390.0824118 | 10 | 25.81992351 | Preprocessor1_Model49 |\n",
       "|  62505.5193 | rsq  | standard |         NaN |  0 |          NA | Preprocessor1_Model49 |\n",
       "| 100000.0000 | rmse | standard | 390.0824118 | 10 | 25.81992351 | Preprocessor1_Model50 |\n",
       "| 100000.0000 | rsq  | standard |         NaN |  0 |          NA | Preprocessor1_Model50 |\n",
       "\n"
      ],
      "text/plain": [
       "    penalty      .metric .estimator mean        n  std_err    \n",
       "1   1.000000e-05 rmse    standard   292.6114432 10 22.14329353\n",
       "2   1.000000e-05 rsq     standard     0.4755473 10  0.05005364\n",
       "3   1.599859e-05 rmse    standard   292.6114432 10 22.14329353\n",
       "4   1.599859e-05 rsq     standard     0.4755473 10  0.05005364\n",
       "5   2.559548e-05 rmse    standard   292.6114432 10 22.14329353\n",
       "6   2.559548e-05 rsq     standard     0.4755473 10  0.05005364\n",
       "7   4.094915e-05 rmse    standard   292.6114432 10 22.14329353\n",
       "8   4.094915e-05 rsq     standard     0.4755473 10  0.05005364\n",
       "9   6.551286e-05 rmse    standard   292.6114432 10 22.14329353\n",
       "10  6.551286e-05 rsq     standard     0.4755473 10  0.05005364\n",
       "11  1.048113e-04 rmse    standard   292.6114432 10 22.14329353\n",
       "12  1.048113e-04 rsq     standard     0.4755473 10  0.05005364\n",
       "13  1.676833e-04 rmse    standard   292.6114432 10 22.14329353\n",
       "14  1.676833e-04 rsq     standard     0.4755473 10  0.05005364\n",
       "15  2.682696e-04 rmse    standard   292.6114432 10 22.14329353\n",
       "16  2.682696e-04 rsq     standard     0.4755473 10  0.05005364\n",
       "17  4.291934e-04 rmse    standard   292.6114432 10 22.14329353\n",
       "18  4.291934e-04 rsq     standard     0.4755473 10  0.05005364\n",
       "19  6.866488e-04 rmse    standard   292.6114432 10 22.14329353\n",
       "20  6.866488e-04 rsq     standard     0.4755473 10  0.05005364\n",
       "21  1.098541e-03 rmse    standard   292.6114432 10 22.14329353\n",
       "22  1.098541e-03 rsq     standard     0.4755473 10  0.05005364\n",
       "23  1.757511e-03 rmse    standard   292.6114432 10 22.14329353\n",
       "24  1.757511e-03 rsq     standard     0.4755473 10  0.05005364\n",
       "25  2.811769e-03 rmse    standard   292.6114432 10 22.14329353\n",
       "26  2.811769e-03 rsq     standard     0.4755473 10  0.05005364\n",
       "27  4.498433e-03 rmse    standard   292.6114432 10 22.14329353\n",
       "28  4.498433e-03 rsq     standard     0.4755473 10  0.05005364\n",
       "29  7.196857e-03 rmse    standard   292.6114432 10 22.14329353\n",
       "30  7.196857e-03 rsq     standard     0.4755473 10  0.05005364\n",
       "⋮   ⋮            ⋮       ⋮          ⋮           ⋮  ⋮          \n",
       "71     138.9495  rmse    standard   336.9583896 10 26.88675940\n",
       "72     138.9495  rsq     standard     0.4424737 10  0.06325793\n",
       "73     222.2996  rmse    standard   384.4415278 10 26.69918609\n",
       "74     222.2996  rsq     standard     0.3823782  8  0.06699186\n",
       "75     355.6480  rmse    standard   390.0824118 10 25.81992351\n",
       "76     355.6480  rsq     standard           NaN  0          NA\n",
       "77     568.9866  rmse    standard   390.0824118 10 25.81992351\n",
       "78     568.9866  rsq     standard           NaN  0          NA\n",
       "79     910.2982  rmse    standard   390.0824118 10 25.81992351\n",
       "80     910.2982  rsq     standard           NaN  0          NA\n",
       "81    1456.3485  rmse    standard   390.0824118 10 25.81992351\n",
       "82    1456.3485  rsq     standard           NaN  0          NA\n",
       "83    2329.9518  rmse    standard   390.0824118 10 25.81992351\n",
       "84    2329.9518  rsq     standard           NaN  0          NA\n",
       "85    3727.5937  rmse    standard   390.0824118 10 25.81992351\n",
       "86    3727.5937  rsq     standard           NaN  0          NA\n",
       "87    5963.6233  rmse    standard   390.0824118 10 25.81992351\n",
       "88    5963.6233  rsq     standard           NaN  0          NA\n",
       "89    9540.9548  rmse    standard   390.0824118 10 25.81992351\n",
       "90    9540.9548  rsq     standard           NaN  0          NA\n",
       "91   15264.1797  rmse    standard   390.0824118 10 25.81992351\n",
       "92   15264.1797  rsq     standard           NaN  0          NA\n",
       "93   24420.5309  rmse    standard   390.0824118 10 25.81992351\n",
       "94   24420.5309  rsq     standard           NaN  0          NA\n",
       "95   39069.3994  rmse    standard   390.0824118 10 25.81992351\n",
       "96   39069.3994  rsq     standard           NaN  0          NA\n",
       "97   62505.5193  rmse    standard   390.0824118 10 25.81992351\n",
       "98   62505.5193  rsq     standard           NaN  0          NA\n",
       "99  100000.0000  rmse    standard   390.0824118 10 25.81992351\n",
       "100 100000.0000  rsq     standard           NaN  0          NA\n",
       "    .config              \n",
       "1   Preprocessor1_Model01\n",
       "2   Preprocessor1_Model01\n",
       "3   Preprocessor1_Model02\n",
       "4   Preprocessor1_Model02\n",
       "5   Preprocessor1_Model03\n",
       "6   Preprocessor1_Model03\n",
       "7   Preprocessor1_Model04\n",
       "8   Preprocessor1_Model04\n",
       "9   Preprocessor1_Model05\n",
       "10  Preprocessor1_Model05\n",
       "11  Preprocessor1_Model06\n",
       "12  Preprocessor1_Model06\n",
       "13  Preprocessor1_Model07\n",
       "14  Preprocessor1_Model07\n",
       "15  Preprocessor1_Model08\n",
       "16  Preprocessor1_Model08\n",
       "17  Preprocessor1_Model09\n",
       "18  Preprocessor1_Model09\n",
       "19  Preprocessor1_Model10\n",
       "20  Preprocessor1_Model10\n",
       "21  Preprocessor1_Model11\n",
       "22  Preprocessor1_Model11\n",
       "23  Preprocessor1_Model12\n",
       "24  Preprocessor1_Model12\n",
       "25  Preprocessor1_Model13\n",
       "26  Preprocessor1_Model13\n",
       "27  Preprocessor1_Model14\n",
       "28  Preprocessor1_Model14\n",
       "29  Preprocessor1_Model15\n",
       "30  Preprocessor1_Model15\n",
       "⋮   ⋮                    \n",
       "71  Preprocessor1_Model36\n",
       "72  Preprocessor1_Model36\n",
       "73  Preprocessor1_Model37\n",
       "74  Preprocessor1_Model37\n",
       "75  Preprocessor1_Model38\n",
       "76  Preprocessor1_Model38\n",
       "77  Preprocessor1_Model39\n",
       "78  Preprocessor1_Model39\n",
       "79  Preprocessor1_Model40\n",
       "80  Preprocessor1_Model40\n",
       "81  Preprocessor1_Model41\n",
       "82  Preprocessor1_Model41\n",
       "83  Preprocessor1_Model42\n",
       "84  Preprocessor1_Model42\n",
       "85  Preprocessor1_Model43\n",
       "86  Preprocessor1_Model43\n",
       "87  Preprocessor1_Model44\n",
       "88  Preprocessor1_Model44\n",
       "89  Preprocessor1_Model45\n",
       "90  Preprocessor1_Model45\n",
       "91  Preprocessor1_Model46\n",
       "92  Preprocessor1_Model46\n",
       "93  Preprocessor1_Model47\n",
       "94  Preprocessor1_Model47\n",
       "95  Preprocessor1_Model48\n",
       "96  Preprocessor1_Model48\n",
       "97  Preprocessor1_Model49\n",
       "98  Preprocessor1_Model49\n",
       "99  Preprocessor1_Model50\n",
       "100 Preprocessor1_Model50"
      ]
     },
     "metadata": {},
     "output_type": "display_data"
    }
   ],
   "source": [
    "collect_metrics(tune_res)"
   ]
  },
  {
   "cell_type": "markdown",
   "metadata": {
    "deletable": false,
    "editable": false,
    "nbgrader": {
     "cell_type": "markdown",
     "checksum": "4fe9b410a6006a6c711a5a3603ae1563",
     "grade": false,
     "grade_id": "cell-68bad29f91a09bff",
     "locked": true,
     "schema_version": 3,
     "solution": false,
     "task": false
    }
   },
   "source": [
    "The \"best\" values of this can be selected using `select_best()`, this function requires you to specify a `metric` that it should select against; use \"rsq\" for your metric. Your output variable here will be `best_penalty`. \n"
   ]
  },
  {
   "cell_type": "code",
   "execution_count": 25,
   "metadata": {
    "deletable": false,
    "nbgrader": {
     "cell_type": "code",
     "checksum": "808d99464fe46e7576330cf73746d4d1",
     "grade": false,
     "grade_id": "cell-0d6f842a8625f495",
     "locked": false,
     "schema_version": 3,
     "solution": true,
     "task": false
    }
   },
   "outputs": [
    {
     "data": {
      "text/html": [
       "<table>\n",
       "<caption>A tibble: 1 × 2</caption>\n",
       "<thead>\n",
       "\t<tr><th scope=col>penalty</th><th scope=col>.config</th></tr>\n",
       "\t<tr><th scope=col>&lt;dbl&gt;</th><th scope=col>&lt;fct&gt;</th></tr>\n",
       "</thead>\n",
       "<tbody>\n",
       "\t<tr><td>5.179475</td><td>Preprocessor1_Model29</td></tr>\n",
       "</tbody>\n",
       "</table>\n"
      ],
      "text/latex": [
       "A tibble: 1 × 2\n",
       "\\begin{tabular}{ll}\n",
       " penalty & .config\\\\\n",
       " <dbl> & <fct>\\\\\n",
       "\\hline\n",
       "\t 5.179475 & Preprocessor1\\_Model29\\\\\n",
       "\\end{tabular}\n"
      ],
      "text/markdown": [
       "\n",
       "A tibble: 1 × 2\n",
       "\n",
       "| penalty &lt;dbl&gt; | .config &lt;fct&gt; |\n",
       "|---|---|\n",
       "| 5.179475 | Preprocessor1_Model29 |\n",
       "\n"
      ],
      "text/plain": [
       "  penalty  .config              \n",
       "1 5.179475 Preprocessor1_Model29"
      ]
     },
     "metadata": {},
     "output_type": "display_data"
    }
   ],
   "source": [
    "# Your code here \n",
    "best_penalty <- select_best(tune_res ,metric = 'rsq')\n",
    "\n",
    "best_penalty"
   ]
  },
  {
   "cell_type": "code",
   "execution_count": 26,
   "metadata": {
    "deletable": false,
    "editable": false,
    "nbgrader": {
     "cell_type": "code",
     "checksum": "7995ed0b89c143623420d6046e44fe41",
     "grade": true,
     "grade_id": "cell-2f357988b2a8bef2",
     "locked": true,
     "points": 1,
     "schema_version": 3,
     "solution": false,
     "task": false
    }
   },
   "outputs": [],
   "source": [
    "# Hidden Tests"
   ]
  },
  {
   "cell_type": "markdown",
   "metadata": {
    "deletable": false,
    "editable": false,
    "nbgrader": {
     "cell_type": "markdown",
     "checksum": "24be51b909e1d15e702220cba9289be1",
     "grade": false,
     "grade_id": "cell-42a1716bb67ef782",
     "locked": true,
     "schema_version": 3,
     "solution": false,
     "task": false
    }
   },
   "source": [
    "This value of `penalty` can then be used with `finalize_workflow()` to update/finalize the recipe by replacing `tune()` with the value of `best_penalty`. Now, this model should be fit again, this time using the whole training data set."
   ]
  },
  {
   "cell_type": "code",
   "execution_count": 27,
   "metadata": {
    "deletable": false,
    "editable": false,
    "nbgrader": {
     "cell_type": "code",
     "checksum": "c42304832dbed7a7b9ba65b8ee98ab2c",
     "grade": false,
     "grade_id": "cell-6d1962a650b51696",
     "locked": true,
     "schema_version": 3,
     "solution": false,
     "task": false
    }
   },
   "outputs": [],
   "source": [
    "ridge_final <- finalize_workflow(ridge_workflow, best_penalty)\n",
    "ridge_final_fit <- fit(ridge_final, data = Hitters_train)"
   ]
  },
  {
   "cell_type": "markdown",
   "metadata": {
    "deletable": false,
    "editable": false,
    "nbgrader": {
     "cell_type": "markdown",
     "checksum": "d1383aacf17ef44c256607d4bc6801da",
     "grade": false,
     "grade_id": "cell-30f6ab7fc317da04",
     "locked": true,
     "schema_version": 3,
     "solution": false,
     "task": false
    }
   },
   "source": [
    "This final model can now be applied on your testing data set to validate the performance. Go ahead and perfrom this task. You will use both the`augment` and the `rsq` function. What do you notice? \n"
   ]
  },
  {
   "cell_type": "code",
   "execution_count": 28,
   "metadata": {
    "deletable": false,
    "editable": false,
    "nbgrader": {
     "cell_type": "code",
     "checksum": "de418ebf46b2125c254a20eb9e02115e",
     "grade": false,
     "grade_id": "cell-a5696e0de0063018",
     "locked": true,
     "schema_version": 3,
     "solution": false,
     "task": false
    }
   },
   "outputs": [
    {
     "data": {
      "text/html": [
       "<table>\n",
       "<caption>A tibble: 1 × 3</caption>\n",
       "<thead>\n",
       "\t<tr><th scope=col>.metric</th><th scope=col>.estimator</th><th scope=col>.estimate</th></tr>\n",
       "\t<tr><th scope=col>&lt;chr&gt;</th><th scope=col>&lt;chr&gt;</th><th scope=col>&lt;dbl&gt;</th></tr>\n",
       "</thead>\n",
       "<tbody>\n",
       "\t<tr><td>rsq</td><td>standard</td><td>0.4006274</td></tr>\n",
       "</tbody>\n",
       "</table>\n"
      ],
      "text/latex": [
       "A tibble: 1 × 3\n",
       "\\begin{tabular}{lll}\n",
       " .metric & .estimator & .estimate\\\\\n",
       " <chr> & <chr> & <dbl>\\\\\n",
       "\\hline\n",
       "\t rsq & standard & 0.4006274\\\\\n",
       "\\end{tabular}\n"
      ],
      "text/markdown": [
       "\n",
       "A tibble: 1 × 3\n",
       "\n",
       "| .metric &lt;chr&gt; | .estimator &lt;chr&gt; | .estimate &lt;dbl&gt; |\n",
       "|---|---|---|\n",
       "| rsq | standard | 0.4006274 |\n",
       "\n"
      ],
      "text/plain": [
       "  .metric .estimator .estimate\n",
       "1 rsq     standard   0.4006274"
      ]
     },
     "metadata": {},
     "output_type": "display_data"
    }
   ],
   "source": [
    "augment(ridge_final_fit, new_data = Hitters_test) %>%\n",
    "  rsq(truth = Salary, estimate = .pred)"
   ]
  },
  {
   "cell_type": "code",
   "execution_count": null,
   "metadata": {},
   "outputs": [],
   "source": []
  },
  {
   "cell_type": "code",
   "execution_count": null,
   "metadata": {},
   "outputs": [],
   "source": []
  },
  {
   "cell_type": "code",
   "execution_count": null,
   "metadata": {},
   "outputs": [],
   "source": []
  }
 ],
 "metadata": {
  "kernelspec": {
   "display_name": "R",
   "language": "R",
   "name": "ir"
  },
  "language_info": {
   "codemirror_mode": "r",
   "file_extension": ".r",
   "mimetype": "text/x-r-source",
   "name": "R",
   "pygments_lexer": "r",
   "version": "3.6.3"
  }
 },
 "nbformat": 4,
 "nbformat_minor": 5
}
